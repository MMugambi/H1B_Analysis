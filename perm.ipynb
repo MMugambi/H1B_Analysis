{
 "cells": [
  {
   "cell_type": "markdown",
   "metadata": {},
   "source": [
    "<b>Data Source </b> <a href>https://www.dol.gov/agencies/eta/foreign-labor/performance</a>"
   ]
  },
  {
   "cell_type": "code",
   "execution_count": 1,
   "metadata": {},
   "outputs": [],
   "source": [
    "import pandas as pd\n",
    "import numpy as np\n",
    "import plotly.express as px\n",
    "from IPython.display import display"
   ]
  },
  {
   "cell_type": "code",
   "execution_count": 2,
   "metadata": {},
   "outputs": [],
   "source": [
    "lca = pd.read_excel('LCA_Disclosure.xlsx',sheet_name='LCA_Disclosure_Data_FY2025_Q2')\n",
    "perm = pd.read_excel('PERM_Disclosure.xlsx', sheet_name='PERM_FY2025_Q2_old')"
   ]
  },
  {
   "cell_type": "code",
   "execution_count": 14,
   "metadata": {},
   "outputs": [
    {
     "data": {
      "text/html": [
       "<div>\n",
       "<style scoped>\n",
       "    .dataframe tbody tr th:only-of-type {\n",
       "        vertical-align: middle;\n",
       "    }\n",
       "\n",
       "    .dataframe tbody tr th {\n",
       "        vertical-align: top;\n",
       "    }\n",
       "\n",
       "    .dataframe thead th {\n",
       "        text-align: right;\n",
       "    }\n",
       "</style>\n",
       "<table border=\"1\" class=\"dataframe\">\n",
       "  <thead>\n",
       "    <tr style=\"text-align: right;\">\n",
       "      <th></th>\n",
       "      <th>CASE_NUMBER</th>\n",
       "      <th>CASE_STATUS</th>\n",
       "      <th>RECEIVED_DATE</th>\n",
       "      <th>DECISION_DATE</th>\n",
       "      <th>ORIGINAL_CERT_DATE</th>\n",
       "      <th>VISA_CLASS</th>\n",
       "      <th>JOB_TITLE</th>\n",
       "      <th>SOC_CODE</th>\n",
       "      <th>SOC_TITLE</th>\n",
       "      <th>FULL_TIME_POSITION</th>\n",
       "      <th>BEGIN_DATE</th>\n",
       "      <th>END_DATE</th>\n",
       "      <th>TOTAL_WORKER_POSITIONS</th>\n",
       "      <th>NEW_EMPLOYMENT</th>\n",
       "      <th>CONTINUED_EMPLOYMENT</th>\n",
       "      <th>CHANGE_PREVIOUS_EMPLOYMENT</th>\n",
       "      <th>NEW_CONCURRENT_EMPLOYMENT</th>\n",
       "      <th>CHANGE_EMPLOYER</th>\n",
       "      <th>AMENDED_PETITION</th>\n",
       "      <th>EMPLOYER_NAME</th>\n",
       "      <th>TRADE_NAME_DBA</th>\n",
       "      <th>EMPLOYER_ADDRESS1</th>\n",
       "      <th>EMPLOYER_ADDRESS2</th>\n",
       "      <th>EMPLOYER_CITY</th>\n",
       "      <th>EMPLOYER_STATE</th>\n",
       "      <th>EMPLOYER_POSTAL_CODE</th>\n",
       "      <th>EMPLOYER_COUNTRY</th>\n",
       "      <th>EMPLOYER_PROVINCE</th>\n",
       "      <th>EMPLOYER_PHONE</th>\n",
       "      <th>EMPLOYER_PHONE_EXT</th>\n",
       "      <th>EMPLOYER_FEIN</th>\n",
       "      <th>NAICS_CODE</th>\n",
       "      <th>EMPLOYER_POC_LAST_NAME</th>\n",
       "      <th>EMPLOYER_POC_FIRST_NAME</th>\n",
       "      <th>EMPLOYER_POC_MIDDLE_NAME</th>\n",
       "      <th>EMPLOYER_POC_JOB_TITLE</th>\n",
       "      <th>EMPLOYER_POC_ADDRESS1</th>\n",
       "      <th>EMPLOYER_POC_ADDRESS2</th>\n",
       "      <th>EMPLOYER_POC_CITY</th>\n",
       "      <th>EMPLOYER_POC_STATE</th>\n",
       "      <th>EMPLOYER_POC_POSTAL_CODE</th>\n",
       "      <th>EMPLOYER_POC_COUNTRY</th>\n",
       "      <th>EMPLOYER_POC_PROVINCE</th>\n",
       "      <th>EMPLOYER_POC_PHONE</th>\n",
       "      <th>EMPLOYER_POC_PHONE_EXT</th>\n",
       "      <th>EMPLOYER_POC_EMAIL</th>\n",
       "      <th>AGENT_REPRESENTING_EMPLOYER</th>\n",
       "      <th>AGENT_ATTORNEY_LAST_NAME</th>\n",
       "      <th>AGENT_ATTORNEY_FIRST_NAME</th>\n",
       "      <th>AGENT_ATTORNEY_MIDDLE_NAME</th>\n",
       "      <th>AGENT_ATTORNEY_ADDRESS1</th>\n",
       "      <th>AGENT_ATTORNEY_ADDRESS2</th>\n",
       "      <th>AGENT_ATTORNEY_CITY</th>\n",
       "      <th>AGENT_ATTORNEY_STATE</th>\n",
       "      <th>AGENT_ATTORNEY_POSTAL_CODE</th>\n",
       "      <th>AGENT_ATTORNEY_COUNTRY</th>\n",
       "      <th>AGENT_ATTORNEY_PROVINCE</th>\n",
       "      <th>AGENT_ATTORNEY_PHONE</th>\n",
       "      <th>AGENT_ATTORNEY_PHONE_EXT</th>\n",
       "      <th>AGENT_ATTORNEY_EMAIL_ADDRESS</th>\n",
       "      <th>LAWFIRM_NAME_BUSINESS_NAME</th>\n",
       "      <th>STATE_OF_HIGHEST_COURT</th>\n",
       "      <th>NAME_OF_HIGHEST_STATE_COURT</th>\n",
       "      <th>WORKSITE_WORKERS</th>\n",
       "      <th>SECONDARY_ENTITY</th>\n",
       "      <th>SECONDARY_ENTITY_BUSINESS_NAME</th>\n",
       "      <th>WORKSITE_ADDRESS1</th>\n",
       "      <th>WORKSITE_ADDRESS2</th>\n",
       "      <th>WORKSITE_CITY</th>\n",
       "      <th>WORKSITE_COUNTY</th>\n",
       "      <th>WORKSITE_STATE</th>\n",
       "      <th>WORKSITE_POSTAL_CODE</th>\n",
       "      <th>WAGE_RATE_OF_PAY_FROM</th>\n",
       "      <th>WAGE_RATE_OF_PAY_TO</th>\n",
       "      <th>WAGE_UNIT_OF_PAY</th>\n",
       "      <th>PREVAILING_WAGE</th>\n",
       "      <th>PW_UNIT_OF_PAY</th>\n",
       "      <th>PW_TRACKING_NUMBER</th>\n",
       "      <th>PW_WAGE_LEVEL</th>\n",
       "      <th>PW_OES_YEAR</th>\n",
       "      <th>PW_OTHER_SOURCE</th>\n",
       "      <th>PW_OTHER_YEAR</th>\n",
       "      <th>PW_SURVEY_PUBLISHER</th>\n",
       "      <th>PW_SURVEY_NAME</th>\n",
       "      <th>TOTAL_WORKSITE_LOCATIONS</th>\n",
       "      <th>AGREE_TO_LC_STATEMENT</th>\n",
       "      <th>H_1B_DEPENDENT</th>\n",
       "      <th>WILLFUL_VIOLATOR</th>\n",
       "      <th>SUPPORT_H1B</th>\n",
       "      <th>STATUTORY_BASIS</th>\n",
       "      <th>APPENDIX_A_ATTACHED</th>\n",
       "      <th>PUBLIC_DISCLOSURE</th>\n",
       "      <th>PREPARER_LAST_NAME</th>\n",
       "      <th>PREPARER_FIRST_NAME</th>\n",
       "      <th>PREPARER_MIDDLE_INITIAL</th>\n",
       "      <th>PREPARER_BUSINESS_NAME</th>\n",
       "      <th>PREPARER_EMAIL</th>\n",
       "    </tr>\n",
       "  </thead>\n",
       "  <tbody>\n",
       "    <tr>\n",
       "      <th>0</th>\n",
       "      <td>I-200-25090-814321</td>\n",
       "      <td>Withdrawn</td>\n",
       "      <td>2025-03-31</td>\n",
       "      <td>2025-03-31</td>\n",
       "      <td>NaT</td>\n",
       "      <td>H-1B</td>\n",
       "      <td>Director - Software Development</td>\n",
       "      <td>15-1252.00</td>\n",
       "      <td>Software Developers</td>\n",
       "      <td>N</td>\n",
       "      <td>2025-04-08</td>\n",
       "      <td>2028-04-07</td>\n",
       "      <td>1</td>\n",
       "      <td>0</td>\n",
       "      <td>0</td>\n",
       "      <td>0</td>\n",
       "      <td>0</td>\n",
       "      <td>0</td>\n",
       "      <td>1</td>\n",
       "      <td>BioData Solutions</td>\n",
       "      <td>NaN</td>\n",
       "      <td>1021 1/2 Massachusetts Street</td>\n",
       "      <td>Ste. 4</td>\n",
       "      <td>Lawrence</td>\n",
       "      <td>KS</td>\n",
       "      <td>66044</td>\n",
       "      <td>UNITED STATES OF AMERICA</td>\n",
       "      <td>NaN</td>\n",
       "      <td>17858450648</td>\n",
       "      <td>NaN</td>\n",
       "      <td>47-3690816</td>\n",
       "      <td>541690</td>\n",
       "      <td>Taylor</td>\n",
       "      <td>Brittany</td>\n",
       "      <td>NaN</td>\n",
       "      <td>Head of Operations</td>\n",
       "      <td>1021 1/2 Massachusetts Street</td>\n",
       "      <td>Ste. 4</td>\n",
       "      <td>Lawrence</td>\n",
       "      <td>KS</td>\n",
       "      <td>66044</td>\n",
       "      <td>UNITED STATES OF AMERICA</td>\n",
       "      <td>NaN</td>\n",
       "      <td>17858450648</td>\n",
       "      <td>NaN</td>\n",
       "      <td>btaylor@bdatasolutions.com</td>\n",
       "      <td>Yes</td>\n",
       "      <td>Ray</td>\n",
       "      <td>Anthony</td>\n",
       "      <td>L</td>\n",
       "      <td>35 E Wacker Drive</td>\n",
       "      <td>Suite 650</td>\n",
       "      <td>Chicago</td>\n",
       "      <td>IL</td>\n",
       "      <td>60601</td>\n",
       "      <td>UNITED STATES OF AMERICA</td>\n",
       "      <td>MI</td>\n",
       "      <td>1.248736e+10</td>\n",
       "      <td>NaN</td>\n",
       "      <td>raylawcases@raylawinternational.com</td>\n",
       "      <td>ray law international pc</td>\n",
       "      <td>MI</td>\n",
       "      <td>Supreme Court</td>\n",
       "      <td>1</td>\n",
       "      <td>No</td>\n",
       "      <td>NaN</td>\n",
       "      <td>1086 W King RD</td>\n",
       "      <td>EL-112</td>\n",
       "      <td>Malvern</td>\n",
       "      <td>CHESTER</td>\n",
       "      <td>PA</td>\n",
       "      <td>19355</td>\n",
       "      <td>60.41</td>\n",
       "      <td>NaN</td>\n",
       "      <td>Hour</td>\n",
       "      <td>60.41</td>\n",
       "      <td>Hour</td>\n",
       "      <td>NaN</td>\n",
       "      <td>III</td>\n",
       "      <td>7/1/2024 - 6/30/2025</td>\n",
       "      <td>NaN</td>\n",
       "      <td>NaN</td>\n",
       "      <td>NaN</td>\n",
       "      <td>NaN</td>\n",
       "      <td>1</td>\n",
       "      <td>Yes</td>\n",
       "      <td>No</td>\n",
       "      <td>No</td>\n",
       "      <td>NaN</td>\n",
       "      <td>NaN</td>\n",
       "      <td>NaN</td>\n",
       "      <td>Disclose Business</td>\n",
       "      <td>Esily</td>\n",
       "      <td>Hady</td>\n",
       "      <td>NaN</td>\n",
       "      <td>Ray Law International P.C.</td>\n",
       "      <td>raylawcases@raylawinternational.com</td>\n",
       "    </tr>\n",
       "    <tr>\n",
       "      <th>1</th>\n",
       "      <td>I-200-25090-815325</td>\n",
       "      <td>Withdrawn</td>\n",
       "      <td>2025-03-31</td>\n",
       "      <td>2025-03-31</td>\n",
       "      <td>NaT</td>\n",
       "      <td>H-1B</td>\n",
       "      <td>IT Consultant(Peoplesoft Developer)</td>\n",
       "      <td>15-1252.00</td>\n",
       "      <td>Software Developers</td>\n",
       "      <td>Y</td>\n",
       "      <td>2025-03-31</td>\n",
       "      <td>2028-03-30</td>\n",
       "      <td>1</td>\n",
       "      <td>0</td>\n",
       "      <td>0</td>\n",
       "      <td>1</td>\n",
       "      <td>0</td>\n",
       "      <td>0</td>\n",
       "      <td>0</td>\n",
       "      <td>People Tech Group, Inc</td>\n",
       "      <td>NaN</td>\n",
       "      <td>18300 Redmond Way</td>\n",
       "      <td>Suite #210</td>\n",
       "      <td>Redmond</td>\n",
       "      <td>WA</td>\n",
       "      <td>98052</td>\n",
       "      <td>UNITED STATES OF AMERICA</td>\n",
       "      <td>NaN</td>\n",
       "      <td>14258666149</td>\n",
       "      <td>NaN</td>\n",
       "      <td>26-3665565</td>\n",
       "      <td>541511</td>\n",
       "      <td>Rajdev</td>\n",
       "      <td>Reema</td>\n",
       "      <td>NaN</td>\n",
       "      <td>HR Legal Compliance Specialist</td>\n",
       "      <td>18300 Redmond Way</td>\n",
       "      <td>Suite #210</td>\n",
       "      <td>Redmond</td>\n",
       "      <td>WA</td>\n",
       "      <td>98052</td>\n",
       "      <td>UNITED STATES OF AMERICA</td>\n",
       "      <td>NaN</td>\n",
       "      <td>14258666149</td>\n",
       "      <td>NaN</td>\n",
       "      <td>Internal.immigration@Peopletech.com</td>\n",
       "      <td>Yes</td>\n",
       "      <td>Mannam</td>\n",
       "      <td>Ravi</td>\n",
       "      <td>NaN</td>\n",
       "      <td>3651 Peachtree Parkway</td>\n",
       "      <td>Suite E-360</td>\n",
       "      <td>Suwanee</td>\n",
       "      <td>GA</td>\n",
       "      <td>30024</td>\n",
       "      <td>UNITED STATES OF AMERICA</td>\n",
       "      <td>NaN</td>\n",
       "      <td>1.877596e+10</td>\n",
       "      <td>NaN</td>\n",
       "      <td>Lawxpert@yahoo.com</td>\n",
       "      <td>Mannam &amp; Associates, LLC</td>\n",
       "      <td>TN</td>\n",
       "      <td>Supreme Court</td>\n",
       "      <td>1</td>\n",
       "      <td>Yes</td>\n",
       "      <td>Remote work from home Amazon</td>\n",
       "      <td>37061 N BONNIE BRAE RD</td>\n",
       "      <td>NaN</td>\n",
       "      <td>Lake Villa</td>\n",
       "      <td>LAKE</td>\n",
       "      <td>IL</td>\n",
       "      <td>60046</td>\n",
       "      <td>127754.00</td>\n",
       "      <td>127755.0</td>\n",
       "      <td>Year</td>\n",
       "      <td>127754.00</td>\n",
       "      <td>Year</td>\n",
       "      <td>NaN</td>\n",
       "      <td>III</td>\n",
       "      <td>7/1/2024 - 6/30/2025</td>\n",
       "      <td>NaN</td>\n",
       "      <td>NaN</td>\n",
       "      <td>NaN</td>\n",
       "      <td>NaN</td>\n",
       "      <td>2</td>\n",
       "      <td>Yes</td>\n",
       "      <td>Yes</td>\n",
       "      <td>No</td>\n",
       "      <td>Yes</td>\n",
       "      <td>$60,000 or higher annual wage</td>\n",
       "      <td>NaN</td>\n",
       "      <td>Disclose Business</td>\n",
       "      <td>NaN</td>\n",
       "      <td>NaN</td>\n",
       "      <td>NaN</td>\n",
       "      <td>NaN</td>\n",
       "      <td>NaN</td>\n",
       "    </tr>\n",
       "    <tr>\n",
       "      <th>2</th>\n",
       "      <td>I-200-25090-814481</td>\n",
       "      <td>Withdrawn</td>\n",
       "      <td>2025-03-31</td>\n",
       "      <td>2025-03-31</td>\n",
       "      <td>NaT</td>\n",
       "      <td>H-1B</td>\n",
       "      <td>Software Developer</td>\n",
       "      <td>15-1252.00</td>\n",
       "      <td>Software Developers</td>\n",
       "      <td>Y</td>\n",
       "      <td>2025-04-09</td>\n",
       "      <td>2028-04-08</td>\n",
       "      <td>1</td>\n",
       "      <td>0</td>\n",
       "      <td>0</td>\n",
       "      <td>0</td>\n",
       "      <td>0</td>\n",
       "      <td>1</td>\n",
       "      <td>0</td>\n",
       "      <td>FutureTech Consultants LLC</td>\n",
       "      <td>NaN</td>\n",
       "      <td>5655 Peachtree Parkway</td>\n",
       "      <td>Suite 212</td>\n",
       "      <td>Peachtree Corners</td>\n",
       "      <td>GA</td>\n",
       "      <td>30092</td>\n",
       "      <td>UNITED STATES OF AMERICA</td>\n",
       "      <td>NaN</td>\n",
       "      <td>16789907777</td>\n",
       "      <td>403.0</td>\n",
       "      <td>58-2310897</td>\n",
       "      <td>541511</td>\n",
       "      <td>Balusu</td>\n",
       "      <td>Anj</td>\n",
       "      <td>NaN</td>\n",
       "      <td>General Manager</td>\n",
       "      <td>5655 Peachtree Parkway</td>\n",
       "      <td>Suite 212</td>\n",
       "      <td>Peachtree Corners</td>\n",
       "      <td>GA</td>\n",
       "      <td>30092</td>\n",
       "      <td>UNITED STATES OF AMERICA</td>\n",
       "      <td>NaN</td>\n",
       "      <td>16789907777</td>\n",
       "      <td>403.0</td>\n",
       "      <td>anj@ftc.bz</td>\n",
       "      <td>Yes</td>\n",
       "      <td>Tripathi</td>\n",
       "      <td>Priti</td>\n",
       "      <td>NaN</td>\n",
       "      <td>5655 Peachtree Parkway</td>\n",
       "      <td>Suite 103</td>\n",
       "      <td>Peachtree Corners</td>\n",
       "      <td>GA</td>\n",
       "      <td>30092</td>\n",
       "      <td>UNITED STATES OF AMERICA</td>\n",
       "      <td>NaN</td>\n",
       "      <td>1.678459e+10</td>\n",
       "      <td>NaN</td>\n",
       "      <td>priti@tripathilawfirm.com</td>\n",
       "      <td>Law Offices of Priti Tripathi, PC</td>\n",
       "      <td>GA</td>\n",
       "      <td>Superior Court</td>\n",
       "      <td>1</td>\n",
       "      <td>No</td>\n",
       "      <td>NaN</td>\n",
       "      <td>5655 Peachtree Pkwy</td>\n",
       "      <td>Suite 212</td>\n",
       "      <td>Peachtree Corners</td>\n",
       "      <td>GWINNETT</td>\n",
       "      <td>GA</td>\n",
       "      <td>30092</td>\n",
       "      <td>105227.00</td>\n",
       "      <td>NaN</td>\n",
       "      <td>Year</td>\n",
       "      <td>105227.00</td>\n",
       "      <td>Year</td>\n",
       "      <td>NaN</td>\n",
       "      <td>II</td>\n",
       "      <td>7/1/2024 - 6/30/2025</td>\n",
       "      <td>NaN</td>\n",
       "      <td>NaN</td>\n",
       "      <td>NaN</td>\n",
       "      <td>NaN</td>\n",
       "      <td>1</td>\n",
       "      <td>Yes</td>\n",
       "      <td>No</td>\n",
       "      <td>No</td>\n",
       "      <td>NaN</td>\n",
       "      <td>NaN</td>\n",
       "      <td>NaN</td>\n",
       "      <td>Disclose Business</td>\n",
       "      <td>NaN</td>\n",
       "      <td>NaN</td>\n",
       "      <td>NaN</td>\n",
       "      <td>NaN</td>\n",
       "      <td>NaN</td>\n",
       "    </tr>\n",
       "    <tr>\n",
       "      <th>3</th>\n",
       "      <td>I-200-25090-813856</td>\n",
       "      <td>Withdrawn</td>\n",
       "      <td>2025-03-31</td>\n",
       "      <td>2025-03-31</td>\n",
       "      <td>NaT</td>\n",
       "      <td>H-1B</td>\n",
       "      <td>Assistant Professor</td>\n",
       "      <td>25-1071.00</td>\n",
       "      <td>Health Specialties Teachers, Postsecondary</td>\n",
       "      <td>Y</td>\n",
       "      <td>2025-06-01</td>\n",
       "      <td>2028-05-31</td>\n",
       "      <td>1</td>\n",
       "      <td>1</td>\n",
       "      <td>0</td>\n",
       "      <td>0</td>\n",
       "      <td>0</td>\n",
       "      <td>0</td>\n",
       "      <td>0</td>\n",
       "      <td>Texas A&amp;M University</td>\n",
       "      <td>NaN</td>\n",
       "      <td>1158 TAMU</td>\n",
       "      <td>NaN</td>\n",
       "      <td>College Station</td>\n",
       "      <td>TX</td>\n",
       "      <td>77843</td>\n",
       "      <td>UNITED STATES OF AMERICA</td>\n",
       "      <td>NaN</td>\n",
       "      <td>19798621719</td>\n",
       "      <td>NaN</td>\n",
       "      <td>74-6000531</td>\n",
       "      <td>611310</td>\n",
       "      <td>Pope</td>\n",
       "      <td>Erin</td>\n",
       "      <td>NaN</td>\n",
       "      <td>Assistant Director</td>\n",
       "      <td>1158 TAMU</td>\n",
       "      <td>NaN</td>\n",
       "      <td>College Station</td>\n",
       "      <td>TX</td>\n",
       "      <td>77843</td>\n",
       "      <td>UNITED STATES OF AMERICA</td>\n",
       "      <td>NaN</td>\n",
       "      <td>19798621719</td>\n",
       "      <td>NaN</td>\n",
       "      <td>epope@tamu.edu</td>\n",
       "      <td>No</td>\n",
       "      <td>NaN</td>\n",
       "      <td>NaN</td>\n",
       "      <td>NaN</td>\n",
       "      <td>NaN</td>\n",
       "      <td>NaN</td>\n",
       "      <td>NaN</td>\n",
       "      <td>NaN</td>\n",
       "      <td>NaN</td>\n",
       "      <td>NaN</td>\n",
       "      <td>NaN</td>\n",
       "      <td>NaN</td>\n",
       "      <td>NaN</td>\n",
       "      <td>NaN</td>\n",
       "      <td>NaN</td>\n",
       "      <td>NaN</td>\n",
       "      <td>NaN</td>\n",
       "      <td>1</td>\n",
       "      <td>No</td>\n",
       "      <td>NaN</td>\n",
       "      <td>212 Adriance Lab Rd.</td>\n",
       "      <td>NaN</td>\n",
       "      <td>College Station</td>\n",
       "      <td>BRAZOS</td>\n",
       "      <td>TX</td>\n",
       "      <td>77843</td>\n",
       "      <td>125000.00</td>\n",
       "      <td>NaN</td>\n",
       "      <td>Year</td>\n",
       "      <td>89040.00</td>\n",
       "      <td>Year</td>\n",
       "      <td>NaN</td>\n",
       "      <td>I</td>\n",
       "      <td>7/1/2024 - 6/30/2025</td>\n",
       "      <td>NaN</td>\n",
       "      <td>NaN</td>\n",
       "      <td>NaN</td>\n",
       "      <td>NaN</td>\n",
       "      <td>1</td>\n",
       "      <td>Yes</td>\n",
       "      <td>No</td>\n",
       "      <td>No</td>\n",
       "      <td>NaN</td>\n",
       "      <td>NaN</td>\n",
       "      <td>NaN</td>\n",
       "      <td>Disclose Business</td>\n",
       "      <td>NaN</td>\n",
       "      <td>NaN</td>\n",
       "      <td>NaN</td>\n",
       "      <td>NaN</td>\n",
       "      <td>NaN</td>\n",
       "    </tr>\n",
       "    <tr>\n",
       "      <th>4</th>\n",
       "      <td>I-200-25090-813621</td>\n",
       "      <td>Withdrawn</td>\n",
       "      <td>2025-03-31</td>\n",
       "      <td>2025-03-31</td>\n",
       "      <td>NaT</td>\n",
       "      <td>H-1B</td>\n",
       "      <td>Enterprise Resource Planning Advisor</td>\n",
       "      <td>15-1253.00</td>\n",
       "      <td>Software Quality Assurance Analysts and Testers</td>\n",
       "      <td>Y</td>\n",
       "      <td>2025-04-04</td>\n",
       "      <td>2028-04-03</td>\n",
       "      <td>1</td>\n",
       "      <td>0</td>\n",
       "      <td>0</td>\n",
       "      <td>0</td>\n",
       "      <td>0</td>\n",
       "      <td>0</td>\n",
       "      <td>1</td>\n",
       "      <td>NTT DATA Americas, Inc.</td>\n",
       "      <td>NaN</td>\n",
       "      <td>7950 Legacy Drive</td>\n",
       "      <td>11th Floor</td>\n",
       "      <td>Plano</td>\n",
       "      <td>TX</td>\n",
       "      <td>75024</td>\n",
       "      <td>UNITED STATES OF AMERICA</td>\n",
       "      <td>NaN</td>\n",
       "      <td>18007453263</td>\n",
       "      <td>NaN</td>\n",
       "      <td>04-2437166</td>\n",
       "      <td>541511</td>\n",
       "      <td>Jalota</td>\n",
       "      <td>Rachna</td>\n",
       "      <td>NaN</td>\n",
       "      <td>Immigration &amp; Mobility Specialist</td>\n",
       "      <td>7950 Legacy Drive</td>\n",
       "      <td>11th Floor</td>\n",
       "      <td>Plano</td>\n",
       "      <td>TX</td>\n",
       "      <td>75024</td>\n",
       "      <td>UNITED STATES OF AMERICA</td>\n",
       "      <td>NaN</td>\n",
       "      <td>18007453263</td>\n",
       "      <td>NaN</td>\n",
       "      <td>Rachna.Jalota@nttdata.com</td>\n",
       "      <td>Yes</td>\n",
       "      <td>Hussain</td>\n",
       "      <td>Saima</td>\n",
       "      <td>NaN</td>\n",
       "      <td>2400 N Glenville Drive</td>\n",
       "      <td>Suite 100</td>\n",
       "      <td>Richardson</td>\n",
       "      <td>TX</td>\n",
       "      <td>75082</td>\n",
       "      <td>UNITED STATES OF AMERICA</td>\n",
       "      <td>NaN</td>\n",
       "      <td>1.469291e+10</td>\n",
       "      <td>NaN</td>\n",
       "      <td>shussain@bal.com</td>\n",
       "      <td>Berry Appleman &amp; Leiden LLP</td>\n",
       "      <td>TX</td>\n",
       "      <td>Supreme Court of Texas</td>\n",
       "      <td>1</td>\n",
       "      <td>Yes</td>\n",
       "      <td>Honeywell</td>\n",
       "      <td>115 Tabor Rd</td>\n",
       "      <td>NaN</td>\n",
       "      <td>Morris Plains</td>\n",
       "      <td>MORRIS</td>\n",
       "      <td>NJ</td>\n",
       "      <td>07950</td>\n",
       "      <td>138176.00</td>\n",
       "      <td>168176.0</td>\n",
       "      <td>Year</td>\n",
       "      <td>138176.00</td>\n",
       "      <td>Year</td>\n",
       "      <td>NaN</td>\n",
       "      <td>NaN</td>\n",
       "      <td>NaN</td>\n",
       "      <td>Survey</td>\n",
       "      <td>2025.0</td>\n",
       "      <td>Radford</td>\n",
       "      <td>Radford McLagan Compensation Database</td>\n",
       "      <td>2</td>\n",
       "      <td>Yes</td>\n",
       "      <td>No</td>\n",
       "      <td>No</td>\n",
       "      <td>NaN</td>\n",
       "      <td>NaN</td>\n",
       "      <td>NaN</td>\n",
       "      <td>Disclose Business</td>\n",
       "      <td>Wills</td>\n",
       "      <td>Stacy</td>\n",
       "      <td>NaN</td>\n",
       "      <td>Berry Appleman and Leiden LLP</td>\n",
       "      <td>swills@bal.com</td>\n",
       "    </tr>\n",
       "  </tbody>\n",
       "</table>\n",
       "</div>"
      ],
      "text/plain": [
       "          CASE_NUMBER CASE_STATUS RECEIVED_DATE DECISION_DATE  \\\n",
       "0  I-200-25090-814321   Withdrawn    2025-03-31    2025-03-31   \n",
       "1  I-200-25090-815325   Withdrawn    2025-03-31    2025-03-31   \n",
       "2  I-200-25090-814481   Withdrawn    2025-03-31    2025-03-31   \n",
       "3  I-200-25090-813856   Withdrawn    2025-03-31    2025-03-31   \n",
       "4  I-200-25090-813621   Withdrawn    2025-03-31    2025-03-31   \n",
       "\n",
       "  ORIGINAL_CERT_DATE VISA_CLASS                             JOB_TITLE  \\\n",
       "0                NaT       H-1B       Director - Software Development   \n",
       "1                NaT       H-1B   IT Consultant(Peoplesoft Developer)   \n",
       "2                NaT       H-1B                    Software Developer   \n",
       "3                NaT       H-1B                   Assistant Professor   \n",
       "4                NaT       H-1B  Enterprise Resource Planning Advisor   \n",
       "\n",
       "     SOC_CODE                                        SOC_TITLE  \\\n",
       "0  15-1252.00                              Software Developers   \n",
       "1  15-1252.00                              Software Developers   \n",
       "2  15-1252.00                              Software Developers   \n",
       "3  25-1071.00       Health Specialties Teachers, Postsecondary   \n",
       "4  15-1253.00  Software Quality Assurance Analysts and Testers   \n",
       "\n",
       "  FULL_TIME_POSITION BEGIN_DATE   END_DATE  TOTAL_WORKER_POSITIONS  \\\n",
       "0                  N 2025-04-08 2028-04-07                       1   \n",
       "1                  Y 2025-03-31 2028-03-30                       1   \n",
       "2                  Y 2025-04-09 2028-04-08                       1   \n",
       "3                  Y 2025-06-01 2028-05-31                       1   \n",
       "4                  Y 2025-04-04 2028-04-03                       1   \n",
       "\n",
       "   NEW_EMPLOYMENT  CONTINUED_EMPLOYMENT  CHANGE_PREVIOUS_EMPLOYMENT  \\\n",
       "0               0                     0                           0   \n",
       "1               0                     0                           1   \n",
       "2               0                     0                           0   \n",
       "3               1                     0                           0   \n",
       "4               0                     0                           0   \n",
       "\n",
       "   NEW_CONCURRENT_EMPLOYMENT  CHANGE_EMPLOYER  AMENDED_PETITION  \\\n",
       "0                          0                0                 1   \n",
       "1                          0                0                 0   \n",
       "2                          0                1                 0   \n",
       "3                          0                0                 0   \n",
       "4                          0                0                 1   \n",
       "\n",
       "                EMPLOYER_NAME TRADE_NAME_DBA              EMPLOYER_ADDRESS1  \\\n",
       "0           BioData Solutions            NaN  1021 1/2 Massachusetts Street   \n",
       "1      People Tech Group, Inc            NaN              18300 Redmond Way   \n",
       "2  FutureTech Consultants LLC            NaN         5655 Peachtree Parkway   \n",
       "3        Texas A&M University            NaN                      1158 TAMU   \n",
       "4     NTT DATA Americas, Inc.            NaN              7950 Legacy Drive   \n",
       "\n",
       "  EMPLOYER_ADDRESS2      EMPLOYER_CITY EMPLOYER_STATE EMPLOYER_POSTAL_CODE  \\\n",
       "0            Ste. 4           Lawrence             KS                66044   \n",
       "1        Suite #210            Redmond             WA                98052   \n",
       "2         Suite 212  Peachtree Corners             GA                30092   \n",
       "3               NaN    College Station             TX                77843   \n",
       "4        11th Floor              Plano             TX                75024   \n",
       "\n",
       "           EMPLOYER_COUNTRY EMPLOYER_PROVINCE  EMPLOYER_PHONE  \\\n",
       "0  UNITED STATES OF AMERICA               NaN     17858450648   \n",
       "1  UNITED STATES OF AMERICA               NaN     14258666149   \n",
       "2  UNITED STATES OF AMERICA               NaN     16789907777   \n",
       "3  UNITED STATES OF AMERICA               NaN     19798621719   \n",
       "4  UNITED STATES OF AMERICA               NaN     18007453263   \n",
       "\n",
       "   EMPLOYER_PHONE_EXT EMPLOYER_FEIN  NAICS_CODE EMPLOYER_POC_LAST_NAME  \\\n",
       "0                 NaN    47-3690816      541690                 Taylor   \n",
       "1                 NaN    26-3665565      541511                 Rajdev   \n",
       "2               403.0    58-2310897      541511                 Balusu   \n",
       "3                 NaN    74-6000531      611310                   Pope   \n",
       "4                 NaN    04-2437166      541511                 Jalota   \n",
       "\n",
       "  EMPLOYER_POC_FIRST_NAME EMPLOYER_POC_MIDDLE_NAME  \\\n",
       "0                Brittany                      NaN   \n",
       "1                   Reema                      NaN   \n",
       "2                     Anj                      NaN   \n",
       "3                    Erin                      NaN   \n",
       "4                  Rachna                      NaN   \n",
       "\n",
       "              EMPLOYER_POC_JOB_TITLE          EMPLOYER_POC_ADDRESS1  \\\n",
       "0                 Head of Operations  1021 1/2 Massachusetts Street   \n",
       "1     HR Legal Compliance Specialist              18300 Redmond Way   \n",
       "2                    General Manager         5655 Peachtree Parkway   \n",
       "3                 Assistant Director                      1158 TAMU   \n",
       "4  Immigration & Mobility Specialist              7950 Legacy Drive   \n",
       "\n",
       "  EMPLOYER_POC_ADDRESS2  EMPLOYER_POC_CITY EMPLOYER_POC_STATE  \\\n",
       "0                Ste. 4           Lawrence                 KS   \n",
       "1            Suite #210            Redmond                 WA   \n",
       "2             Suite 212  Peachtree Corners                 GA   \n",
       "3                   NaN    College Station                 TX   \n",
       "4            11th Floor              Plano                 TX   \n",
       "\n",
       "  EMPLOYER_POC_POSTAL_CODE      EMPLOYER_POC_COUNTRY EMPLOYER_POC_PROVINCE  \\\n",
       "0                    66044  UNITED STATES OF AMERICA                   NaN   \n",
       "1                    98052  UNITED STATES OF AMERICA                   NaN   \n",
       "2                    30092  UNITED STATES OF AMERICA                   NaN   \n",
       "3                    77843  UNITED STATES OF AMERICA                   NaN   \n",
       "4                    75024  UNITED STATES OF AMERICA                   NaN   \n",
       "\n",
       "   EMPLOYER_POC_PHONE  EMPLOYER_POC_PHONE_EXT  \\\n",
       "0         17858450648                     NaN   \n",
       "1         14258666149                     NaN   \n",
       "2         16789907777                   403.0   \n",
       "3         19798621719                     NaN   \n",
       "4         18007453263                     NaN   \n",
       "\n",
       "                    EMPLOYER_POC_EMAIL AGENT_REPRESENTING_EMPLOYER  \\\n",
       "0           btaylor@bdatasolutions.com                         Yes   \n",
       "1  Internal.immigration@Peopletech.com                         Yes   \n",
       "2                           anj@ftc.bz                         Yes   \n",
       "3                       epope@tamu.edu                          No   \n",
       "4            Rachna.Jalota@nttdata.com                         Yes   \n",
       "\n",
       "  AGENT_ATTORNEY_LAST_NAME AGENT_ATTORNEY_FIRST_NAME  \\\n",
       "0                      Ray                   Anthony   \n",
       "1                   Mannam                      Ravi   \n",
       "2                 Tripathi                     Priti   \n",
       "3                      NaN                       NaN   \n",
       "4                  Hussain                     Saima   \n",
       "\n",
       "  AGENT_ATTORNEY_MIDDLE_NAME AGENT_ATTORNEY_ADDRESS1 AGENT_ATTORNEY_ADDRESS2  \\\n",
       "0                          L       35 E Wacker Drive               Suite 650   \n",
       "1                        NaN  3651 Peachtree Parkway             Suite E-360   \n",
       "2                        NaN  5655 Peachtree Parkway               Suite 103   \n",
       "3                        NaN                     NaN                     NaN   \n",
       "4                        NaN  2400 N Glenville Drive               Suite 100   \n",
       "\n",
       "  AGENT_ATTORNEY_CITY AGENT_ATTORNEY_STATE AGENT_ATTORNEY_POSTAL_CODE  \\\n",
       "0             Chicago                   IL                      60601   \n",
       "1             Suwanee                   GA                      30024   \n",
       "2   Peachtree Corners                   GA                      30092   \n",
       "3                 NaN                  NaN                        NaN   \n",
       "4          Richardson                   TX                      75082   \n",
       "\n",
       "     AGENT_ATTORNEY_COUNTRY AGENT_ATTORNEY_PROVINCE  AGENT_ATTORNEY_PHONE  \\\n",
       "0  UNITED STATES OF AMERICA                      MI          1.248736e+10   \n",
       "1  UNITED STATES OF AMERICA                     NaN          1.877596e+10   \n",
       "2  UNITED STATES OF AMERICA                     NaN          1.678459e+10   \n",
       "3                       NaN                     NaN                   NaN   \n",
       "4  UNITED STATES OF AMERICA                     NaN          1.469291e+10   \n",
       "\n",
       "   AGENT_ATTORNEY_PHONE_EXT         AGENT_ATTORNEY_EMAIL_ADDRESS  \\\n",
       "0                       NaN  raylawcases@raylawinternational.com   \n",
       "1                       NaN                   Lawxpert@yahoo.com   \n",
       "2                       NaN            priti@tripathilawfirm.com   \n",
       "3                       NaN                                  NaN   \n",
       "4                       NaN                     shussain@bal.com   \n",
       "\n",
       "          LAWFIRM_NAME_BUSINESS_NAME STATE_OF_HIGHEST_COURT  \\\n",
       "0           ray law international pc                     MI   \n",
       "1           Mannam & Associates, LLC                     TN   \n",
       "2  Law Offices of Priti Tripathi, PC                     GA   \n",
       "3                                NaN                    NaN   \n",
       "4        Berry Appleman & Leiden LLP                     TX   \n",
       "\n",
       "  NAME_OF_HIGHEST_STATE_COURT  WORKSITE_WORKERS SECONDARY_ENTITY  \\\n",
       "0               Supreme Court                 1               No   \n",
       "1               Supreme Court                 1              Yes   \n",
       "2              Superior Court                 1               No   \n",
       "3                         NaN                 1               No   \n",
       "4      Supreme Court of Texas                 1              Yes   \n",
       "\n",
       "  SECONDARY_ENTITY_BUSINESS_NAME       WORKSITE_ADDRESS1 WORKSITE_ADDRESS2  \\\n",
       "0                            NaN          1086 W King RD            EL-112   \n",
       "1   Remote work from home Amazon  37061 N BONNIE BRAE RD               NaN   \n",
       "2                            NaN     5655 Peachtree Pkwy         Suite 212   \n",
       "3                            NaN    212 Adriance Lab Rd.               NaN   \n",
       "4                      Honeywell            115 Tabor Rd               NaN   \n",
       "\n",
       "       WORKSITE_CITY WORKSITE_COUNTY WORKSITE_STATE WORKSITE_POSTAL_CODE  \\\n",
       "0            Malvern         CHESTER             PA                19355   \n",
       "1         Lake Villa            LAKE             IL                60046   \n",
       "2  Peachtree Corners        GWINNETT             GA                30092   \n",
       "3    College Station          BRAZOS             TX                77843   \n",
       "4      Morris Plains          MORRIS             NJ                07950   \n",
       "\n",
       "   WAGE_RATE_OF_PAY_FROM  WAGE_RATE_OF_PAY_TO WAGE_UNIT_OF_PAY  \\\n",
       "0                  60.41                  NaN             Hour   \n",
       "1              127754.00             127755.0             Year   \n",
       "2              105227.00                  NaN             Year   \n",
       "3              125000.00                  NaN             Year   \n",
       "4              138176.00             168176.0             Year   \n",
       "\n",
       "   PREVAILING_WAGE PW_UNIT_OF_PAY PW_TRACKING_NUMBER PW_WAGE_LEVEL  \\\n",
       "0            60.41           Hour                NaN           III   \n",
       "1        127754.00           Year                NaN           III   \n",
       "2        105227.00           Year                NaN            II   \n",
       "3         89040.00           Year                NaN             I   \n",
       "4        138176.00           Year                NaN           NaN   \n",
       "\n",
       "            PW_OES_YEAR PW_OTHER_SOURCE  PW_OTHER_YEAR PW_SURVEY_PUBLISHER  \\\n",
       "0  7/1/2024 - 6/30/2025             NaN            NaN                 NaN   \n",
       "1  7/1/2024 - 6/30/2025             NaN            NaN                 NaN   \n",
       "2  7/1/2024 - 6/30/2025             NaN            NaN                 NaN   \n",
       "3  7/1/2024 - 6/30/2025             NaN            NaN                 NaN   \n",
       "4                   NaN          Survey         2025.0             Radford   \n",
       "\n",
       "                          PW_SURVEY_NAME  TOTAL_WORKSITE_LOCATIONS  \\\n",
       "0                                    NaN                         1   \n",
       "1                                    NaN                         2   \n",
       "2                                    NaN                         1   \n",
       "3                                    NaN                         1   \n",
       "4  Radford McLagan Compensation Database                         2   \n",
       "\n",
       "  AGREE_TO_LC_STATEMENT H_1B_DEPENDENT WILLFUL_VIOLATOR SUPPORT_H1B  \\\n",
       "0                   Yes             No               No         NaN   \n",
       "1                   Yes            Yes               No         Yes   \n",
       "2                   Yes             No               No         NaN   \n",
       "3                   Yes             No               No         NaN   \n",
       "4                   Yes             No               No         NaN   \n",
       "\n",
       "                 STATUTORY_BASIS APPENDIX_A_ATTACHED  PUBLIC_DISCLOSURE  \\\n",
       "0                            NaN                 NaN  Disclose Business   \n",
       "1  $60,000 or higher annual wage                 NaN  Disclose Business   \n",
       "2                            NaN                 NaN  Disclose Business   \n",
       "3                            NaN                 NaN  Disclose Business   \n",
       "4                            NaN                 NaN  Disclose Business   \n",
       "\n",
       "  PREPARER_LAST_NAME PREPARER_FIRST_NAME PREPARER_MIDDLE_INITIAL  \\\n",
       "0              Esily                Hady                     NaN   \n",
       "1                NaN                 NaN                     NaN   \n",
       "2                NaN                 NaN                     NaN   \n",
       "3                NaN                 NaN                     NaN   \n",
       "4              Wills               Stacy                     NaN   \n",
       "\n",
       "          PREPARER_BUSINESS_NAME                       PREPARER_EMAIL  \n",
       "0     Ray Law International P.C.  raylawcases@raylawinternational.com  \n",
       "1                            NaN                                  NaN  \n",
       "2                            NaN                                  NaN  \n",
       "3                            NaN                                  NaN  \n",
       "4  Berry Appleman and Leiden LLP                       swills@bal.com  "
      ]
     },
     "metadata": {},
     "output_type": "display_data"
    }
   ],
   "source": [
    "# lca.head()\n",
    "# perm.head()\n",
    "# Display the first few rows of each DataFrame\n",
    "pd.set_option('display.max_columns', None)\n",
    "display(lca.head())\n",
    "# display(perm.head())"
   ]
  },
  {
   "cell_type": "code",
   "execution_count": 10,
   "metadata": {},
   "outputs": [
    {
     "name": "stdout",
     "output_type": "stream",
     "text": [
      "['CASE_NUMBER', 'CASE_STATUS', 'RECEIVED_DATE', 'DECISION_DATE', 'ORIGINAL_CERT_DATE', 'VISA_CLASS', 'JOB_TITLE', 'SOC_CODE', 'SOC_TITLE', 'FULL_TIME_POSITION', 'BEGIN_DATE', 'END_DATE', 'TOTAL_WORKER_POSITIONS', 'NEW_EMPLOYMENT', 'CONTINUED_EMPLOYMENT', 'CHANGE_PREVIOUS_EMPLOYMENT', 'NEW_CONCURRENT_EMPLOYMENT', 'CHANGE_EMPLOYER', 'AMENDED_PETITION', 'EMPLOYER_NAME', 'TRADE_NAME_DBA', 'EMPLOYER_ADDRESS1', 'EMPLOYER_ADDRESS2', 'EMPLOYER_CITY', 'EMPLOYER_STATE', 'EMPLOYER_POSTAL_CODE', 'EMPLOYER_COUNTRY', 'EMPLOYER_PROVINCE', 'EMPLOYER_PHONE', 'EMPLOYER_PHONE_EXT', 'EMPLOYER_FEIN', 'NAICS_CODE', 'EMPLOYER_POC_LAST_NAME', 'EMPLOYER_POC_FIRST_NAME', 'EMPLOYER_POC_MIDDLE_NAME', 'EMPLOYER_POC_JOB_TITLE', 'EMPLOYER_POC_ADDRESS1', 'EMPLOYER_POC_ADDRESS2', 'EMPLOYER_POC_CITY', 'EMPLOYER_POC_STATE', 'EMPLOYER_POC_POSTAL_CODE', 'EMPLOYER_POC_COUNTRY', 'EMPLOYER_POC_PROVINCE', 'EMPLOYER_POC_PHONE', 'EMPLOYER_POC_PHONE_EXT', 'EMPLOYER_POC_EMAIL', 'AGENT_REPRESENTING_EMPLOYER', 'AGENT_ATTORNEY_LAST_NAME', 'AGENT_ATTORNEY_FIRST_NAME', 'AGENT_ATTORNEY_MIDDLE_NAME', 'AGENT_ATTORNEY_ADDRESS1', 'AGENT_ATTORNEY_ADDRESS2', 'AGENT_ATTORNEY_CITY', 'AGENT_ATTORNEY_STATE', 'AGENT_ATTORNEY_POSTAL_CODE', 'AGENT_ATTORNEY_COUNTRY', 'AGENT_ATTORNEY_PROVINCE', 'AGENT_ATTORNEY_PHONE', 'AGENT_ATTORNEY_PHONE_EXT', 'AGENT_ATTORNEY_EMAIL_ADDRESS', 'LAWFIRM_NAME_BUSINESS_NAME', 'STATE_OF_HIGHEST_COURT', 'NAME_OF_HIGHEST_STATE_COURT', 'WORKSITE_WORKERS', 'SECONDARY_ENTITY', 'SECONDARY_ENTITY_BUSINESS_NAME', 'WORKSITE_ADDRESS1', 'WORKSITE_ADDRESS2', 'WORKSITE_CITY', 'WORKSITE_COUNTY', 'WORKSITE_STATE', 'WORKSITE_POSTAL_CODE', 'WAGE_RATE_OF_PAY_FROM', 'WAGE_RATE_OF_PAY_TO', 'WAGE_UNIT_OF_PAY', 'PREVAILING_WAGE', 'PW_UNIT_OF_PAY', 'PW_TRACKING_NUMBER', 'PW_WAGE_LEVEL', 'PW_OES_YEAR', 'PW_OTHER_SOURCE', 'PW_OTHER_YEAR', 'PW_SURVEY_PUBLISHER', 'PW_SURVEY_NAME', 'TOTAL_WORKSITE_LOCATIONS', 'AGREE_TO_LC_STATEMENT', 'H_1B_DEPENDENT', 'WILLFUL_VIOLATOR', 'SUPPORT_H1B', 'STATUTORY_BASIS', 'APPENDIX_A_ATTACHED', 'PUBLIC_DISCLOSURE', 'PREPARER_LAST_NAME', 'PREPARER_FIRST_NAME', 'PREPARER_MIDDLE_INITIAL', 'PREPARER_BUSINESS_NAME', 'PREPARER_EMAIL']\n"
     ]
    }
   ],
   "source": [
    "print(lca.columns.to_list())"
   ]
  },
  {
   "cell_type": "code",
   "execution_count": 16,
   "metadata": {},
   "outputs": [
    {
     "data": {
      "text/html": [
       "<div>\n",
       "<style scoped>\n",
       "    .dataframe tbody tr th:only-of-type {\n",
       "        vertical-align: middle;\n",
       "    }\n",
       "\n",
       "    .dataframe tbody tr th {\n",
       "        vertical-align: top;\n",
       "    }\n",
       "\n",
       "    .dataframe thead th {\n",
       "        text-align: right;\n",
       "    }\n",
       "</style>\n",
       "<table border=\"1\" class=\"dataframe\">\n",
       "  <thead>\n",
       "    <tr style=\"text-align: right;\">\n",
       "      <th></th>\n",
       "      <th>CASE_STATUS</th>\n",
       "      <th>VISA_CLASS</th>\n",
       "      <th>JOB_TITLE</th>\n",
       "      <th>SOC_CODE</th>\n",
       "      <th>SOC_TITLE</th>\n",
       "      <th>FULL_TIME_POSITION</th>\n",
       "      <th>EMPLOYER_NAME</th>\n",
       "      <th>EMPLOYER_CITY</th>\n",
       "      <th>EMPLOYER_STATE</th>\n",
       "      <th>EMPLOYER_COUNTRY</th>\n",
       "      <th>NAICS_CODE</th>\n",
       "      <th>WAGE_UNIT_OF_PAY</th>\n",
       "      <th>PREVAILING_WAGE</th>\n",
       "      <th>PW_UNIT_OF_PAY</th>\n",
       "      <th>SUPPORT_H1B</th>\n",
       "    </tr>\n",
       "  </thead>\n",
       "  <tbody>\n",
       "    <tr>\n",
       "      <th>0</th>\n",
       "      <td>Withdrawn</td>\n",
       "      <td>H-1B</td>\n",
       "      <td>Director - Software Development</td>\n",
       "      <td>15-1252.00</td>\n",
       "      <td>Software Developers</td>\n",
       "      <td>N</td>\n",
       "      <td>BioData Solutions</td>\n",
       "      <td>Lawrence</td>\n",
       "      <td>KS</td>\n",
       "      <td>UNITED STATES OF AMERICA</td>\n",
       "      <td>541690</td>\n",
       "      <td>Hour</td>\n",
       "      <td>60.41</td>\n",
       "      <td>Hour</td>\n",
       "      <td>NaN</td>\n",
       "    </tr>\n",
       "    <tr>\n",
       "      <th>1</th>\n",
       "      <td>Withdrawn</td>\n",
       "      <td>H-1B</td>\n",
       "      <td>IT Consultant(Peoplesoft Developer)</td>\n",
       "      <td>15-1252.00</td>\n",
       "      <td>Software Developers</td>\n",
       "      <td>Y</td>\n",
       "      <td>People Tech Group, Inc</td>\n",
       "      <td>Redmond</td>\n",
       "      <td>WA</td>\n",
       "      <td>UNITED STATES OF AMERICA</td>\n",
       "      <td>541511</td>\n",
       "      <td>Year</td>\n",
       "      <td>127754.00</td>\n",
       "      <td>Year</td>\n",
       "      <td>Yes</td>\n",
       "    </tr>\n",
       "    <tr>\n",
       "      <th>2</th>\n",
       "      <td>Withdrawn</td>\n",
       "      <td>H-1B</td>\n",
       "      <td>Software Developer</td>\n",
       "      <td>15-1252.00</td>\n",
       "      <td>Software Developers</td>\n",
       "      <td>Y</td>\n",
       "      <td>FutureTech Consultants LLC</td>\n",
       "      <td>Peachtree Corners</td>\n",
       "      <td>GA</td>\n",
       "      <td>UNITED STATES OF AMERICA</td>\n",
       "      <td>541511</td>\n",
       "      <td>Year</td>\n",
       "      <td>105227.00</td>\n",
       "      <td>Year</td>\n",
       "      <td>NaN</td>\n",
       "    </tr>\n",
       "    <tr>\n",
       "      <th>3</th>\n",
       "      <td>Withdrawn</td>\n",
       "      <td>H-1B</td>\n",
       "      <td>Assistant Professor</td>\n",
       "      <td>25-1071.00</td>\n",
       "      <td>Health Specialties Teachers, Postsecondary</td>\n",
       "      <td>Y</td>\n",
       "      <td>Texas A&amp;M University</td>\n",
       "      <td>College Station</td>\n",
       "      <td>TX</td>\n",
       "      <td>UNITED STATES OF AMERICA</td>\n",
       "      <td>611310</td>\n",
       "      <td>Year</td>\n",
       "      <td>89040.00</td>\n",
       "      <td>Year</td>\n",
       "      <td>NaN</td>\n",
       "    </tr>\n",
       "    <tr>\n",
       "      <th>4</th>\n",
       "      <td>Withdrawn</td>\n",
       "      <td>H-1B</td>\n",
       "      <td>Enterprise Resource Planning Advisor</td>\n",
       "      <td>15-1253.00</td>\n",
       "      <td>Software Quality Assurance Analysts and Testers</td>\n",
       "      <td>Y</td>\n",
       "      <td>NTT DATA Americas, Inc.</td>\n",
       "      <td>Plano</td>\n",
       "      <td>TX</td>\n",
       "      <td>UNITED STATES OF AMERICA</td>\n",
       "      <td>541511</td>\n",
       "      <td>Year</td>\n",
       "      <td>138176.00</td>\n",
       "      <td>Year</td>\n",
       "      <td>NaN</td>\n",
       "    </tr>\n",
       "  </tbody>\n",
       "</table>\n",
       "</div>"
      ],
      "text/plain": [
       "  CASE_STATUS VISA_CLASS                             JOB_TITLE    SOC_CODE  \\\n",
       "0   Withdrawn       H-1B       Director - Software Development  15-1252.00   \n",
       "1   Withdrawn       H-1B   IT Consultant(Peoplesoft Developer)  15-1252.00   \n",
       "2   Withdrawn       H-1B                    Software Developer  15-1252.00   \n",
       "3   Withdrawn       H-1B                   Assistant Professor  25-1071.00   \n",
       "4   Withdrawn       H-1B  Enterprise Resource Planning Advisor  15-1253.00   \n",
       "\n",
       "                                         SOC_TITLE FULL_TIME_POSITION  \\\n",
       "0                              Software Developers                  N   \n",
       "1                              Software Developers                  Y   \n",
       "2                              Software Developers                  Y   \n",
       "3       Health Specialties Teachers, Postsecondary                  Y   \n",
       "4  Software Quality Assurance Analysts and Testers                  Y   \n",
       "\n",
       "                EMPLOYER_NAME      EMPLOYER_CITY EMPLOYER_STATE  \\\n",
       "0           BioData Solutions           Lawrence             KS   \n",
       "1      People Tech Group, Inc            Redmond             WA   \n",
       "2  FutureTech Consultants LLC  Peachtree Corners             GA   \n",
       "3        Texas A&M University    College Station             TX   \n",
       "4     NTT DATA Americas, Inc.              Plano             TX   \n",
       "\n",
       "           EMPLOYER_COUNTRY  NAICS_CODE WAGE_UNIT_OF_PAY  PREVAILING_WAGE  \\\n",
       "0  UNITED STATES OF AMERICA      541690             Hour            60.41   \n",
       "1  UNITED STATES OF AMERICA      541511             Year        127754.00   \n",
       "2  UNITED STATES OF AMERICA      541511             Year        105227.00   \n",
       "3  UNITED STATES OF AMERICA      611310             Year         89040.00   \n",
       "4  UNITED STATES OF AMERICA      541511             Year        138176.00   \n",
       "\n",
       "  PW_UNIT_OF_PAY SUPPORT_H1B  \n",
       "0           Hour         NaN  \n",
       "1           Year         Yes  \n",
       "2           Year         NaN  \n",
       "3           Year         NaN  \n",
       "4           Year         NaN  "
      ]
     },
     "execution_count": 16,
     "metadata": {},
     "output_type": "execute_result"
    }
   ],
   "source": [
    "# Filter LCA data to keep only the relevant columns\n",
    "lca_filtered = lca[['CASE_STATUS', 'VISA_CLASS', 'JOB_TITLE','SOC_CODE', 'SOC_TITLE','FULL_TIME_POSITION','EMPLOYER_NAME','EMPLOYER_CITY','EMPLOYER_STATE','EMPLOYER_COUNTRY',\n",
    "                    'NAICS_CODE','WAGE_UNIT_OF_PAY','PREVAILING_WAGE','PW_UNIT_OF_PAY', 'SUPPORT_H1B']]\n",
    "lca_filtered.head()"
   ]
  },
  {
   "cell_type": "code",
   "execution_count": 18,
   "metadata": {},
   "outputs": [
    {
     "data": {
      "text/plain": [
       "CASE_STATUS                0\n",
       "VISA_CLASS                 0\n",
       "JOB_TITLE                  0\n",
       "SOC_CODE                   0\n",
       "SOC_TITLE                  0\n",
       "FULL_TIME_POSITION         0\n",
       "EMPLOYER_NAME              0\n",
       "EMPLOYER_CITY              0\n",
       "EMPLOYER_STATE            53\n",
       "EMPLOYER_COUNTRY           0\n",
       "NAICS_CODE                 0\n",
       "WAGE_UNIT_OF_PAY           0\n",
       "PREVAILING_WAGE            0\n",
       "PW_UNIT_OF_PAY             0\n",
       "SUPPORT_H1B           186984\n",
       "dtype: int64"
      ]
     },
     "execution_count": 18,
     "metadata": {},
     "output_type": "execute_result"
    }
   ],
   "source": [
    "lca_filtered.isna().sum()"
   ]
  },
  {
   "cell_type": "code",
   "execution_count": 23,
   "metadata": {},
   "outputs": [
    {
     "name": "stdout",
     "output_type": "stream",
     "text": [
      "['Withdrawn' 'Denied' 'Certified' 'Certified - Withdrawn']\n",
      "['H-1B' 'E-3 Australian' 'H-1B1 Singapore' 'H-1B1 Chile']\n",
      "[nan 'Yes' 'No']\n"
     ]
    }
   ],
   "source": [
    "print(lca_filtered['CASE_STATUS'].unique())\n",
    "print(lca_filtered['VISA_CLASS'].unique())\n",
    "print(lca_filtered['SUPPORT_H1B'].unique())"
   ]
  },
  {
   "cell_type": "code",
   "execution_count": 26,
   "metadata": {},
   "outputs": [
    {
     "data": {
      "text/html": [
       "<div>\n",
       "<style scoped>\n",
       "    .dataframe tbody tr th:only-of-type {\n",
       "        vertical-align: middle;\n",
       "    }\n",
       "\n",
       "    .dataframe tbody tr th {\n",
       "        vertical-align: top;\n",
       "    }\n",
       "\n",
       "    .dataframe thead th {\n",
       "        text-align: right;\n",
       "    }\n",
       "</style>\n",
       "<table border=\"1\" class=\"dataframe\">\n",
       "  <thead>\n",
       "    <tr style=\"text-align: right;\">\n",
       "      <th></th>\n",
       "      <th>CASE_STATUS</th>\n",
       "      <th>VISA_CLASS</th>\n",
       "      <th>JOB_TITLE</th>\n",
       "      <th>SOC_CODE</th>\n",
       "      <th>SOC_TITLE</th>\n",
       "      <th>FULL_TIME_POSITION</th>\n",
       "      <th>EMPLOYER_NAME</th>\n",
       "      <th>EMPLOYER_CITY</th>\n",
       "      <th>EMPLOYER_STATE</th>\n",
       "      <th>EMPLOYER_COUNTRY</th>\n",
       "      <th>NAICS_CODE</th>\n",
       "      <th>WAGE_UNIT_OF_PAY</th>\n",
       "      <th>PREVAILING_WAGE</th>\n",
       "      <th>PW_UNIT_OF_PAY</th>\n",
       "      <th>SUPPORT_H1B</th>\n",
       "    </tr>\n",
       "  </thead>\n",
       "  <tbody>\n",
       "    <tr>\n",
       "      <th>1</th>\n",
       "      <td>Withdrawn</td>\n",
       "      <td>H-1B</td>\n",
       "      <td>IT Consultant(Peoplesoft Developer)</td>\n",
       "      <td>15-1252.00</td>\n",
       "      <td>Software Developers</td>\n",
       "      <td>Y</td>\n",
       "      <td>People Tech Group, Inc</td>\n",
       "      <td>Redmond</td>\n",
       "      <td>WA</td>\n",
       "      <td>UNITED STATES OF AMERICA</td>\n",
       "      <td>541511</td>\n",
       "      <td>Year</td>\n",
       "      <td>127754.0</td>\n",
       "      <td>Year</td>\n",
       "      <td>Yes</td>\n",
       "    </tr>\n",
       "    <tr>\n",
       "      <th>6</th>\n",
       "      <td>Withdrawn</td>\n",
       "      <td>H-1B</td>\n",
       "      <td>Manager, Data Science - Analytics 2</td>\n",
       "      <td>11-3021.00</td>\n",
       "      <td>Computer and Information Systems Managers</td>\n",
       "      <td>Y</td>\n",
       "      <td>eBay Inc.</td>\n",
       "      <td>San Jose</td>\n",
       "      <td>CA</td>\n",
       "      <td>UNITED STATES OF AMERICA</td>\n",
       "      <td>455219</td>\n",
       "      <td>Year</td>\n",
       "      <td>182957.0</td>\n",
       "      <td>Year</td>\n",
       "      <td>Yes</td>\n",
       "    </tr>\n",
       "    <tr>\n",
       "      <th>17</th>\n",
       "      <td>Withdrawn</td>\n",
       "      <td>H-1B</td>\n",
       "      <td>Specialist “ Technology</td>\n",
       "      <td>15-1252.00</td>\n",
       "      <td>Software Developers</td>\n",
       "      <td>Y</td>\n",
       "      <td>Synechron, Inc.</td>\n",
       "      <td>New York</td>\n",
       "      <td>NY</td>\n",
       "      <td>UNITED STATES OF AMERICA</td>\n",
       "      <td>541511</td>\n",
       "      <td>Year</td>\n",
       "      <td>123656.0</td>\n",
       "      <td>Year</td>\n",
       "      <td>Yes</td>\n",
       "    </tr>\n",
       "    <tr>\n",
       "      <th>21</th>\n",
       "      <td>Withdrawn</td>\n",
       "      <td>H-1B</td>\n",
       "      <td>BUSINESS ANALYST 3</td>\n",
       "      <td>15-1211.00</td>\n",
       "      <td>Computer Systems Analysts</td>\n",
       "      <td>Y</td>\n",
       "      <td>VIRTUSA CORPORATION</td>\n",
       "      <td>SOUTHBOROUGH</td>\n",
       "      <td>MA</td>\n",
       "      <td>UNITED STATES OF AMERICA</td>\n",
       "      <td>541511</td>\n",
       "      <td>Year</td>\n",
       "      <td>113485.0</td>\n",
       "      <td>Year</td>\n",
       "      <td>Yes</td>\n",
       "    </tr>\n",
       "    <tr>\n",
       "      <th>22</th>\n",
       "      <td>Withdrawn</td>\n",
       "      <td>H-1B</td>\n",
       "      <td>Systems Analyst(Kronos Consultant)</td>\n",
       "      <td>15-1211.00</td>\n",
       "      <td>Computer Systems Analysts</td>\n",
       "      <td>Y</td>\n",
       "      <td>People Tech Group, Inc</td>\n",
       "      <td>Redmond</td>\n",
       "      <td>WA</td>\n",
       "      <td>UNITED STATES OF AMERICA</td>\n",
       "      <td>541511</td>\n",
       "      <td>Year</td>\n",
       "      <td>113797.0</td>\n",
       "      <td>Year</td>\n",
       "      <td>Yes</td>\n",
       "    </tr>\n",
       "  </tbody>\n",
       "</table>\n",
       "</div>"
      ],
      "text/plain": [
       "   CASE_STATUS VISA_CLASS                            JOB_TITLE    SOC_CODE  \\\n",
       "1    Withdrawn       H-1B  IT Consultant(Peoplesoft Developer)  15-1252.00   \n",
       "6    Withdrawn       H-1B  Manager, Data Science - Analytics 2  11-3021.00   \n",
       "17   Withdrawn       H-1B              Specialist “ Technology  15-1252.00   \n",
       "21   Withdrawn       H-1B                   BUSINESS ANALYST 3  15-1211.00   \n",
       "22   Withdrawn       H-1B   Systems Analyst(Kronos Consultant)  15-1211.00   \n",
       "\n",
       "                                    SOC_TITLE FULL_TIME_POSITION  \\\n",
       "1                         Software Developers                  Y   \n",
       "6   Computer and Information Systems Managers                  Y   \n",
       "17                        Software Developers                  Y   \n",
       "21                  Computer Systems Analysts                  Y   \n",
       "22                  Computer Systems Analysts                  Y   \n",
       "\n",
       "             EMPLOYER_NAME EMPLOYER_CITY EMPLOYER_STATE  \\\n",
       "1   People Tech Group, Inc       Redmond             WA   \n",
       "6                eBay Inc.      San Jose             CA   \n",
       "17         Synechron, Inc.      New York             NY   \n",
       "21     VIRTUSA CORPORATION  SOUTHBOROUGH             MA   \n",
       "22  People Tech Group, Inc       Redmond             WA   \n",
       "\n",
       "            EMPLOYER_COUNTRY  NAICS_CODE WAGE_UNIT_OF_PAY  PREVAILING_WAGE  \\\n",
       "1   UNITED STATES OF AMERICA      541511             Year         127754.0   \n",
       "6   UNITED STATES OF AMERICA      455219             Year         182957.0   \n",
       "17  UNITED STATES OF AMERICA      541511             Year         123656.0   \n",
       "21  UNITED STATES OF AMERICA      541511             Year         113485.0   \n",
       "22  UNITED STATES OF AMERICA      541511             Year         113797.0   \n",
       "\n",
       "   PW_UNIT_OF_PAY SUPPORT_H1B  \n",
       "1            Year         Yes  \n",
       "6            Year         Yes  \n",
       "17           Year         Yes  \n",
       "21           Year         Yes  \n",
       "22           Year         Yes  "
      ]
     },
     "execution_count": 26,
     "metadata": {},
     "output_type": "execute_result"
    }
   ],
   "source": [
    "# Identify the institutions that support H1B\n",
    "h1b_support = lca_filtered[lca_filtered['SUPPORT_H1B'] == 'Yes']\n",
    "h1b_support.head()\n"
   ]
  },
  {
   "cell_type": "code",
   "execution_count": 30,
   "metadata": {},
   "outputs": [
    {
     "name": "stdout",
     "output_type": "stream",
     "text": [
      "int64\n"
     ]
    }
   ],
   "source": [
    "print(lca_filtered['NAICS_CODE'].dtype)"
   ]
  },
  {
   "cell_type": "code",
   "execution_count": 38,
   "metadata": {},
   "outputs": [
    {
     "name": "stdout",
     "output_type": "stream",
     "text": [
      "Number of cap-exempt institutions: 3430\n",
      "Total records: 240770\n",
      "Cap-exempt records: 25693\n",
      "Percentage cap-exempt: 10.67%\n"
     ]
    }
   ],
   "source": [
    "# Identifying cap_exempt institutions\n",
    "lca_filtered = lca_filtered.copy()\n",
    "# changing from int to str\n",
    "lca_filtered['NAICS_CODE_str'] = lca_filtered['NAICS_CODE'].astype(str)\n",
    "cap_exempt_mask = (\n",
    "    # Education institutions\n",
    "    lca_filtered['NAICS_CODE_str'].str.startswith('611')|\n",
    "    # research institutions\n",
    "    (lca_filtered['NAICS_CODE'] == 541711) |\n",
    "    # Research and development in physical, engineering sciences\n",
    "    (lca_filtered['NAICS_CODE'] == 541712) |\n",
    "    # Hospitals (when affliated with a university)\n",
    "    lca_filtered['NAICS_CODE_str'].str.startswith('622') |\n",
    "    # Space research and technology\n",
    "    (lca_filtered['NAICS_CODE'] == 927110) |\n",
    "    # government institutions\n",
    "    (lca_filtered['NAICS_CODE_str'].str.startswith('9271'))\n",
    "\n",
    ")\n",
    "# Filter the LCA data to include only cap-exempt institutions\n",
    "cap_exempt_institutions = lca_filtered[cap_exempt_mask]\n",
    "\n",
    "print(f\"Number of cap-exempt institutions: {cap_exempt_institutions['EMPLOYER_NAME'].nunique()}\")\n",
    "print(f\"Total records: {len(lca_filtered)}\")\n",
    "print(f\"Cap-exempt records: {len(cap_exempt_institutions)}\")\n",
    "print(f\"Percentage cap-exempt: {len(cap_exempt_institutions)/len(lca_filtered)*100:.2f}%\")"
   ]
  },
  {
   "cell_type": "code",
   "execution_count": 41,
   "metadata": {},
   "outputs": [
    {
     "name": "stderr",
     "output_type": "stream",
     "text": [
      "/tmp/ipykernel_80473/643684510.py:21: SettingWithCopyWarning:\n",
      "\n",
      "\n",
      "A value is trying to be set on a copy of a slice from a DataFrame.\n",
      "Try using .loc[row_indexer,col_indexer] = value instead\n",
      "\n",
      "See the caveats in the documentation: https://pandas.pydata.org/pandas-docs/stable/user_guide/indexing.html#returning-a-view-versus-a-copy\n",
      "\n"
     ]
    },
    {
     "data": {
      "application/vnd.plotly.v1+json": {
       "config": {
        "plotlyServerURL": "https://plot.ly"
       },
       "data": [
        {
         "hovertemplate": "Institution_Type=Educational Services<br>State=%{x}<br>Number of Applications=%{y}<extra></extra>",
         "legendgroup": "Educational Services",
         "marker": {
          "color": "rgb(141,211,199)",
          "pattern": {
           "shape": ""
          }
         },
         "name": "Educational Services",
         "orientation": "v",
         "showlegend": true,
         "textposition": "auto",
         "type": "bar",
         "x": [
          "CA",
          "FL",
          "GA",
          "IL",
          "MA",
          "MD",
          "MI",
          "MN",
          "MO",
          "NC",
          "NY",
          "OH",
          "PA",
          "TX",
          "VA"
         ],
         "xaxis": "x",
         "y": {
          "bdata": "nwdSAicDzgKKA+cBUQI7AuMB1ALUBbMB6gIXB/EB",
          "dtype": "i2"
         },
         "yaxis": "y"
        },
        {
         "hovertemplate": "Institution_Type=Government Research<br>State=%{x}<br>Number of Applications=%{y}<extra></extra>",
         "legendgroup": "Government Research",
         "marker": {
          "color": "rgb(255,255,179)",
          "pattern": {
           "shape": ""
          }
         },
         "name": "Government Research",
         "orientation": "v",
         "showlegend": true,
         "textposition": "auto",
         "type": "bar",
         "x": [
          "CA"
         ],
         "xaxis": "x",
         "y": {
          "bdata": "Bg==",
          "dtype": "i1"
         },
         "yaxis": "y"
        },
        {
         "hovertemplate": "Institution_Type=Hospitals<br>State=%{x}<br>Number of Applications=%{y}<extra></extra>",
         "legendgroup": "Hospitals",
         "marker": {
          "color": "rgb(190,186,218)",
          "pattern": {
           "shape": ""
          }
         },
         "name": "Hospitals",
         "orientation": "v",
         "showlegend": true,
         "textposition": "auto",
         "type": "bar",
         "x": [
          "CA",
          "FL",
          "GA",
          "IL",
          "MA",
          "MD",
          "MI",
          "MN",
          "MO",
          "NC",
          "NY",
          "OH",
          "PA",
          "TX",
          "VA"
         ],
         "xaxis": "x",
         "y": {
          "bdata": "AwF6AUcAEwFlAl4AsQAlAIoAWQArA2QBFgK1ADwA",
          "dtype": "i2"
         },
         "yaxis": "y"
        },
        {
         "hovertemplate": "Institution_Type=Space Research<br>State=%{x}<br>Number of Applications=%{y}<extra></extra>",
         "legendgroup": "Space Research",
         "marker": {
          "color": "rgb(251,128,114)",
          "pattern": {
           "shape": ""
          }
         },
         "name": "Space Research",
         "orientation": "v",
         "showlegend": true,
         "textposition": "auto",
         "type": "bar",
         "x": [
          "MD"
         ],
         "xaxis": "x",
         "y": {
          "bdata": "Aw==",
          "dtype": "i1"
         },
         "yaxis": "y"
        }
       ],
       "layout": {
        "barmode": "relative",
        "height": 600,
        "legend": {
         "title": {
          "text": "Institution Type"
         },
         "tracegroupgap": 0
        },
        "template": {
         "data": {
          "bar": [
           {
            "error_x": {
             "color": "#2a3f5f"
            },
            "error_y": {
             "color": "#2a3f5f"
            },
            "marker": {
             "line": {
              "color": "#E5ECF6",
              "width": 0.5
             },
             "pattern": {
              "fillmode": "overlay",
              "size": 10,
              "solidity": 0.2
             }
            },
            "type": "bar"
           }
          ],
          "barpolar": [
           {
            "marker": {
             "line": {
              "color": "#E5ECF6",
              "width": 0.5
             },
             "pattern": {
              "fillmode": "overlay",
              "size": 10,
              "solidity": 0.2
             }
            },
            "type": "barpolar"
           }
          ],
          "carpet": [
           {
            "aaxis": {
             "endlinecolor": "#2a3f5f",
             "gridcolor": "white",
             "linecolor": "white",
             "minorgridcolor": "white",
             "startlinecolor": "#2a3f5f"
            },
            "baxis": {
             "endlinecolor": "#2a3f5f",
             "gridcolor": "white",
             "linecolor": "white",
             "minorgridcolor": "white",
             "startlinecolor": "#2a3f5f"
            },
            "type": "carpet"
           }
          ],
          "choropleth": [
           {
            "colorbar": {
             "outlinewidth": 0,
             "ticks": ""
            },
            "type": "choropleth"
           }
          ],
          "contour": [
           {
            "colorbar": {
             "outlinewidth": 0,
             "ticks": ""
            },
            "colorscale": [
             [
              0,
              "#0d0887"
             ],
             [
              0.1111111111111111,
              "#46039f"
             ],
             [
              0.2222222222222222,
              "#7201a8"
             ],
             [
              0.3333333333333333,
              "#9c179e"
             ],
             [
              0.4444444444444444,
              "#bd3786"
             ],
             [
              0.5555555555555556,
              "#d8576b"
             ],
             [
              0.6666666666666666,
              "#ed7953"
             ],
             [
              0.7777777777777778,
              "#fb9f3a"
             ],
             [
              0.8888888888888888,
              "#fdca26"
             ],
             [
              1,
              "#f0f921"
             ]
            ],
            "type": "contour"
           }
          ],
          "contourcarpet": [
           {
            "colorbar": {
             "outlinewidth": 0,
             "ticks": ""
            },
            "type": "contourcarpet"
           }
          ],
          "heatmap": [
           {
            "colorbar": {
             "outlinewidth": 0,
             "ticks": ""
            },
            "colorscale": [
             [
              0,
              "#0d0887"
             ],
             [
              0.1111111111111111,
              "#46039f"
             ],
             [
              0.2222222222222222,
              "#7201a8"
             ],
             [
              0.3333333333333333,
              "#9c179e"
             ],
             [
              0.4444444444444444,
              "#bd3786"
             ],
             [
              0.5555555555555556,
              "#d8576b"
             ],
             [
              0.6666666666666666,
              "#ed7953"
             ],
             [
              0.7777777777777778,
              "#fb9f3a"
             ],
             [
              0.8888888888888888,
              "#fdca26"
             ],
             [
              1,
              "#f0f921"
             ]
            ],
            "type": "heatmap"
           }
          ],
          "histogram": [
           {
            "marker": {
             "pattern": {
              "fillmode": "overlay",
              "size": 10,
              "solidity": 0.2
             }
            },
            "type": "histogram"
           }
          ],
          "histogram2d": [
           {
            "colorbar": {
             "outlinewidth": 0,
             "ticks": ""
            },
            "colorscale": [
             [
              0,
              "#0d0887"
             ],
             [
              0.1111111111111111,
              "#46039f"
             ],
             [
              0.2222222222222222,
              "#7201a8"
             ],
             [
              0.3333333333333333,
              "#9c179e"
             ],
             [
              0.4444444444444444,
              "#bd3786"
             ],
             [
              0.5555555555555556,
              "#d8576b"
             ],
             [
              0.6666666666666666,
              "#ed7953"
             ],
             [
              0.7777777777777778,
              "#fb9f3a"
             ],
             [
              0.8888888888888888,
              "#fdca26"
             ],
             [
              1,
              "#f0f921"
             ]
            ],
            "type": "histogram2d"
           }
          ],
          "histogram2dcontour": [
           {
            "colorbar": {
             "outlinewidth": 0,
             "ticks": ""
            },
            "colorscale": [
             [
              0,
              "#0d0887"
             ],
             [
              0.1111111111111111,
              "#46039f"
             ],
             [
              0.2222222222222222,
              "#7201a8"
             ],
             [
              0.3333333333333333,
              "#9c179e"
             ],
             [
              0.4444444444444444,
              "#bd3786"
             ],
             [
              0.5555555555555556,
              "#d8576b"
             ],
             [
              0.6666666666666666,
              "#ed7953"
             ],
             [
              0.7777777777777778,
              "#fb9f3a"
             ],
             [
              0.8888888888888888,
              "#fdca26"
             ],
             [
              1,
              "#f0f921"
             ]
            ],
            "type": "histogram2dcontour"
           }
          ],
          "mesh3d": [
           {
            "colorbar": {
             "outlinewidth": 0,
             "ticks": ""
            },
            "type": "mesh3d"
           }
          ],
          "parcoords": [
           {
            "line": {
             "colorbar": {
              "outlinewidth": 0,
              "ticks": ""
             }
            },
            "type": "parcoords"
           }
          ],
          "pie": [
           {
            "automargin": true,
            "type": "pie"
           }
          ],
          "scatter": [
           {
            "fillpattern": {
             "fillmode": "overlay",
             "size": 10,
             "solidity": 0.2
            },
            "type": "scatter"
           }
          ],
          "scatter3d": [
           {
            "line": {
             "colorbar": {
              "outlinewidth": 0,
              "ticks": ""
             }
            },
            "marker": {
             "colorbar": {
              "outlinewidth": 0,
              "ticks": ""
             }
            },
            "type": "scatter3d"
           }
          ],
          "scattercarpet": [
           {
            "marker": {
             "colorbar": {
              "outlinewidth": 0,
              "ticks": ""
             }
            },
            "type": "scattercarpet"
           }
          ],
          "scattergeo": [
           {
            "marker": {
             "colorbar": {
              "outlinewidth": 0,
              "ticks": ""
             }
            },
            "type": "scattergeo"
           }
          ],
          "scattergl": [
           {
            "marker": {
             "colorbar": {
              "outlinewidth": 0,
              "ticks": ""
             }
            },
            "type": "scattergl"
           }
          ],
          "scattermap": [
           {
            "marker": {
             "colorbar": {
              "outlinewidth": 0,
              "ticks": ""
             }
            },
            "type": "scattermap"
           }
          ],
          "scattermapbox": [
           {
            "marker": {
             "colorbar": {
              "outlinewidth": 0,
              "ticks": ""
             }
            },
            "type": "scattermapbox"
           }
          ],
          "scatterpolar": [
           {
            "marker": {
             "colorbar": {
              "outlinewidth": 0,
              "ticks": ""
             }
            },
            "type": "scatterpolar"
           }
          ],
          "scatterpolargl": [
           {
            "marker": {
             "colorbar": {
              "outlinewidth": 0,
              "ticks": ""
             }
            },
            "type": "scatterpolargl"
           }
          ],
          "scatterternary": [
           {
            "marker": {
             "colorbar": {
              "outlinewidth": 0,
              "ticks": ""
             }
            },
            "type": "scatterternary"
           }
          ],
          "surface": [
           {
            "colorbar": {
             "outlinewidth": 0,
             "ticks": ""
            },
            "colorscale": [
             [
              0,
              "#0d0887"
             ],
             [
              0.1111111111111111,
              "#46039f"
             ],
             [
              0.2222222222222222,
              "#7201a8"
             ],
             [
              0.3333333333333333,
              "#9c179e"
             ],
             [
              0.4444444444444444,
              "#bd3786"
             ],
             [
              0.5555555555555556,
              "#d8576b"
             ],
             [
              0.6666666666666666,
              "#ed7953"
             ],
             [
              0.7777777777777778,
              "#fb9f3a"
             ],
             [
              0.8888888888888888,
              "#fdca26"
             ],
             [
              1,
              "#f0f921"
             ]
            ],
            "type": "surface"
           }
          ],
          "table": [
           {
            "cells": {
             "fill": {
              "color": "#EBF0F8"
             },
             "line": {
              "color": "white"
             }
            },
            "header": {
             "fill": {
              "color": "#C8D4E3"
             },
             "line": {
              "color": "white"
             }
            },
            "type": "table"
           }
          ]
         },
         "layout": {
          "annotationdefaults": {
           "arrowcolor": "#2a3f5f",
           "arrowhead": 0,
           "arrowwidth": 1
          },
          "autotypenumbers": "strict",
          "coloraxis": {
           "colorbar": {
            "outlinewidth": 0,
            "ticks": ""
           }
          },
          "colorscale": {
           "diverging": [
            [
             0,
             "#8e0152"
            ],
            [
             0.1,
             "#c51b7d"
            ],
            [
             0.2,
             "#de77ae"
            ],
            [
             0.3,
             "#f1b6da"
            ],
            [
             0.4,
             "#fde0ef"
            ],
            [
             0.5,
             "#f7f7f7"
            ],
            [
             0.6,
             "#e6f5d0"
            ],
            [
             0.7,
             "#b8e186"
            ],
            [
             0.8,
             "#7fbc41"
            ],
            [
             0.9,
             "#4d9221"
            ],
            [
             1,
             "#276419"
            ]
           ],
           "sequential": [
            [
             0,
             "#0d0887"
            ],
            [
             0.1111111111111111,
             "#46039f"
            ],
            [
             0.2222222222222222,
             "#7201a8"
            ],
            [
             0.3333333333333333,
             "#9c179e"
            ],
            [
             0.4444444444444444,
             "#bd3786"
            ],
            [
             0.5555555555555556,
             "#d8576b"
            ],
            [
             0.6666666666666666,
             "#ed7953"
            ],
            [
             0.7777777777777778,
             "#fb9f3a"
            ],
            [
             0.8888888888888888,
             "#fdca26"
            ],
            [
             1,
             "#f0f921"
            ]
           ],
           "sequentialminus": [
            [
             0,
             "#0d0887"
            ],
            [
             0.1111111111111111,
             "#46039f"
            ],
            [
             0.2222222222222222,
             "#7201a8"
            ],
            [
             0.3333333333333333,
             "#9c179e"
            ],
            [
             0.4444444444444444,
             "#bd3786"
            ],
            [
             0.5555555555555556,
             "#d8576b"
            ],
            [
             0.6666666666666666,
             "#ed7953"
            ],
            [
             0.7777777777777778,
             "#fb9f3a"
            ],
            [
             0.8888888888888888,
             "#fdca26"
            ],
            [
             1,
             "#f0f921"
            ]
           ]
          },
          "colorway": [
           "#636efa",
           "#EF553B",
           "#00cc96",
           "#ab63fa",
           "#FFA15A",
           "#19d3f3",
           "#FF6692",
           "#B6E880",
           "#FF97FF",
           "#FECB52"
          ],
          "font": {
           "color": "#2a3f5f"
          },
          "geo": {
           "bgcolor": "white",
           "lakecolor": "white",
           "landcolor": "#E5ECF6",
           "showlakes": true,
           "showland": true,
           "subunitcolor": "white"
          },
          "hoverlabel": {
           "align": "left"
          },
          "hovermode": "closest",
          "mapbox": {
           "style": "light"
          },
          "paper_bgcolor": "white",
          "plot_bgcolor": "#E5ECF6",
          "polar": {
           "angularaxis": {
            "gridcolor": "white",
            "linecolor": "white",
            "ticks": ""
           },
           "bgcolor": "#E5ECF6",
           "radialaxis": {
            "gridcolor": "white",
            "linecolor": "white",
            "ticks": ""
           }
          },
          "scene": {
           "xaxis": {
            "backgroundcolor": "#E5ECF6",
            "gridcolor": "white",
            "gridwidth": 2,
            "linecolor": "white",
            "showbackground": true,
            "ticks": "",
            "zerolinecolor": "white"
           },
           "yaxis": {
            "backgroundcolor": "#E5ECF6",
            "gridcolor": "white",
            "gridwidth": 2,
            "linecolor": "white",
            "showbackground": true,
            "ticks": "",
            "zerolinecolor": "white"
           },
           "zaxis": {
            "backgroundcolor": "#E5ECF6",
            "gridcolor": "white",
            "gridwidth": 2,
            "linecolor": "white",
            "showbackground": true,
            "ticks": "",
            "zerolinecolor": "white"
           }
          },
          "shapedefaults": {
           "line": {
            "color": "#2a3f5f"
           }
          },
          "ternary": {
           "aaxis": {
            "gridcolor": "white",
            "linecolor": "white",
            "ticks": ""
           },
           "baxis": {
            "gridcolor": "white",
            "linecolor": "white",
            "ticks": ""
           },
           "bgcolor": "#E5ECF6",
           "caxis": {
            "gridcolor": "white",
            "linecolor": "white",
            "ticks": ""
           }
          },
          "title": {
           "x": 0.05
          },
          "xaxis": {
           "automargin": true,
           "gridcolor": "white",
           "linecolor": "white",
           "ticks": "",
           "title": {
            "standoff": 15
           },
           "zerolinecolor": "white",
           "zerolinewidth": 2
          },
          "yaxis": {
           "automargin": true,
           "gridcolor": "white",
           "linecolor": "white",
           "ticks": "",
           "title": {
            "standoff": 15
           },
           "zerolinecolor": "white",
           "zerolinewidth": 2
          }
         }
        },
        "title": {
         "text": "Cap-Exempt H-1B Applications by State and Institution Type (Top 15 States)"
        },
        "xaxis": {
         "anchor": "y",
         "domain": [
          0,
          1
         ],
         "tickangle": -45,
         "title": {
          "text": "State"
         }
        },
        "yaxis": {
         "anchor": "x",
         "domain": [
          0,
          1
         ],
         "title": {
          "text": "Number of Applications"
         }
        }
       }
      }
     },
     "metadata": {},
     "output_type": "display_data"
    }
   ],
   "source": [
    "# Visualizing the distribution of cap-exempt institutions\n",
    "# Create a function to categorize NAICS codes\n",
    "def categorize_naics(code):\n",
    "    code_str = str(code)\n",
    "    if code_str.startswith('611'):\n",
    "        return 'Educational Services'\n",
    "    elif code == 541711:\n",
    "        return 'Biotech R&D'\n",
    "    elif code == 541712:\n",
    "        return 'Physical/Engineering R&D'\n",
    "    elif code_str.startswith('622'):\n",
    "        return 'Hospitals'\n",
    "    elif code == 927110:\n",
    "        return 'Space Research'\n",
    "    elif code_str.startswith('9271'):\n",
    "        return 'Government Research'\n",
    "    else:\n",
    "        return 'Other'\n",
    "\n",
    "# Add category column\n",
    "cap_exempt_institutions['Institution_Type'] = cap_exempt_institutions['NAICS_CODE'].apply(categorize_naics)\n",
    "\n",
    "# Create crosstab for stacked bar chart\n",
    "state_type_counts = cap_exempt_institutions.groupby(['EMPLOYER_STATE', 'Institution_Type']).size().reset_index(name='Count')\n",
    "\n",
    "# Get top 15 states by total count\n",
    "top_states = cap_exempt_institutions['EMPLOYER_STATE'].value_counts().head(15).index.tolist()\n",
    "state_type_counts_filtered = state_type_counts[state_type_counts['EMPLOYER_STATE'].isin(top_states)]\n",
    "\n",
    "# Create stacked bar chart\n",
    "fig = px.bar(\n",
    "    state_type_counts_filtered,\n",
    "    x='EMPLOYER_STATE',\n",
    "    y='Count',\n",
    "    color='Institution_Type',\n",
    "    title='Cap-Exempt H-1B Applications by State and Institution Type (Top 15 States)',\n",
    "    labels={'Count': 'Number of Applications', 'EMPLOYER_STATE': 'State'},\n",
    "    color_discrete_sequence=px.colors.qualitative.Set3\n",
    ")\n",
    "\n",
    "fig.update_layout(\n",
    "    xaxis_tickangle=-45,\n",
    "    height=600,\n",
    "    legend_title='Institution Type'\n",
    ")\n",
    "\n",
    "fig.show()"
   ]
  },
  {
   "cell_type": "code",
   "execution_count": 43,
   "metadata": {},
   "outputs": [
    {
     "data": {
      "application/vnd.plotly.v1+json": {
       "config": {
        "plotlyServerURL": "https://plot.ly"
       },
       "data": [
        {
         "coloraxis": "coloraxis",
         "geo": "geo",
         "hovertemplate": "State=%{location}<br>Number of Applications=%{z}<extra></extra>",
         "locationmode": "USA-states",
         "locations": [
          "NY",
          "CA",
          "TX",
          "MA",
          "PA",
          "IL",
          "FL",
          "GA",
          "NC",
          "OH",
          "MI",
          "MO",
          "MN",
          "MD",
          "VA",
          "IN",
          "TN",
          "WI",
          "NJ",
          "AZ",
          "IA",
          "CO",
          "CT",
          "WA",
          "SC",
          "LA",
          "UT",
          "AL",
          "NE",
          "NM",
          "KS",
          "OK",
          "OR",
          "DC",
          "KY",
          "AR",
          "ND",
          "SD",
          "MS",
          "DE",
          "AK",
          "RI",
          "ME",
          "WV",
          "VT",
          "NH",
          "NV",
          "ID",
          "MT",
          "HI",
          "WY",
          "MP",
          "GU",
          "PR",
          "VI"
         ],
         "name": "",
         "type": "choropleth",
         "z": {
          "bdata": "/wioCMwH7wUABeEDzANuAy0DFwMCA20CYAJIAi0CKwLxAeIBygGuAaEBnwGRAZEBfQF5ATUBIAEMAfoA+AD2AOUA1QDQAMcAuwCtAKQAgABuAGIAYQBXAFYAVABGAEIAMgAoABoADQANAAwACwA=",
          "dtype": "i2"
         }
        }
       ],
       "layout": {
        "coloraxis": {
         "colorbar": {
          "title": {
           "text": "Number of Applications"
          }
         },
         "colorscale": [
          [
           0,
           "rgb(247,251,255)"
          ],
          [
           0.125,
           "rgb(222,235,247)"
          ],
          [
           0.25,
           "rgb(198,219,239)"
          ],
          [
           0.375,
           "rgb(158,202,225)"
          ],
          [
           0.5,
           "rgb(107,174,214)"
          ],
          [
           0.625,
           "rgb(66,146,198)"
          ],
          [
           0.75,
           "rgb(33,113,181)"
          ],
          [
           0.875,
           "rgb(8,81,156)"
          ],
          [
           1,
           "rgb(8,48,107)"
          ]
         ]
        },
        "geo": {
         "center": {},
         "domain": {
          "x": [
           0,
           1
          ],
          "y": [
           0,
           1
          ]
         },
         "scope": "usa",
         "showcoastlines": true,
         "showframe": false
        },
        "height": 600,
        "legend": {
         "tracegroupgap": 0
        },
        "template": {
         "data": {
          "bar": [
           {
            "error_x": {
             "color": "#2a3f5f"
            },
            "error_y": {
             "color": "#2a3f5f"
            },
            "marker": {
             "line": {
              "color": "#E5ECF6",
              "width": 0.5
             },
             "pattern": {
              "fillmode": "overlay",
              "size": 10,
              "solidity": 0.2
             }
            },
            "type": "bar"
           }
          ],
          "barpolar": [
           {
            "marker": {
             "line": {
              "color": "#E5ECF6",
              "width": 0.5
             },
             "pattern": {
              "fillmode": "overlay",
              "size": 10,
              "solidity": 0.2
             }
            },
            "type": "barpolar"
           }
          ],
          "carpet": [
           {
            "aaxis": {
             "endlinecolor": "#2a3f5f",
             "gridcolor": "white",
             "linecolor": "white",
             "minorgridcolor": "white",
             "startlinecolor": "#2a3f5f"
            },
            "baxis": {
             "endlinecolor": "#2a3f5f",
             "gridcolor": "white",
             "linecolor": "white",
             "minorgridcolor": "white",
             "startlinecolor": "#2a3f5f"
            },
            "type": "carpet"
           }
          ],
          "choropleth": [
           {
            "colorbar": {
             "outlinewidth": 0,
             "ticks": ""
            },
            "type": "choropleth"
           }
          ],
          "contour": [
           {
            "colorbar": {
             "outlinewidth": 0,
             "ticks": ""
            },
            "colorscale": [
             [
              0,
              "#0d0887"
             ],
             [
              0.1111111111111111,
              "#46039f"
             ],
             [
              0.2222222222222222,
              "#7201a8"
             ],
             [
              0.3333333333333333,
              "#9c179e"
             ],
             [
              0.4444444444444444,
              "#bd3786"
             ],
             [
              0.5555555555555556,
              "#d8576b"
             ],
             [
              0.6666666666666666,
              "#ed7953"
             ],
             [
              0.7777777777777778,
              "#fb9f3a"
             ],
             [
              0.8888888888888888,
              "#fdca26"
             ],
             [
              1,
              "#f0f921"
             ]
            ],
            "type": "contour"
           }
          ],
          "contourcarpet": [
           {
            "colorbar": {
             "outlinewidth": 0,
             "ticks": ""
            },
            "type": "contourcarpet"
           }
          ],
          "heatmap": [
           {
            "colorbar": {
             "outlinewidth": 0,
             "ticks": ""
            },
            "colorscale": [
             [
              0,
              "#0d0887"
             ],
             [
              0.1111111111111111,
              "#46039f"
             ],
             [
              0.2222222222222222,
              "#7201a8"
             ],
             [
              0.3333333333333333,
              "#9c179e"
             ],
             [
              0.4444444444444444,
              "#bd3786"
             ],
             [
              0.5555555555555556,
              "#d8576b"
             ],
             [
              0.6666666666666666,
              "#ed7953"
             ],
             [
              0.7777777777777778,
              "#fb9f3a"
             ],
             [
              0.8888888888888888,
              "#fdca26"
             ],
             [
              1,
              "#f0f921"
             ]
            ],
            "type": "heatmap"
           }
          ],
          "histogram": [
           {
            "marker": {
             "pattern": {
              "fillmode": "overlay",
              "size": 10,
              "solidity": 0.2
             }
            },
            "type": "histogram"
           }
          ],
          "histogram2d": [
           {
            "colorbar": {
             "outlinewidth": 0,
             "ticks": ""
            },
            "colorscale": [
             [
              0,
              "#0d0887"
             ],
             [
              0.1111111111111111,
              "#46039f"
             ],
             [
              0.2222222222222222,
              "#7201a8"
             ],
             [
              0.3333333333333333,
              "#9c179e"
             ],
             [
              0.4444444444444444,
              "#bd3786"
             ],
             [
              0.5555555555555556,
              "#d8576b"
             ],
             [
              0.6666666666666666,
              "#ed7953"
             ],
             [
              0.7777777777777778,
              "#fb9f3a"
             ],
             [
              0.8888888888888888,
              "#fdca26"
             ],
             [
              1,
              "#f0f921"
             ]
            ],
            "type": "histogram2d"
           }
          ],
          "histogram2dcontour": [
           {
            "colorbar": {
             "outlinewidth": 0,
             "ticks": ""
            },
            "colorscale": [
             [
              0,
              "#0d0887"
             ],
             [
              0.1111111111111111,
              "#46039f"
             ],
             [
              0.2222222222222222,
              "#7201a8"
             ],
             [
              0.3333333333333333,
              "#9c179e"
             ],
             [
              0.4444444444444444,
              "#bd3786"
             ],
             [
              0.5555555555555556,
              "#d8576b"
             ],
             [
              0.6666666666666666,
              "#ed7953"
             ],
             [
              0.7777777777777778,
              "#fb9f3a"
             ],
             [
              0.8888888888888888,
              "#fdca26"
             ],
             [
              1,
              "#f0f921"
             ]
            ],
            "type": "histogram2dcontour"
           }
          ],
          "mesh3d": [
           {
            "colorbar": {
             "outlinewidth": 0,
             "ticks": ""
            },
            "type": "mesh3d"
           }
          ],
          "parcoords": [
           {
            "line": {
             "colorbar": {
              "outlinewidth": 0,
              "ticks": ""
             }
            },
            "type": "parcoords"
           }
          ],
          "pie": [
           {
            "automargin": true,
            "type": "pie"
           }
          ],
          "scatter": [
           {
            "fillpattern": {
             "fillmode": "overlay",
             "size": 10,
             "solidity": 0.2
            },
            "type": "scatter"
           }
          ],
          "scatter3d": [
           {
            "line": {
             "colorbar": {
              "outlinewidth": 0,
              "ticks": ""
             }
            },
            "marker": {
             "colorbar": {
              "outlinewidth": 0,
              "ticks": ""
             }
            },
            "type": "scatter3d"
           }
          ],
          "scattercarpet": [
           {
            "marker": {
             "colorbar": {
              "outlinewidth": 0,
              "ticks": ""
             }
            },
            "type": "scattercarpet"
           }
          ],
          "scattergeo": [
           {
            "marker": {
             "colorbar": {
              "outlinewidth": 0,
              "ticks": ""
             }
            },
            "type": "scattergeo"
           }
          ],
          "scattergl": [
           {
            "marker": {
             "colorbar": {
              "outlinewidth": 0,
              "ticks": ""
             }
            },
            "type": "scattergl"
           }
          ],
          "scattermap": [
           {
            "marker": {
             "colorbar": {
              "outlinewidth": 0,
              "ticks": ""
             }
            },
            "type": "scattermap"
           }
          ],
          "scattermapbox": [
           {
            "marker": {
             "colorbar": {
              "outlinewidth": 0,
              "ticks": ""
             }
            },
            "type": "scattermapbox"
           }
          ],
          "scatterpolar": [
           {
            "marker": {
             "colorbar": {
              "outlinewidth": 0,
              "ticks": ""
             }
            },
            "type": "scatterpolar"
           }
          ],
          "scatterpolargl": [
           {
            "marker": {
             "colorbar": {
              "outlinewidth": 0,
              "ticks": ""
             }
            },
            "type": "scatterpolargl"
           }
          ],
          "scatterternary": [
           {
            "marker": {
             "colorbar": {
              "outlinewidth": 0,
              "ticks": ""
             }
            },
            "type": "scatterternary"
           }
          ],
          "surface": [
           {
            "colorbar": {
             "outlinewidth": 0,
             "ticks": ""
            },
            "colorscale": [
             [
              0,
              "#0d0887"
             ],
             [
              0.1111111111111111,
              "#46039f"
             ],
             [
              0.2222222222222222,
              "#7201a8"
             ],
             [
              0.3333333333333333,
              "#9c179e"
             ],
             [
              0.4444444444444444,
              "#bd3786"
             ],
             [
              0.5555555555555556,
              "#d8576b"
             ],
             [
              0.6666666666666666,
              "#ed7953"
             ],
             [
              0.7777777777777778,
              "#fb9f3a"
             ],
             [
              0.8888888888888888,
              "#fdca26"
             ],
             [
              1,
              "#f0f921"
             ]
            ],
            "type": "surface"
           }
          ],
          "table": [
           {
            "cells": {
             "fill": {
              "color": "#EBF0F8"
             },
             "line": {
              "color": "white"
             }
            },
            "header": {
             "fill": {
              "color": "#C8D4E3"
             },
             "line": {
              "color": "white"
             }
            },
            "type": "table"
           }
          ]
         },
         "layout": {
          "annotationdefaults": {
           "arrowcolor": "#2a3f5f",
           "arrowhead": 0,
           "arrowwidth": 1
          },
          "autotypenumbers": "strict",
          "coloraxis": {
           "colorbar": {
            "outlinewidth": 0,
            "ticks": ""
           }
          },
          "colorscale": {
           "diverging": [
            [
             0,
             "#8e0152"
            ],
            [
             0.1,
             "#c51b7d"
            ],
            [
             0.2,
             "#de77ae"
            ],
            [
             0.3,
             "#f1b6da"
            ],
            [
             0.4,
             "#fde0ef"
            ],
            [
             0.5,
             "#f7f7f7"
            ],
            [
             0.6,
             "#e6f5d0"
            ],
            [
             0.7,
             "#b8e186"
            ],
            [
             0.8,
             "#7fbc41"
            ],
            [
             0.9,
             "#4d9221"
            ],
            [
             1,
             "#276419"
            ]
           ],
           "sequential": [
            [
             0,
             "#0d0887"
            ],
            [
             0.1111111111111111,
             "#46039f"
            ],
            [
             0.2222222222222222,
             "#7201a8"
            ],
            [
             0.3333333333333333,
             "#9c179e"
            ],
            [
             0.4444444444444444,
             "#bd3786"
            ],
            [
             0.5555555555555556,
             "#d8576b"
            ],
            [
             0.6666666666666666,
             "#ed7953"
            ],
            [
             0.7777777777777778,
             "#fb9f3a"
            ],
            [
             0.8888888888888888,
             "#fdca26"
            ],
            [
             1,
             "#f0f921"
            ]
           ],
           "sequentialminus": [
            [
             0,
             "#0d0887"
            ],
            [
             0.1111111111111111,
             "#46039f"
            ],
            [
             0.2222222222222222,
             "#7201a8"
            ],
            [
             0.3333333333333333,
             "#9c179e"
            ],
            [
             0.4444444444444444,
             "#bd3786"
            ],
            [
             0.5555555555555556,
             "#d8576b"
            ],
            [
             0.6666666666666666,
             "#ed7953"
            ],
            [
             0.7777777777777778,
             "#fb9f3a"
            ],
            [
             0.8888888888888888,
             "#fdca26"
            ],
            [
             1,
             "#f0f921"
            ]
           ]
          },
          "colorway": [
           "#636efa",
           "#EF553B",
           "#00cc96",
           "#ab63fa",
           "#FFA15A",
           "#19d3f3",
           "#FF6692",
           "#B6E880",
           "#FF97FF",
           "#FECB52"
          ],
          "font": {
           "color": "#2a3f5f"
          },
          "geo": {
           "bgcolor": "white",
           "lakecolor": "white",
           "landcolor": "#E5ECF6",
           "showlakes": true,
           "showland": true,
           "subunitcolor": "white"
          },
          "hoverlabel": {
           "align": "left"
          },
          "hovermode": "closest",
          "mapbox": {
           "style": "light"
          },
          "paper_bgcolor": "white",
          "plot_bgcolor": "#E5ECF6",
          "polar": {
           "angularaxis": {
            "gridcolor": "white",
            "linecolor": "white",
            "ticks": ""
           },
           "bgcolor": "#E5ECF6",
           "radialaxis": {
            "gridcolor": "white",
            "linecolor": "white",
            "ticks": ""
           }
          },
          "scene": {
           "xaxis": {
            "backgroundcolor": "#E5ECF6",
            "gridcolor": "white",
            "gridwidth": 2,
            "linecolor": "white",
            "showbackground": true,
            "ticks": "",
            "zerolinecolor": "white"
           },
           "yaxis": {
            "backgroundcolor": "#E5ECF6",
            "gridcolor": "white",
            "gridwidth": 2,
            "linecolor": "white",
            "showbackground": true,
            "ticks": "",
            "zerolinecolor": "white"
           },
           "zaxis": {
            "backgroundcolor": "#E5ECF6",
            "gridcolor": "white",
            "gridwidth": 2,
            "linecolor": "white",
            "showbackground": true,
            "ticks": "",
            "zerolinecolor": "white"
           }
          },
          "shapedefaults": {
           "line": {
            "color": "#2a3f5f"
           }
          },
          "ternary": {
           "aaxis": {
            "gridcolor": "white",
            "linecolor": "white",
            "ticks": ""
           },
           "baxis": {
            "gridcolor": "white",
            "linecolor": "white",
            "ticks": ""
           },
           "bgcolor": "#E5ECF6",
           "caxis": {
            "gridcolor": "white",
            "linecolor": "white",
            "ticks": ""
           }
          },
          "title": {
           "x": 0.05
          },
          "xaxis": {
           "automargin": true,
           "gridcolor": "white",
           "linecolor": "white",
           "ticks": "",
           "title": {
            "standoff": 15
           },
           "zerolinecolor": "white",
           "zerolinewidth": 2
          },
          "yaxis": {
           "automargin": true,
           "gridcolor": "white",
           "linecolor": "white",
           "ticks": "",
           "title": {
            "standoff": 15
           },
           "zerolinecolor": "white",
           "zerolinewidth": 2
          }
         }
        },
        "title": {
         "text": "Cap-Exempt H-1B Applications by State",
         "x": 0.5
        }
       }
      }
     },
     "metadata": {},
     "output_type": "display_data"
    }
   ],
   "source": [
    "# Geographical visualization\n",
    "# Count by state for map\n",
    "state_counts_map = cap_exempt_institutions['EMPLOYER_STATE'].value_counts().reset_index()\n",
    "state_counts_map.columns = ['State', 'Count']\n",
    "\n",
    "# Create choropleth map\n",
    "fig = px.choropleth(\n",
    "    state_counts_map,\n",
    "    locations='State',\n",
    "    color='Count',\n",
    "    locationmode='USA-states',\n",
    "    scope='usa',\n",
    "    title='Cap-Exempt H-1B Applications by State',\n",
    "    labels={'Count': 'Number of Applications'},\n",
    "    color_continuous_scale='Blues'\n",
    ")\n",
    "\n",
    "fig.update_layout(\n",
    "    geo=dict(\n",
    "        showframe=False,\n",
    "        showcoastlines=True,\n",
    "    ),\n",
    "    title_x=0.5,\n",
    "    height=600\n",
    ")\n",
    "\n",
    "fig.show()"
   ]
  },
  {
   "cell_type": "code",
   "execution_count": null,
   "metadata": {},
   "outputs": [
    {
     "data": {
      "application/vnd.plotly.v1+json": {
       "config": {
        "plotlyServerURL": "https://plot.ly"
       },
       "data": [
        {
         "marker": {
          "color": "skyblue"
         },
         "name": "NY",
         "orientation": "h",
         "type": "bar",
         "x": {
          "bdata": "+gBvAGYAYwBgAFsAWABKADQAMAAvAC0ALAApACYAJgAhAB4AHAAaAA==",
          "dtype": "i2"
         },
         "y": [
          "Columbia University",
          "Icahn School of Medicine at Mount Sinai",
          "NYU Grossman School of Medicine",
          "Cornell University",
          "University of Rochester",
          "Weill Cornell Medical College",
          "Memorial Sloan Kettering Cancer Center",
          "New York University",
          "Mount Sinai Hospital",
          "NORTHWELL HEALTH",
          "Albert Einstein College of Medicine ",
          "Northwell Health",
          "MONTEFIORE MEDICAL CENTER",
          "Rensselaer Polytechnic Institute",
          "STATE UNIVERSITY OF NEW YORK AT BINGHAMTON",
          "The Rockefeller University",
          "Rochester Institute of Technology",
          "ST. BARNABAS HOSPITAL",
          "New York City Department of Education",
          "Syracuse University"
         ]
        }
       ],
       "layout": {
        "height": 800,
        "template": {
         "data": {
          "bar": [
           {
            "error_x": {
             "color": "#2a3f5f"
            },
            "error_y": {
             "color": "#2a3f5f"
            },
            "marker": {
             "line": {
              "color": "#E5ECF6",
              "width": 0.5
             },
             "pattern": {
              "fillmode": "overlay",
              "size": 10,
              "solidity": 0.2
             }
            },
            "type": "bar"
           }
          ],
          "barpolar": [
           {
            "marker": {
             "line": {
              "color": "#E5ECF6",
              "width": 0.5
             },
             "pattern": {
              "fillmode": "overlay",
              "size": 10,
              "solidity": 0.2
             }
            },
            "type": "barpolar"
           }
          ],
          "carpet": [
           {
            "aaxis": {
             "endlinecolor": "#2a3f5f",
             "gridcolor": "white",
             "linecolor": "white",
             "minorgridcolor": "white",
             "startlinecolor": "#2a3f5f"
            },
            "baxis": {
             "endlinecolor": "#2a3f5f",
             "gridcolor": "white",
             "linecolor": "white",
             "minorgridcolor": "white",
             "startlinecolor": "#2a3f5f"
            },
            "type": "carpet"
           }
          ],
          "choropleth": [
           {
            "colorbar": {
             "outlinewidth": 0,
             "ticks": ""
            },
            "type": "choropleth"
           }
          ],
          "contour": [
           {
            "colorbar": {
             "outlinewidth": 0,
             "ticks": ""
            },
            "colorscale": [
             [
              0,
              "#0d0887"
             ],
             [
              0.1111111111111111,
              "#46039f"
             ],
             [
              0.2222222222222222,
              "#7201a8"
             ],
             [
              0.3333333333333333,
              "#9c179e"
             ],
             [
              0.4444444444444444,
              "#bd3786"
             ],
             [
              0.5555555555555556,
              "#d8576b"
             ],
             [
              0.6666666666666666,
              "#ed7953"
             ],
             [
              0.7777777777777778,
              "#fb9f3a"
             ],
             [
              0.8888888888888888,
              "#fdca26"
             ],
             [
              1,
              "#f0f921"
             ]
            ],
            "type": "contour"
           }
          ],
          "contourcarpet": [
           {
            "colorbar": {
             "outlinewidth": 0,
             "ticks": ""
            },
            "type": "contourcarpet"
           }
          ],
          "heatmap": [
           {
            "colorbar": {
             "outlinewidth": 0,
             "ticks": ""
            },
            "colorscale": [
             [
              0,
              "#0d0887"
             ],
             [
              0.1111111111111111,
              "#46039f"
             ],
             [
              0.2222222222222222,
              "#7201a8"
             ],
             [
              0.3333333333333333,
              "#9c179e"
             ],
             [
              0.4444444444444444,
              "#bd3786"
             ],
             [
              0.5555555555555556,
              "#d8576b"
             ],
             [
              0.6666666666666666,
              "#ed7953"
             ],
             [
              0.7777777777777778,
              "#fb9f3a"
             ],
             [
              0.8888888888888888,
              "#fdca26"
             ],
             [
              1,
              "#f0f921"
             ]
            ],
            "type": "heatmap"
           }
          ],
          "histogram": [
           {
            "marker": {
             "pattern": {
              "fillmode": "overlay",
              "size": 10,
              "solidity": 0.2
             }
            },
            "type": "histogram"
           }
          ],
          "histogram2d": [
           {
            "colorbar": {
             "outlinewidth": 0,
             "ticks": ""
            },
            "colorscale": [
             [
              0,
              "#0d0887"
             ],
             [
              0.1111111111111111,
              "#46039f"
             ],
             [
              0.2222222222222222,
              "#7201a8"
             ],
             [
              0.3333333333333333,
              "#9c179e"
             ],
             [
              0.4444444444444444,
              "#bd3786"
             ],
             [
              0.5555555555555556,
              "#d8576b"
             ],
             [
              0.6666666666666666,
              "#ed7953"
             ],
             [
              0.7777777777777778,
              "#fb9f3a"
             ],
             [
              0.8888888888888888,
              "#fdca26"
             ],
             [
              1,
              "#f0f921"
             ]
            ],
            "type": "histogram2d"
           }
          ],
          "histogram2dcontour": [
           {
            "colorbar": {
             "outlinewidth": 0,
             "ticks": ""
            },
            "colorscale": [
             [
              0,
              "#0d0887"
             ],
             [
              0.1111111111111111,
              "#46039f"
             ],
             [
              0.2222222222222222,
              "#7201a8"
             ],
             [
              0.3333333333333333,
              "#9c179e"
             ],
             [
              0.4444444444444444,
              "#bd3786"
             ],
             [
              0.5555555555555556,
              "#d8576b"
             ],
             [
              0.6666666666666666,
              "#ed7953"
             ],
             [
              0.7777777777777778,
              "#fb9f3a"
             ],
             [
              0.8888888888888888,
              "#fdca26"
             ],
             [
              1,
              "#f0f921"
             ]
            ],
            "type": "histogram2dcontour"
           }
          ],
          "mesh3d": [
           {
            "colorbar": {
             "outlinewidth": 0,
             "ticks": ""
            },
            "type": "mesh3d"
           }
          ],
          "parcoords": [
           {
            "line": {
             "colorbar": {
              "outlinewidth": 0,
              "ticks": ""
             }
            },
            "type": "parcoords"
           }
          ],
          "pie": [
           {
            "automargin": true,
            "type": "pie"
           }
          ],
          "scatter": [
           {
            "fillpattern": {
             "fillmode": "overlay",
             "size": 10,
             "solidity": 0.2
            },
            "type": "scatter"
           }
          ],
          "scatter3d": [
           {
            "line": {
             "colorbar": {
              "outlinewidth": 0,
              "ticks": ""
             }
            },
            "marker": {
             "colorbar": {
              "outlinewidth": 0,
              "ticks": ""
             }
            },
            "type": "scatter3d"
           }
          ],
          "scattercarpet": [
           {
            "marker": {
             "colorbar": {
              "outlinewidth": 0,
              "ticks": ""
             }
            },
            "type": "scattercarpet"
           }
          ],
          "scattergeo": [
           {
            "marker": {
             "colorbar": {
              "outlinewidth": 0,
              "ticks": ""
             }
            },
            "type": "scattergeo"
           }
          ],
          "scattergl": [
           {
            "marker": {
             "colorbar": {
              "outlinewidth": 0,
              "ticks": ""
             }
            },
            "type": "scattergl"
           }
          ],
          "scattermap": [
           {
            "marker": {
             "colorbar": {
              "outlinewidth": 0,
              "ticks": ""
             }
            },
            "type": "scattermap"
           }
          ],
          "scattermapbox": [
           {
            "marker": {
             "colorbar": {
              "outlinewidth": 0,
              "ticks": ""
             }
            },
            "type": "scattermapbox"
           }
          ],
          "scatterpolar": [
           {
            "marker": {
             "colorbar": {
              "outlinewidth": 0,
              "ticks": ""
             }
            },
            "type": "scatterpolar"
           }
          ],
          "scatterpolargl": [
           {
            "marker": {
             "colorbar": {
              "outlinewidth": 0,
              "ticks": ""
             }
            },
            "type": "scatterpolargl"
           }
          ],
          "scatterternary": [
           {
            "marker": {
             "colorbar": {
              "outlinewidth": 0,
              "ticks": ""
             }
            },
            "type": "scatterternary"
           }
          ],
          "surface": [
           {
            "colorbar": {
             "outlinewidth": 0,
             "ticks": ""
            },
            "colorscale": [
             [
              0,
              "#0d0887"
             ],
             [
              0.1111111111111111,
              "#46039f"
             ],
             [
              0.2222222222222222,
              "#7201a8"
             ],
             [
              0.3333333333333333,
              "#9c179e"
             ],
             [
              0.4444444444444444,
              "#bd3786"
             ],
             [
              0.5555555555555556,
              "#d8576b"
             ],
             [
              0.6666666666666666,
              "#ed7953"
             ],
             [
              0.7777777777777778,
              "#fb9f3a"
             ],
             [
              0.8888888888888888,
              "#fdca26"
             ],
             [
              1,
              "#f0f921"
             ]
            ],
            "type": "surface"
           }
          ],
          "table": [
           {
            "cells": {
             "fill": {
              "color": "#EBF0F8"
             },
             "line": {
              "color": "white"
             }
            },
            "header": {
             "fill": {
              "color": "#C8D4E3"
             },
             "line": {
              "color": "white"
             }
            },
            "type": "table"
           }
          ]
         },
         "layout": {
          "annotationdefaults": {
           "arrowcolor": "#2a3f5f",
           "arrowhead": 0,
           "arrowwidth": 1
          },
          "autotypenumbers": "strict",
          "coloraxis": {
           "colorbar": {
            "outlinewidth": 0,
            "ticks": ""
           }
          },
          "colorscale": {
           "diverging": [
            [
             0,
             "#8e0152"
            ],
            [
             0.1,
             "#c51b7d"
            ],
            [
             0.2,
             "#de77ae"
            ],
            [
             0.3,
             "#f1b6da"
            ],
            [
             0.4,
             "#fde0ef"
            ],
            [
             0.5,
             "#f7f7f7"
            ],
            [
             0.6,
             "#e6f5d0"
            ],
            [
             0.7,
             "#b8e186"
            ],
            [
             0.8,
             "#7fbc41"
            ],
            [
             0.9,
             "#4d9221"
            ],
            [
             1,
             "#276419"
            ]
           ],
           "sequential": [
            [
             0,
             "#0d0887"
            ],
            [
             0.1111111111111111,
             "#46039f"
            ],
            [
             0.2222222222222222,
             "#7201a8"
            ],
            [
             0.3333333333333333,
             "#9c179e"
            ],
            [
             0.4444444444444444,
             "#bd3786"
            ],
            [
             0.5555555555555556,
             "#d8576b"
            ],
            [
             0.6666666666666666,
             "#ed7953"
            ],
            [
             0.7777777777777778,
             "#fb9f3a"
            ],
            [
             0.8888888888888888,
             "#fdca26"
            ],
            [
             1,
             "#f0f921"
            ]
           ],
           "sequentialminus": [
            [
             0,
             "#0d0887"
            ],
            [
             0.1111111111111111,
             "#46039f"
            ],
            [
             0.2222222222222222,
             "#7201a8"
            ],
            [
             0.3333333333333333,
             "#9c179e"
            ],
            [
             0.4444444444444444,
             "#bd3786"
            ],
            [
             0.5555555555555556,
             "#d8576b"
            ],
            [
             0.6666666666666666,
             "#ed7953"
            ],
            [
             0.7777777777777778,
             "#fb9f3a"
            ],
            [
             0.8888888888888888,
             "#fdca26"
            ],
            [
             1,
             "#f0f921"
            ]
           ]
          },
          "colorway": [
           "#636efa",
           "#EF553B",
           "#00cc96",
           "#ab63fa",
           "#FFA15A",
           "#19d3f3",
           "#FF6692",
           "#B6E880",
           "#FF97FF",
           "#FECB52"
          ],
          "font": {
           "color": "#2a3f5f"
          },
          "geo": {
           "bgcolor": "white",
           "lakecolor": "white",
           "landcolor": "#E5ECF6",
           "showlakes": true,
           "showland": true,
           "subunitcolor": "white"
          },
          "hoverlabel": {
           "align": "left"
          },
          "hovermode": "closest",
          "mapbox": {
           "style": "light"
          },
          "paper_bgcolor": "white",
          "plot_bgcolor": "#E5ECF6",
          "polar": {
           "angularaxis": {
            "gridcolor": "white",
            "linecolor": "white",
            "ticks": ""
           },
           "bgcolor": "#E5ECF6",
           "radialaxis": {
            "gridcolor": "white",
            "linecolor": "white",
            "ticks": ""
           }
          },
          "scene": {
           "xaxis": {
            "backgroundcolor": "#E5ECF6",
            "gridcolor": "white",
            "gridwidth": 2,
            "linecolor": "white",
            "showbackground": true,
            "ticks": "",
            "zerolinecolor": "white"
           },
           "yaxis": {
            "backgroundcolor": "#E5ECF6",
            "gridcolor": "white",
            "gridwidth": 2,
            "linecolor": "white",
            "showbackground": true,
            "ticks": "",
            "zerolinecolor": "white"
           },
           "zaxis": {
            "backgroundcolor": "#E5ECF6",
            "gridcolor": "white",
            "gridwidth": 2,
            "linecolor": "white",
            "showbackground": true,
            "ticks": "",
            "zerolinecolor": "white"
           }
          },
          "shapedefaults": {
           "line": {
            "color": "#2a3f5f"
           }
          },
          "ternary": {
           "aaxis": {
            "gridcolor": "white",
            "linecolor": "white",
            "ticks": ""
           },
           "baxis": {
            "gridcolor": "white",
            "linecolor": "white",
            "ticks": ""
           },
           "bgcolor": "#E5ECF6",
           "caxis": {
            "gridcolor": "white",
            "linecolor": "white",
            "ticks": ""
           }
          },
          "title": {
           "x": 0.05
          },
          "xaxis": {
           "automargin": true,
           "gridcolor": "white",
           "linecolor": "white",
           "ticks": "",
           "title": {
            "standoff": 15
           },
           "zerolinecolor": "white",
           "zerolinewidth": 2
          },
          "yaxis": {
           "automargin": true,
           "gridcolor": "white",
           "linecolor": "white",
           "ticks": "",
           "title": {
            "standoff": 15
           },
           "zerolinecolor": "white",
           "zerolinewidth": 2
          }
         }
        },
        "title": {
         "text": "Top 20 Cap-Exempt Institutions by State (Select State from Dropdown)"
        },
        "updatemenus": [
         {
          "buttons": [
           {
            "args": [
             {
              "x": [
               [
                26,
                15,
                15,
                13,
                7,
                5,
                5,
                4,
                3,
                3,
                3,
                2,
                2,
                2,
                2,
                1,
                1,
                1
               ]
              ],
              "y": [
               [
                "Bering Strait School District",
                "University of Alaska ",
                "Northwest Arctic Borough School District",
                "Galena City School District",
                "Kodiak Island Borough School District",
                "Southwest Region School District",
                "Alaska Gateway School District",
                "NORTH SLOPE BOROUGH SCHOOL DISTRICT",
                "Kuspuk School District",
                "Anchorage School District",
                "Yupiit School District",
                "Dillingham City School District",
                "Denali Borough School District",
                "Pribilof School District",
                "Lower Yukon School District",
                "Yukon Flats School District",
                "Lower Kuskokwim School District",
                "University of Alaska"
               ]
              ]
             }
            ],
            "label": "AK",
            "method": "restyle"
           },
           {
            "args": [
             {
              "x": [
               [
                168,
                33,
                28,
                7,
                7,
                6,
                6,
                4,
                3,
                3,
                2,
                2,
                2,
                2,
                2,
                1,
                1,
                1,
                1,
                1
               ]
              ],
              "y": [
               [
                "The University of Alabama at Birmingham",
                "Auburn University",
                "The University of Alabama",
                "Tuskegee University",
                "USA HealthCare Management, LLC",
                "Auburn University at Montgomery",
                "The University of Alabama in Huntsville",
                "University of South Alabama",
                "Jackson Hospital and Clinic, Inc.",
                "THE HEALTH CARE AUTHORITY OF THE CITY OF HUNTSVILLE",
                "The Health Care Authority of the City of Huntsville",
                "University of North Alabama",
                "Vaughan Regional Medical Center, LLC",
                "Troy University",
                "SAMFORD UNIVERSITY",
                "Encompass Health Corporation",
                "Jacksonville State University",
                "Alabama A&M University",
                "Huntingdon College",
                "Alabama State University"
               ]
              ]
             }
            ],
            "label": "AL",
            "method": "restyle"
           },
           {
            "args": [
             {
              "x": [
               [
                63,
                30,
                12,
                10,
                9,
                7,
                6,
                6,
                6,
                5,
                4,
                4,
                3,
                3,
                3,
                3,
                2,
                2,
                2,
                2
               ]
              ],
              "y": [
               [
                "University of Arkansas for Medical Sciences",
                "University of Arkansas",
                "Arkansas State University",
                "Little Scholars of Arkansas",
                "University of Arkansas System Division of Agriculture",
                "Mercy Clinic Fort Smith Communities",
                "University of Arkansas at Pine Bluff",
                "Superintendent of Marion School District",
                "University of Central Arkansas",
                "St. Vincent Infirmary Medical Center",
                "Southern Arkansas University",
                "Superintendent of Osceola Public Schools",
                "Arkansas Health Group",
                "University of the Ozarks",
                "Baptist Health Group",
                "ARKANSAS TECH UNIVERSITY",
                "Camden Fairview School District No. 16",
                "Baptist Health Services",
                "The University of Arkansas at Little Rock",
                "The University of Arkansas at Monticello"
               ]
              ]
             }
            ],
            "label": "AR",
            "method": "restyle"
           },
           {
            "args": [
             {
              "x": [
               [
                87,
                47,
                19,
                17,
                16,
                14,
                14,
                13,
                12,
                10,
                8,
                8,
                7,
                7,
                6,
                5,
                5,
                5,
                5,
                4
               ]
              ],
              "y": [
               [
                "Arizona State University",
                "The University of Arizona",
                "The University of Phoenix, Inc.",
                "Banner University Medical Group",
                "Banner Health",
                "Northern Arizona University",
                "Dignity Health",
                "Banner Medical Group",
                "Harvest Power Community Development Group, Inc.",
                "University of Arizona",
                "County of Santa Cruz, Nogales Unified School District 1",
                "Deer Valley Unified School District 97",
                "Tucson Unified School District",
                "Arizona Autism Charter Schools, Inc",
                "HonorHealth",
                "Dishchiibikoh Community School",
                "Santa Cruz Valley Unified School District No. 35",
                "Maricopa Unified School District",
                "Roosevelt School District 66",
                "County of Maricopa Tolleson Elementary School District 17"
               ]
              ]
             }
            ],
            "label": "AZ",
            "method": "restyle"
           },
           {
            "args": [
             {
              "x": [
               [
                278,
                171,
                156,
                104,
                101,
                99,
                81,
                66,
                56,
                56,
                52,
                51,
                47,
                42,
                36,
                25,
                23,
                23,
                20,
                20
               ]
              ],
              "y": [
               [
                "The Leland Stanford, Jr University",
                "UNIVERSITY OF CALIFORNIA, SAN DIEGO",
                "University of California, San Francisco",
                "University of California, Davis",
                "University of California, Berkeley",
                "University of California, Los Angeles",
                "The University of Southern California",
                "Cedars-Sinai Medical Center",
                "Regents of the University of California at Riverside",
                "Leland Stanford Jr. Univ/SLAC National Accelerator Lab",
                "California Institute of Technology",
                "Stanford Health Care",
                "UNIVERSITY OF CALIFORNIA, IRVINE",
                "University of California at Santa Barbara",
                "San Jose Unified School District",
                "Palmdale Elementary School District",
                "US ARMY DEFENSE LANGUAGE INSTITUTE FOREIGN LANGUAGE CENTER",
                "San Diego State University",
                "THE UNIVERSITY OF SOUTHERN CALIFORNIA",
                "CALIFORNIA POLYTECHNIC STATE UNIVERSITY, SAN LUIS OBISPO"
               ]
              ]
             }
            ],
            "label": "CA",
            "method": "restyle"
           },
           {
            "args": [
             {
              "x": [
               [
                83,
                70,
                68,
                36,
                18,
                10,
                10,
                8,
                7,
                5,
                4,
                4,
                3,
                3,
                3,
                3,
                3,
                3,
                3,
                2
               ]
              ],
              "y": [
               [
                "University of Colorado",
                "University of Colorado Denver",
                "Denver Public Schools District 1",
                "Colorado State University",
                "Colorado Seminary",
                "Colorado School of Mines",
                "Metropolitan State University of Denver",
                "University of Northern Colorado ",
                "CommonSpirit Health",
                "University of Colorado Health",
                "Roaring Fork School District RE-1",
                "Dignity Health",
                "Colorado Mountain College",
                "Regis University",
                "Global Village Academy - Aurora",
                "Colorado Mesa University ",
                "Guild Education, Inc.",
                "University of Colorado Hospital Authority",
                "Telluride School District R-1",
                "Aspen School District RE-1"
               ]
              ]
             }
            ],
            "label": "CO",
            "method": "restyle"
           },
           {
            "args": [
             {
              "x": [
               [
                185,
                32,
                28,
                19,
                15,
                12,
                10,
                8,
                8,
                6,
                6,
                5,
                5,
                5,
                4,
                4,
                4,
                3,
                3,
                3
               ]
              ],
              "y": [
               [
                "Yale University",
                "University of Connecticut",
                "University of Connecticut Health Center",
                "Yale New Haven Hospital",
                "Fairfield University",
                "CENTRAL CONNECTICUT STATE UNIVERSITY",
                "Trinity Health of New England Provider Network Organization, Inc.",
                "The University of Bridgeport, Inc.",
                "Bridgeport Hospital",
                "Yale-New Haven Hospital",
                "Wesleyan University",
                "Trinity Health of New England Provider Network Organization, Inc. d/b/a TrinityHealthofNewEngMedGrp",
                "Trinity College",
                "The Stamford Hospital",
                "Eastern Connecticut State University",
                "Danbury Hospital",
                "InGenius LLC",
                "The Hospital of Central Connecticut",
                "Nuvance Health Medical Practice CT, Inc.",
                "Southern Connecticut State University"
               ]
              ]
             }
            ],
            "label": "CT",
            "method": "restyle"
           },
           {
            "args": [
             {
              "x": [
               [
                54,
                54,
                38,
                10,
                9,
                7,
                6,
                4,
                4,
                4,
                3,
                3,
                2,
                2,
                2,
                1,
                1,
                1,
                1,
                1
               ]
              ],
              "y": [
               [
                "Georgetown University",
                "DISTRICT OF COLUMBIA PUBLIC SCHOOLS",
                "Children's National Medical Center",
                "The Catholic University of America",
                "Howard University",
                "American University",
                "The George Washington University",
                "National Rehabilitation Hospital, Inc.",
                "Washington Yu Ying Public Charter School",
                "Washington International School",
                "Washington Hospital Center Corporation",
                "Global Citizens Public Charter School ",
                "Gallaudet University",
                "District of Columbia International School",
                "MedStar-Georgetown Medical Center, Inc.",
                "FRIENDSHIP PUBLIC CHARTER SCHOOL",
                "Perry Street Preparatory Public Charter School",
                "DC BILINGUAL PUBLIC CHARTER SCHOOL",
                "Lee Montessori Public Charter Schools",
                "Institute for Educational Leadership, Inc."
               ]
              ]
             }
            ],
            "label": "DC",
            "method": "restyle"
           },
           {
            "args": [
             {
              "x": [
               [
                49,
                27,
                15,
                9,
                3,
                3,
                3,
                3,
                3,
                2,
                2,
                2,
                1,
                1,
                1,
                1,
                1,
                1,
                1
               ]
              ],
              "y": [
               [
                "UNIVERSITY OF DELAWARE",
                "Christiana Care Health Services, Inc.",
                "Appoquininmink School District ",
                "Bayhealth Medical Center, Inc.",
                "State of Delaware",
                "Malengo Inc.",
                "Nephrology Associates, P.A.",
                "Caesar Rodney School District",
                "State of Delaware d/b/a Cape Henlopen School District",
                "Wilmington University",
                "Cape Henlopen School District",
                "Red Clay Consolidated School District",
                "Red Clay Consolidated School Disctrict",
                "UHS of Dover, LLC d/b/a Dover Behavioral Health System",
                "Delaware State University",
                "St. Andrew's School of Delaware",
                "The Nemours Foundation - Nemours Children's Health",
                "Academia Antonia Alonso Charter School",
                "University of Delaware"
               ]
              ]
             }
            ],
            "label": "DE",
            "method": "restyle"
           },
           {
            "args": [
             {
              "x": [
               [
                149,
                72,
                60,
                59,
                51,
                31,
                24,
                24,
                21,
                19,
                18,
                17,
                15,
                14,
                13,
                12,
                12,
                12,
                12,
                12
               ]
              ],
              "y": [
               [
                "UNIVERSITY OF FLORIDA",
                "UNIVERSITY OF MIAMI",
                "University of South Florida",
                "Adventist Health System/Sunbelt, Inc. ",
                "The Florida State University",
                "Embry-Riddle Aeronautical University",
                "University Community Hospital, Inc.",
                "The Nemours Foundation - Nemours Children's Health",
                "UNIVERSITY OF CENTRAL FLORIDA",
                "Adventist Health System/Sunbelt Inc. ",
                "Mount Sinai Medical Center of Florida",
                "ADVENTIST HEALTH SYSTEM SUNBELT HEALTHCARE CORP",
                "FLORIDA INTERNATIONAL UNIVERSITY",
                "H. LEE MOFFITT CANCER CENTER & RESEARCH INSTITUTE, INC.",
                "Florida Institute of Technology",
                "FLORIDA ATLANTIC UNIVERSITY",
                "H. Lee Moffitt Cancer Center & Research Institute, Inc.",
                "ADVENTIST HEALTH SYSTEM SUNBELT HEALTHCARE CORP.",
                "NOVA SOUTHEASTERN UNIVERSITY",
                "Adventist Health System/Sunbelt, Inc."
               ]
              ]
             }
            ],
            "label": "FL",
            "method": "restyle"
           },
           {
            "args": [
             {
              "x": [
               [
                220,
                132,
                74,
                42,
                35,
                29,
                28,
                25,
                24,
                21,
                17,
                14,
                13,
                10,
                9,
                7,
                6,
                6,
                6,
                6
               ]
              ],
              "y": [
               [
                "Emory University",
                "SAVANNAH CHATHAM COUNTY PUBLIC SCHOOL SYSTEM",
                "Georgia Institute of Technology",
                "University of Georgia",
                "University of Georgia; OGE",
                "EMORY HEALTHCARE, INC.",
                "BOR USGA obo Augusta University",
                "Georgia State University",
                "EDU INFOTECH INTERNATIONAL RESOURCES INC",
                "Savannah College of Art and Design, Inc.",
                "Dougherty County School District",
                "KENNESAW STATE UNIVERSITY",
                "The Corporation of Mercer University",
                "Bibb County School District",
                "Piedmont Athens Regional Medical Center, Inc.",
                "MOREHOUSE SCHOOL OF MEDICINE",
                "Columbus Ambulatory Healthcare Services, Inc.",
                "UNIVERSITY OF NORTH GEORGIA",
                "ALBANY STATE UNIVERSITY",
                "Wellstar Medical Group, LLC"
               ]
              ]
             }
            ],
            "label": "GA",
            "method": "restyle"
           },
           {
            "args": [
             {
              "x": [
               [
                5,
                3,
                3,
                2
               ]
              ],
              "y": [
               [
                "University of Guam",
                "Saint Paul Christian School",
                "GUAM HEALTHCARE DEVELOPMENT INC.",
                "GUAM HEALTHCARE DEVELOPMENT, INC."
               ]
              ]
             }
            ],
            "label": "GU",
            "method": "restyle"
           },
           {
            "args": [
             {
              "x": [
               [
                28,
                3,
                2,
                1,
                1,
                1,
                1,
                1,
                1,
                1
               ]
              ],
              "y": [
               [
                "University of Hawaii",
                "Brigham Young University Hawaii",
                "Hawaii Conference of Seventh-Day Adventists",
                "Hawai'i Pacific University",
                "MID PACIFIC PHYSICIANS AND SURGEONS LLP",
                "Asia Pacific Educational Foundation",
                "MID PACIFIC PHYSICIANS AND SURGEONS, LLP",
                "Mid Pacific Surgical Specialists",
                "Mililani 10s Kidz Inc",
                "THE QUEEN'S MEDICAL CENTER"
               ]
              ]
             }
            ],
            "label": "HI",
            "method": "restyle"
           },
           {
            "args": [
             {
              "x": [
               [
                179,
                90,
                15,
                10,
                7,
                5,
                5,
                4,
                4,
                4,
                3,
                3,
                3,
                3,
                3,
                3,
                2,
                2,
                2,
                2
               ]
              ],
              "y": [
               [
                "The University of Iowa",
                "Iowa State University of Science and Technology",
                "MAHARISHI International UNIVERSITY",
                "Iowa Physicians Clinic Medical Foundation",
                "Southeast Iowa Regional Medical Center",
                "Genesis Health System",
                "Floyd Valley Healthcare",
                "Great River Health System, Inc.",
                "Mercy Hospital, Cedar Rapids, Iowa",
                "Northwest Iowa Hospital Corporation",
                "St. Anthony Regional Hospital and Nursing Home",
                "University of Iowa",
                "Davis County Hospital",
                "Mercy Clinics, Inc.",
                "Trustees of Grinnell College",
                "Covenant Medical Center, Inc.",
                "Burgess Health Center",
                "Trinity Regional Medical Center",
                "Council Bluffs Community School District",
                "Des Moines Area Community College"
               ]
              ]
             }
            ],
            "label": "IA",
            "method": "restyle"
           },
           {
            "args": [
             {
              "x": [
               [
                17,
                14,
                9,
                4,
                4,
                3,
                3,
                3,
                2,
                2,
                1,
                1,
                1,
                1,
                1
               ]
              ],
              "y": [
               [
                "University of Idaho",
                "Boise State University",
                "Idaho State University",
                "Jefferson Joint School District 251 ",
                "BOISE STATE UNIVERSITY",
                "Syringa Hospital District",
                "Horizon Projects Idaho LLC",
                "Brigham Young University - Idaho",
                "Teton School District 401",
                "Walter Knox Memorial Hospital",
                "Alturas Preparatory Academy",
                "The College of Idaho",
                "St. Luke's Health System, Ltd.",
                "Saint Alphonsus Health Systems, Inc.",
                "Benewah Community Hospital"
               ]
              ]
             }
            ],
            "label": "ID",
            "method": "restyle"
           },
           {
            "args": [
             {
              "x": [
               [
                154,
                149,
                103,
                64,
                34,
                27,
                26,
                25,
                23,
                21,
                19,
                18,
                18,
                18,
                16,
                15,
                15,
                14,
                12,
                11
               ]
              ],
              "y": [
               [
                "Northwestern University",
                "The University of Chicago",
                "University of Illinois",
                "University of Illinois Chicago",
                "Northwestern Memorial HealthCare",
                "OSF Healthcare System ",
                "OSF Multi-Specialty Group ",
                "Rush Medical Group",
                "JACKSON PARK HOSPITAL FOUNDATION",
                "University of Chicago Medical Center",
                "Loyola University Chicago",
                "Cook County Health",
                "Rush University Medical Center",
                "University of Chicago",
                "Illinois State University",
                "DePaul University",
                "Illinois Institute of Technology",
                "Chicago Public Schools",
                "RESILIENCE HEALTHCARE CHICAGO GRADUATE EDUCATION FOUNDATION",
                "Southern Illinois University School of Medicine"
               ]
              ]
             }
            ],
            "label": "IL",
            "method": "restyle"
           },
           {
            "args": [
             {
              "x": [
               [
                155,
                118,
                82,
                54,
                16,
                15,
                13,
                12,
                8,
                6,
                6,
                6,
                5,
                5,
                3,
                3,
                3,
                3,
                3,
                2
               ]
              ],
              "y": [
               [
                "Purdue University",
                "Indiana University Indianapolis",
                "Indiana University",
                "University of Notre Dame du Lac",
                "University of Southern Indiana",
                "Indiana University Health, Inc.",
                "Indiana University Purdue University Indianapolis",
                "Ball State University",
                "Parkview Health System, Inc.",
                "Deaconess Hospital, Inc. ",
                "Ivy Tech Community College",
                "DePauw University",
                "BUTLER UNIVERSITY",
                "Franciscan Alliance Inc.",
                "Indiana Wesleyan University",
                "Putnam County Hospital",
                "St. Mary Medical Center",
                "Earlham College",
                "COMMUNITY FOUNDATION OF NORTHWEST INDIANA, INC. ",
                "COMMUNITY HEALTH NETWORK, INC."
               ]
              ]
             }
            ],
            "label": "IN",
            "method": "restyle"
           },
           {
            "args": [
             {
              "x": [
               [
                32,
                32,
                21,
                18,
                17,
                15,
                13,
                11,
                7,
                5,
                5,
                5,
                3,
                3,
                3,
                3,
                3,
                3,
                2,
                2
               ]
              ],
              "y": [
               [
                "The University of Kansas",
                "USD 501, Topeka Public Schools",
                "THE UNIVERSITY OF KANSAS MEDICAL CENTER",
                "WICHITA STATE UNIVERSITY",
                "Kansas State University",
                "UNIVERSITY OF KANSAS MEDICAL CENTER",
                "Unified School District 457",
                "Topeka Public Schools Unified School District No.501",
                "Emporia State University",
                "Ascend Learning LLC",
                "Stormont-Vail HealthCare",
                "Fort Hays State University",
                "Northwest Kansas Educational Service Center",
                "Topeka Public Schools Unified School District No. 501",
                "Washburn University",
                "Shawnee Mission Health Care, Inc.",
                "Hutchinson Regional Medical Center, Inc.",
                "Hiawatha Hospital Association, Inc.",
                "AdventHealth Ransom Memorial Inc.",
                "Citizens Medical Center, Inc."
               ]
              ]
             }
            ],
            "label": "KS",
            "method": "restyle"
           },
           {
            "args": [
             {
              "x": [
               [
                50,
                30,
                24,
                15,
                6,
                6,
                5,
                5,
                4,
                4,
                4,
                4,
                4,
                4,
                3,
                3,
                3,
                3,
                3,
                3
               ]
              ],
              "y": [
               [
                "UNIVERSITY OF KENTUCKY",
                "University of Kentucky",
                "UofL Health - Louisville, Inc. ",
                "University of Louisville",
                "Western Kentucky University",
                "Murray State University",
                "Nelson County Board of Education",
                "Kentucky State University",
                "Northern Kentucky University",
                "University Medical Center, Inc.",
                "University Medical Center, Inc. ",
                "University of Pikeville",
                "Appalachian Regional Healthcare, Inc. ",
                "Saint Joseph Health System, Inc.",
                "Eastern Kentucky University",
                "Berea College",
                "Summit Medical Group",
                "Bowling Green - Warren County Community Hospital",
                "Ashland Independent School District",
                "Pikeville Medical Center, Inc."
               ]
              ]
             }
            ],
            "label": "KY",
            "method": "restyle"
           },
           {
            "args": [
             {
              "x": [
               [
                66,
                55,
                43,
                36,
                20,
                17,
                14,
                9,
                9,
                8,
                6,
                6,
                5,
                5,
                5,
                5,
                5,
                4,
                4,
                4
               ]
              ],
              "y": [
               [
                "Ochsner Clinic Foundation",
                "Administrators of the Tulane Educational Fund",
                "Louisiana State University and A&M College",
                "LSU Health Sciences Center - Shreveport",
                "Louisiana Tech University",
                "LOUISIANA STATE UNIVERSITY HEALTH SCIENCES CENTER NEW ORLEANS",
                "LSU Agricultural Center",
                "Lafayette Health Ventures, Inc.",
                "MADISON PARISH SCHOOL BOARD",
                "Jefferson Parish Schools",
                "LSU Health Sciences Center",
                "University of Louisiana at Lafayette",
                "Lafayette Parish School System",
                "Willis-Knighton Medical Center, Inc.",
                "Loyola University New Orleans",
                "Morehouse Parish School Board",
                "French And Montessori Education, Inc.",
                "East Baton Rouge Parish School System",
                "Ochsner LSU Health System of North Louisiana",
                "Calcasieu Parish School Board"
               ]
              ]
             }
            ],
            "label": "LA",
            "method": "restyle"
           },
           {
            "args": [
             {
              "x": [
               [
                158,
                128,
                115,
                112,
                89,
                83,
                72,
                62,
                56,
                56,
                51,
                33,
                30,
                28,
                27,
                21,
                19,
                17,
                15,
                14
               ]
              ],
              "y": [
               [
                "Harvard University",
                "Massachusetts Institute of Technology",
                "Brigham and Women's Hospital",
                "General Hospital Corporation",
                "Children's Hospital Corporation",
                "TRUSTEES OF BOSTON UNIVERSITY",
                "Northeastern University",
                "Beth Israel Deaconess Medical Center, Inc.",
                "Tufts University",
                "Mass General Brigham Incorporated",
                "University of Massachusetts Chan Medical School",
                "University of Massachusetts Amherst",
                "Boston College",
                "Boston Higashi School, Inc.",
                "Su Escuela Language Academy LLC",
                "Brandeis University",
                "Beth Israel Deaconess Medical Center",
                "Boston Medical Center Corporation",
                "University of Massachusetts Lowell",
                "Hillcrest Educational Centers Inc."
               ]
              ]
             }
            ],
            "label": "MA",
            "method": "restyle"
           },
           {
            "args": [
             {
              "x": [
               [
                212,
                58,
                50,
                41,
                31,
                17,
                13,
                12,
                11,
                8,
                8,
                8,
                7,
                7,
                5,
                5,
                5,
                5,
                5,
                4
               ]
              ],
              "y": [
               [
                "Johns Hopkins University",
                "University of Maryland Baltimore",
                "University of Maryland College Park",
                "University of Maryland, College Park",
                "University of Maryland, Baltimore County",
                "Anne Arundel County Public Schools",
                "MedStar Medical Group II, LLC",
                "Towson University",
                "Sinai Hospital of Baltimore, Inc.",
                "TidalHealth Specialty Care, LLC",
                "MedStar Health, Inc.",
                "Adventist HealthCare, Inc.",
                "Morgan State University",
                "University of Maryland Medical System Corporation",
                "Bowie State University",
                "The Johns Hopkins Hospital",
                "Frostburg State University",
                "University of Maryland Charles Regional Medical Center",
                "University of Maryland",
                "Meritus Medical Center, Inc."
               ]
              ]
             }
            ],
            "label": "MD",
            "method": "restyle"
           },
           {
            "args": [
             {
              "x": [
               [
                24,
                16,
                9,
                9,
                7,
                6,
                6,
                4,
                2,
                2,
                2,
                1,
                1,
                1,
                1,
                1,
                1,
                1,
                1,
                1
               ]
              ],
              "y": [
               [
                "Eastern Maine Medical Center",
                "University of Maine",
                "Colby College",
                "MaineHealth",
                "The Aroostook Medical Center",
                "University of New England",
                "Cary Medical Center",
                "Bowdoin College",
                "Central Maine Medical Center",
                "MRH Corp",
                "BATES COLLEGE",
                "Redington-Fairview General Hospital",
                "University of Southern Maine",
                "Inland Hospital",
                "Mount Desert Island Hospital",
                "Acadia Hospital",
                "MaineGeneral Medical Center",
                "Houlton Regional Hospital",
                "St. Joseph Hospital",
                "Town of Gorham-School Department"
               ]
              ]
             }
            ],
            "label": "ME",
            "method": "restyle"
           },
           {
            "args": [
             {
              "x": [
               [
                315,
                97,
                60,
                40,
                26,
                19,
                19,
                18,
                15,
                12,
                12,
                10,
                10,
                9,
                6,
                6,
                6,
                5,
                4,
                4
               ]
              ],
              "y": [
               [
                "University of Michigan",
                "Henry Ford Health System",
                "MICHIGAN STATE UNIVERSITY",
                "WAYNE STATE UNIVERSITY",
                "Corewell Health",
                "Grand Valley State University",
                "Michigan Technological University",
                "Michigan State University",
                "Oakland University",
                "William Beaumont Hospital",
                "New Paradigm for Education ",
                "University of Detroit Mercy",
                "Global Educational Excellence, LLC",
                "Saginaw Valley State University",
                "Central Michigan University",
                "Oakwood Healthcare, Inc.",
                "Lawrence Technological University",
                "COVENANT MEDICAL CENTER, INC.",
                "W.A. Foote Memorial Hospital, Inc.",
                "Lakeland Hospitals at Niles and St. Joseph, Inc."
               ]
              ]
             }
            ],
            "label": "MI",
            "method": "restyle"
           },
           {
            "args": [
             {
              "x": [
               [
                136,
                120,
                110,
                21,
                21,
                15,
                14,
                13,
                11,
                9,
                8,
                6,
                6,
                6,
                5,
                5,
                4,
                4,
                4,
                4
               ]
              ],
              "y": [
               [
                "MAYO CLINIC",
                "Mayo Clinic ",
                "University of Minnesota",
                "Independent School District Number 623",
                "Mayo Clinic",
                "UNIVERSITY OF MINNESOTA",
                "Minnesota State Colleges and Universities",
                "Lakes International Language Academy",
                "Regents of the University of Minnesota",
                "University of St. Thomas",
                "HENNEPIN HEALTHCARE SYSTEM, INC.",
                "Carleton College",
                "District 742 Community Schools",
                "Minnesota State University, Mankato",
                "The Duluth Clinic, Ltd.",
                "New Century School",
                "Yinghua Academy",
                "Children's Health Care",
                "Sejong Academy of Minnesota",
                "Augsburg University"
               ]
              ]
             }
            ],
            "label": "MN",
            "method": "restyle"
           },
           {
            "args": [
             {
              "x": [
               [
                202,
                112,
                21,
                16,
                16,
                16,
                15,
                15,
                14,
                12,
                10,
                10,
                8,
                8,
                7,
                7,
                6,
                6,
                6,
                6
               ]
              ],
              "y": [
               [
                "Washington University",
                "The Curators of the University of Missouri",
                "St. Louis Children's Hopsital",
                "Barnes-Jewish Hospital",
                "Saint Louis University",
                "The Curators of the University of Missouri/Missouri University of Science and Technology",
                "Mercy Clinic East Communities",
                "The Children's Mercy Hospital",
                "The Curators of the University of Missouri/University of Missouri-Kansas City",
                "Academie Lafayette",
                "Frontier Schools, Inc.",
                "Truman Medical Centers, Inc.",
                "The Washington University",
                "Truman State University",
                "Mosaic Health System",
                "Southeast Missouri State University",
                "Northwest Missouri State University",
                "Missouri State University",
                "Mercy Clinic Springfield Communities",
                "GATEWAY SCIENCE ACADEMY OF SAINT LOUIS"
               ]
              ]
             }
            ],
            "label": "MO",
            "method": "restyle"
           },
           {
            "args": [
             {
              "x": [
               [
                5,
                3,
                2,
                1,
                1,
                1
               ]
              ],
              "y": [
               [
                "Commonwealth Healthcare Corporation",
                "GRACE CHRISTIAN ACADEMY OF SAIPAN",
                "Mount Carmel School, Inc.",
                "NORTHERN MARIANAS INTERNATIONAL SCHOOL",
                "COMMONWEALTH HEALTHCARE CORPORATION",
                "Green Meadow School"
               ]
              ]
             }
            ],
            "label": "MP",
            "method": "restyle"
           },
           {
            "args": [
             {
              "x": [
               [
                37,
                31,
                29,
                13,
                7,
                6,
                4,
                3,
                3,
                2,
                2,
                2,
                2,
                2,
                2,
                2,
                2,
                2,
                2,
                1
               ]
              ],
              "y": [
               [
                "University of Mississippi Medical Center",
                "University of Mississippi",
                "Mississippi State University",
                "Jackson Public School District",
                "University of Southern Mississippi",
                "Wilkinson County Office of Superintendent Education",
                "MISSISSIPPI BAPTIST MEDICAL CENTER",
                "Meridian Public School District",
                "Sunflower County Consolidated School District",
                "NORTH MISSISSIPPI MEDICAL CENTER",
                "SOUTH CENTRAL REGIONAL MEDICAL CENTER",
                "NORTH MISSISSIPPI MEDICAL CENTER, INC.",
                "Holmes County Consolidated School District",
                "DELTA STATE UNIVERSITY",
                "Alcorn State University",
                "William Carey University",
                "Millsaps College",
                "Mississippi Community College Board",
                "Laurel School District",
                "Memorial Hospital at Gulfport"
               ]
              ]
             }
            ],
            "label": "MS",
            "method": "restyle"
           },
           {
            "args": [
             {
              "x": [
               [
                14,
                6,
                3,
                2,
                2,
                2,
                2,
                2,
                2,
                2,
                2,
                1,
                1,
                1,
                1,
                1,
                1,
                1,
                1,
                1
               ]
              ],
              "y": [
               [
                "Montana State University",
                "Billings Clinic",
                "Northeast Montana Health Services,  Inc.",
                "Sidney Health Center",
                "Brockton School District 55 & 55F",
                "Jordan Public Schools",
                "Glendive Medical Center",
                "Hardin School Districts No. 17H & 1",
                "ROUNDUP MEMORIAL HOSPITAL ASSOCIA",
                "Northern Montana Health Care, Inc.",
                "County of Rosebud School District 32J",
                "Marcus Daly Memorial Hospital",
                "Chester-Joplin-Inverness School District",
                "Central Montana Medical Facilities, Inc.",
                "University of Providence",
                "Montana State University Billings",
                "St. John's Lutheran Hospital, Inc.",
                "POWELL COUNTY MEMORIAL HOSPITAL ASSOCIATION",
                "Glendive Public Schools",
                "CARROLL COLLEGE"
               ]
              ]
             }
            ],
            "label": "MT",
            "method": "restyle"
           },
           {
            "args": [
             {
              "x": [
               [
                136,
                87,
                74,
                32,
                31,
                24,
                23,
                18,
                17,
                15,
                14,
                14,
                14,
                14,
                13,
                12,
                12,
                11,
                11,
                11
               ]
              ],
              "y": [
               [
                "Duke University",
                "North Carolina State University",
                "UNIVERSITY OF NORTH CAROLINA AT CHAPEL HILL",
                "Nash County Board of Education",
                "Triad Math and Science Academy Co.",
                "WAKE FOREST UNIVERSITY",
                "Halifax County Schools",
                "Cumberland County Hospital System, Inc.",
                "Wake Forest University Baptist Medical Center",
                "North Carolina Agricultural & Technical State University",
                "The Charlotte Mecklenburg Hospital Authority d/b/a Atrium Health",
                "Duke University Health System",
                "Wake Forest University Health Sciences",
                "Charlotte-Mecklenburg Schools",
                "Alpha Academy",
                "Johnston County Public Schools",
                "Nash County Public Schools",
                "University of North Carolina Wilmington",
                "Appalachian State University",
                "University of North Carolina at Charlotte"
               ]
              ]
             }
            ],
            "label": "NC",
            "method": "restyle"
           },
           {
            "args": [
             {
              "x": [
               [
                29,
                26,
                20,
                11,
                10,
                8,
                7,
                4,
                4,
                4,
                4,
                4,
                3,
                3,
                3,
                3,
                2,
                2,
                2,
                2
               ]
              ],
              "y": [
               [
                "NORTH DAKOTA STATE UNIVERSITY",
                "University of North Dakota",
                "Sanford",
                "Altru Health System",
                "Innovis Health, LLC",
                "Sanford Bismarck",
                "New Town Public School District 1",
                "TATE TOPA TRIBAL SCHOOL",
                "Trinity Health",
                "McKenzie County Healthcare Systems, Inc",
                "Standing Rock Community Grant School",
                "WEST RIVER HEALTH SERVICES",
                "Jacobson Memorial Hospital Care Center",
                "Presentation Medical Center",
                "Mott-Regent Public School District No. 1",
                "SMP Health- St. Aloisius Hospital",
                "HAZEN MEMORIAL HOSPITAL ASSOCIATION",
                "CHI St. Alexius Health",
                "Mercy Medical Center",
                "WISHEK HOSPITAL CLINIC ASSOCIATION"
               ]
              ]
             }
            ],
            "label": "ND",
            "method": "restyle"
           },
           {
            "args": [
             {
              "x": [
               [
                59,
                35,
                35,
                20,
                12,
                12,
                11,
                6,
                5,
                5,
                4,
                3,
                3,
                3,
                3,
                2,
                2,
                2,
                2,
                2
               ]
              ],
              "y": [
               [
                "Board of Regents of the University of Nebraska",
                "Board of Regents of the University of Nebraska ",
                "University of Nebraska Medical Center",
                "UNMC Physicians ",
                "Schuyler Community Schools",
                "Creighton University",
                "The Nebraska Medical Center",
                "Alegent Health-Bergan Mercy Health",
                "North Platte, Nebraska Hospital Corporation",
                "Cambridge Memorial Hospital, Inc. ",
                "Father Flanagan's Boys' Home",
                "Bryan Medical Center",
                "Hastings College",
                "Grand Island Public Schools ",
                "Saint Francis Medical Center",
                "CENTRAL COMMUNITY COLLEGE",
                "Faith Regional Health Services",
                "Lexington Regional Health Center",
                "Columbus Community Hospital, Inc.",
                "Phelps Memorial Health Center"
               ]
              ]
             }
            ],
            "label": "NE",
            "method": "restyle"
           },
           {
            "args": [
             {
              "x": [
               [
                23,
                16,
                14,
                9,
                3,
                2,
                2,
                2,
                2,
                2,
                2,
                1,
                1,
                1,
                1,
                1,
                1,
                1
               ]
              ],
              "y": [
               [
                "Trustees of Dartmouth College",
                "University of New Hampshire",
                "Mary Hitchcock Memorial Hospital",
                "Wentworth-Douglass Physician Corporation",
                "Monadnock Community Hospital",
                "Speare Memorial Hospital",
                "Valley Regional Hospital, Inc.",
                "Southern New Hampshire University",
                "Concord Hospital",
                "Dartmouth-Hitchcock Clinic",
                "Southern New Hampshire University ",
                "Skillsoft Services Company LLC",
                "Concord Hospital - Laconia ",
                "Cheshire Medical Center",
                "Weeks Medical Center",
                "MARY HITCHCOCK MEMORIAL HOSPITAL",
                "St. Joseph Hospital of Nashua, N.H.",
                "Signum University"
               ]
              ]
             }
            ],
            "label": "NH",
            "method": "restyle"
           },
           {
            "args": [
             {
              "x": [
               [
                157,
                83,
                28,
                20,
                18,
                17,
                12,
                10,
                10,
                9,
                9,
                7,
                6,
                5,
                5,
                5,
                5,
                4,
                3,
                3
               ]
              ],
              "y": [
               [
                "The Trustees of Princeton University",
                "Rutgers, The State University of New Jersey",
                "THE TRUSTEES OF PRINCETON UNIVERSITY",
                "HMH Hospitals Corporation",
                "New Jersey Institute of Technology",
                "Kean University",
                "Stevens Institute of Technology",
                "Rowan University",
                "AHS Hospital Corp.",
                "Savvas Learning Company LLC",
                "JAPANESE CHILDREN'S SOCIETY, INC.",
                "Hackensack Meridian Health Medical Group - Specialty Care, P.C.",
                "Montclair State University",
                "RUTGERS, THE STATE UNIVERSITY OF NEW JERSEY",
                "JERSEY CITY GLOBAL CHARTER SCHOOL",
                "Saint Peter's University",
                "The Cooper Health System",
                "Drew University",
                "Newark Board of Education",
                "The College of New Jersey"
               ]
              ]
             }
            ],
            "label": "NJ",
            "method": "restyle"
           },
           {
            "args": [
             {
              "x": [
               [
                62,
                36,
                30,
                18,
                10,
                8,
                7,
                6,
                6,
                6,
                5,
                5,
                4,
                3,
                3,
                3,
                3,
                3,
                2,
                2
               ]
              ],
              "y": [
               [
                "Presbyterian Healthcare Services",
                "University of New Mexico",
                "New Mexico State University",
                "Hobbs Municipal Schools",
                "Grants / Cibola County Schools",
                "New Mexico Institute of Mining and Technology",
                "UNM Hospital",
                "Eastern New Mexico University",
                "Navajo Technical University",
                "Santa Fe Public Schools",
                "Mission Achievement and Success Charter School",
                "Espanola Public Schools ",
                "University of New Mexico ",
                "Zuni Public School District",
                "Socorro Consolidated Schools ",
                "Central Consolidated School District",
                "Jemez Valley Public Schools",
                "Deming Public Schools",
                "Mora Independent School District",
                "Belen Consolidated Schools"
               ]
              ]
             }
            ],
            "label": "NM",
            "method": "restyle"
           },
           {
            "args": [
             {
              "x": [
               [
                24,
                12,
                5,
                4,
                4,
                4,
                3,
                2,
                2,
                1,
                1,
                1,
                1,
                1,
                1,
                1,
                1,
                1,
                1
               ]
              ],
              "y": [
               [
                "University of Nevada, Las Vegas",
                "University of Nevada, Reno",
                "Desert Research Institute",
                "Coral Academy of Science Reno",
                "Coral Academy of Science Las Vegas",
                "Saint Mary's Medical Group, Inc.",
                "Nevada System of Higher Education",
                "Pershing General Hospital",
                "Washoe Barton Medical Clinic, Inc.",
                "Sunrise Hospital and Medical Center",
                "Lander County Hospital District",
                "Humboldt General Hospital",
                "Project Performance International USA Inc.",
                "Board of Regents, Nevada Sys of Higher Edu, Great Basin College",
                "SRC LLC",
                "University of Las Vegas, Nevada",
                "Sparks Family Hospital",
                "Roseman University of Health Sciences ",
                "Elko County School District"
               ]
              ]
             }
            ],
            "label": "NV",
            "method": "restyle"
           },
           {
            "args": [
             {
              "x": [
               [
                250,
                111,
                102,
                99,
                96,
                91,
                88,
                74,
                52,
                48,
                47,
                45,
                44,
                41,
                38,
                38,
                33,
                30,
                28,
                26
               ]
              ],
              "y": [
               [
                "Columbia University",
                "Icahn School of Medicine at Mount Sinai",
                "NYU Grossman School of Medicine",
                "Cornell University",
                "University of Rochester",
                "Weill Cornell Medical College",
                "Memorial Sloan Kettering Cancer Center",
                "New York University",
                "Mount Sinai Hospital",
                "NORTHWELL HEALTH",
                "Albert Einstein College of Medicine ",
                "Northwell Health",
                "MONTEFIORE MEDICAL CENTER",
                "Rensselaer Polytechnic Institute",
                "STATE UNIVERSITY OF NEW YORK AT BINGHAMTON",
                "The Rockefeller University",
                "Rochester Institute of Technology",
                "ST. BARNABAS HOSPITAL",
                "New York City Department of Education",
                "Syracuse University"
               ]
              ]
             }
            ],
            "label": "NY",
            "method": "restyle"
           },
           {
            "args": [
             {
              "x": [
               [
                143,
                62,
                57,
                48,
                45,
                39,
                36,
                30,
                28,
                25,
                25,
                16,
                15,
                14,
                12,
                12,
                8,
                8,
                8,
                8
               ]
              ],
              "y": [
               [
                "The Ohio State University",
                "Cleveland Clinic Foundation",
                "Cincinnati Children's Hospital Medical Center",
                "OhioHealth Corp.",
                "Case Western Reserve University",
                "Cleveland Clinic",
                "UNIVERSITY OF CINCINNATI",
                "The University of Toledo",
                "THE METROHEALTH SYSTEM",
                "The Ohio University",
                "Kettering Medical Center",
                "Kent State University",
                "University Hospitals Cleveland Medical Center",
                "Nationwide Children's Hospital",
                "McGraw Hill LLC",
                "The University of Akron",
                "Oberlin College",
                "Bowling Green State University",
                "Miami University",
                "University of Dayton"
               ]
              ]
             }
            ],
            "label": "OH",
            "method": "restyle"
           },
           {
            "args": [
             {
              "x": [
               [
                58,
                45,
                24,
                15,
                15,
                13,
                11,
                9,
                9,
                3,
                3,
                3,
                3,
                3,
                3,
                2,
                2,
                2,
                2,
                2
               ]
              ],
              "y": [
               [
                "University of Oklahoma",
                "University of Oklahoma Health Sciences Center",
                "Oklahoma State University",
                "Santa Fe South Schools Inc.",
                "Comanche County Hospital Authority",
                "Dove Schools, Inc. ",
                "SAINT FRANCIS HEALTH SYSTEM",
                "THE UNIVERSITY OF TULSA",
                "INTEGRIS HEALTH, INC.",
                "Santa Fe South Schools Inc",
                "Mercy Clinic Oklahoma Communities, Inc.",
                "Tahlequah Hospital Authority",
                "Oral Roberts University",
                "Oklahoma City Community College",
                "Langston University",
                "Cameron University",
                "Jackson County Memorial Hospital Authority",
                "Oklahoma Christian University",
                "Oklahoma Wesleyan University",
                "Southwestern Oklahoma State University"
               ]
              ]
             }
            ],
            "label": "OK",
            "method": "restyle"
           },
           {
            "args": [
             {
              "x": [
               [
                72,
                68,
                19,
                12,
                5,
                4,
                3,
                3,
                3,
                2,
                2,
                2,
                2,
                2,
                2,
                2,
                2,
                1,
                1,
                1
               ]
              ],
              "y": [
               [
                "Oregon State University",
                "Oregon Health & Science University",
                "University of Oregon",
                "Portland State University",
                "Reed College",
                "Southern Oregon Hospitalists, PC",
                "State of Oregon",
                "Asante Physician Partners",
                "Oregon Institute of Technology",
                "Oregon Health and Science University",
                "Legacy Emanuel Hospital and Medical Center",
                "Lane County School District 4J",
                "Curry Health District",
                "North Clackamas School District",
                "Providence Health & Services - Oregon",
                "Sky Lakes Medical Center",
                "Willamette University",
                "Shriners Hospitals for Children",
                "Maitripa College",
                "Sweet Home School District 55"
               ]
              ]
             }
            ],
            "label": "OR",
            "method": "restyle"
           },
           {
            "args": [
             {
              "x": [
               [
                193,
                181,
                91,
                90,
                79,
                69,
                46,
                33,
                31,
                25,
                24,
                23,
                22,
                21,
                18,
                16,
                16,
                14,
                14,
                13
               ]
              ],
              "y": [
               [
                "TRUSTEES OF THE UNIVERSITY OF PENNSYLVANIA",
                "University of Pittsburgh",
                "UPMC Medical Education",
                "The Pennsylvania State University",
                "The Children's Hospital of Philadelphia",
                "Carnegie Mellon University",
                "Temple University--A Commonwealth University",
                "DUBOIS REGIONAL MEDICAL CENTER",
                "Geisinger Clinic",
                "Thomas Jefferson University Hospital",
                "University of Pittsburgh Physicians",
                "Geisinger System Services",
                "Thomas Jefferson University",
                "UPMC Presbyterian Shadyside",
                "Reading Hospital",
                "Drexel University",
                "Lehigh University",
                "Bucknell University",
                "DuBois Regional Medical Center (d/b/a Penn Highlands DuBois)",
                "Geisinger Medical Center"
               ]
              ]
             }
            ],
            "label": "PA",
            "method": "restyle"
           },
           {
            "args": [
             {
              "x": [
               [
                8,
                1,
                1,
                1,
                1
               ]
              ],
              "y": [
               [
                "University of Puerto Rico-Rio Piedras Campus",
                "Universidad Politecnica de Puerto Rico, Inc.",
                "Sistema Universitario Ana G Mendez",
                "Universidad Interamericana de Puerto Rico",
                "Caribbean Global School"
               ]
              ]
             }
            ],
            "label": "PR",
            "method": "restyle"
           },
           {
            "args": [
             {
              "x": [
               [
                63,
                11,
                4,
                4,
                3,
                2,
                2,
                2,
                2,
                2,
                1,
                1,
                1
               ]
              ],
              "y": [
               [
                "Brown University",
                "University of Rhode Island",
                "Roger Williams University",
                "Rhode Island College",
                "Providence College",
                "Rhode Island School of Design",
                "RHODE ISLAND HOSPITAL",
                "Bryant University",
                "The Paul Cuffee School",
                "THE PROVIDENCE COMMUNITY HEALTH CENTERS, INC.",
                "Prime Healthcare Services - Landmark, LLC",
                "The Miriam Hospital",
                "Lifespan Corporation"
               ]
              ]
             }
            ],
            "label": "RI",
            "method": "restyle"
           },
           {
            "args": [
             {
              "x": [
               [
                54,
                53,
                23,
                21,
                21,
                21,
                20,
                12,
                10,
                7,
                6,
                6,
                6,
                6,
                6,
                5,
                5,
                5,
                4,
                4
               ]
              ],
              "y": [
               [
                "Clemson University",
                "RICHLAND COUNTY SCHOOL DISTRICT ONE",
                "Jasper County School District",
                "Lexington County School District One",
                "ORANGEBURG COUNTY SCHOOL DISTRICT",
                "University of South Carolina",
                "Medical University of South Carolina and Affiliates",
                "Florence Public School District One",
                "Colleton County School District",
                "Darlington County School District",
                "Dillon School District Four",
                "Jasper County School District- Ridgeland Secondary Academy of Excellence",
                "Barnwell County School District",
                "Lee County School District",
                "CLAPHAM EDUCATIONAL GROUP",
                "Williamsburg County School District",
                "Fairfield County School District",
                "Calhoun County School District",
                "Rock Hill School District Three",
                "COASTAL CAROLINA UNIVERSITY"
               ]
              ]
             }
            ],
            "label": "SC",
            "method": "restyle"
           },
           {
            "args": [
             {
              "x": [
               [
                18,
                17,
                16,
                13,
                12,
                12,
                10,
                10,
                9,
                4,
                4,
                4,
                4,
                3,
                3,
                3,
                3,
                3,
                2,
                2
               ]
              ],
              "y": [
               [
                "Monument Health Rapid City Hospital, Inc.",
                "Sioux Falls School District 49-5",
                "South Dakota State University",
                "Todd County School District 66-1",
                "Sanford Clinic",
                "Sanford Health",
                "Avera McKennan",
                "South Dakota School of Mines and Technology",
                "Sanford School Of Medicine of the University of South Dakota Residency",
                "University of South Dakota",
                "Sicangu Oyate Ho, Inc. ",
                "Avera St. Luke's Hospital ",
                "Northern State University",
                "ENEMY SWIM DAY SCHOOL",
                "Augustana University",
                "Crow Creek Tribal School",
                "Dakota State University",
                "Tiospa Zina Tribal School",
                "Standing Rock - Rock Creek School",
                "Sicangu Oyate Ho Inc."
               ]
              ]
             }
            ],
            "label": "SD",
            "method": "restyle"
           },
           {
            "args": [
             {
              "x": [
               [
                189,
                49,
                43,
                32,
                29,
                21,
                17,
                9,
                9,
                7,
                7,
                7,
                6,
                6,
                5,
                5,
                4,
                3,
                3,
                3
               ]
              ],
              "y": [
               [
                "ST. JUDE CHILDREN'S RESEARCH HOSPITAL",
                "The University of Tennessee Health Science Center",
                "Vanderbilt University Medical Center",
                "Vanderbilt University",
                "THE UNIVERSITY OF TENNESSEE",
                "Memphis-Shelby County Schools",
                "The University of Memphis",
                "Middle Tennessee State University",
                "Methodist Le Bonheur Healthcare",
                "The University of Tennessee",
                "University Health System, Inc.",
                "East Tennessee State University",
                "Belmont University",
                "Austin Peay State University",
                "TENNESSEE STATE UNIVERSITY",
                "UT Regional One Physicians, Inc.",
                "Tennessee Technological University",
                "CHSPSC, LLC",
                "UT Medical Group, Inc.",
                "Shelby County Schools"
               ]
              ]
             }
            ],
            "label": "TN",
            "method": "restyle"
           },
           {
            "args": [
             {
              "x": [
               [
                139,
                136,
                128,
                108,
                96,
                86,
                80,
                65,
                56,
                55,
                53,
                41,
                40,
                39,
                32,
                29,
                25,
                25,
                25,
                24
               ]
              ],
              "y": [
               [
                "UT Southwestern Medical Center",
                "The University of Texas at Austin",
                "Texas A&M University",
                "Baylor College of Medicine",
                "The University of Texas M.D. Anderson Cancer Center",
                "Dallas Independent School District",
                "Harmony Public Schools",
                "The University of Texas Health Science Center at Houston",
                "University of Texas Health Science Center at San Antonio",
                "The University of Texas at Dallas",
                "Texas Tech University",
                "THE UNIVERSITY OF TEXAS RIO GRANDE VALLEY",
                "University of Houston",
                "THE UNIVERSITY OF TEXAS M.D. ANDERSON CANCER CENTER",
                "UNIVERSITY OF NORTH TEXAS",
                "University of Texas Medical Branch",
                "TEXAS TECH UNIVERSITY HEALTH SCIENCES CENTER",
                "CHRISTUS Health",
                "Houston Independent School District",
                "The University of Texas at Arlington"
               ]
              ]
             }
            ],
            "label": "TX",
            "method": "restyle"
           },
           {
            "args": [
             {
              "x": [
               [
                97,
                24,
                22,
                14,
                13,
                12,
                11,
                9,
                9,
                8,
                8,
                7,
                6,
                6,
                5,
                5,
                5,
                5,
                4,
                4
               ]
              ],
              "y": [
               [
                "University of Utah",
                "Utah State University",
                "IHC Health Services, Inc. ",
                "Brigham Young University",
                "Washington County School District",
                "Davis School District",
                "Jordan School District",
                "Weber State University",
                "Southern Utah University",
                "Cache County School District",
                "WGU Corporation",
                "Alpine School District",
                "Granite School District",
                "Wasatch County School District",
                "Tooele County School District",
                "Utah Valley University",
                "Iron County School District",
                "Uintah Basin Healthcare",
                "Western Governors University",
                "Provo City School District"
               ]
              ]
             }
            ],
            "label": "UT",
            "method": "restyle"
           },
           {
            "args": [
             {
              "x": [
               [
                122,
                71,
                34,
                32,
                26,
                23,
                20,
                17,
                16,
                13,
                13,
                11,
                10,
                9,
                9,
                9,
                7,
                7,
                6,
                6
               ]
              ],
              "y": [
               [
                "The University of Virginia",
                "Virginia Polytechnic Institute & State University",
                "The College of William and Mary",
                "Virginia Commonwealth University",
                "George Mason University",
                "Portsmouth City Public Schools",
                "Southampton County Public Schools",
                "James Madison University",
                "Old Dominion University",
                "Stride, Inc.",
                "INOVA HEALTH CARE SERVICES",
                "VCU Health System Authority",
                "Sentara Health",
                "Carilion Medical Center",
                "Harrisonburg City Public Schools",
                "Centra Health, Inc.",
                "Old Dominion University ",
                "Sentara Healthcare",
                "Alexandria City Public Schools",
                "VIRGINIA BEACH CITY PUBLIC SCHOOLS"
               ]
              ]
             }
            ],
            "label": "VA",
            "method": "restyle"
           },
           {
            "args": [
             {
              "x": [
               [
                5,
                4,
                2
               ]
              ],
              "y": [
               [
                "University of the Virgin Islands",
                "VI Government Hospital & Health Facilities Corporation",
                "The US Virgin Islands Department of Education"
               ]
              ]
             }
            ],
            "label": "VI",
            "method": "restyle"
           },
           {
            "args": [
             {
              "x": [
               [
                25,
                9,
                7,
                6,
                5,
                4,
                4,
                3,
                3,
                3,
                2,
                2,
                1,
                1,
                1,
                1,
                1,
                1,
                1,
                1
               ]
              ],
              "y": [
               [
                "The University of Vermont",
                "University of Vermont Health Network Medical Group",
                "The Rutland Hospital, Inc.",
                "The President & Fellows of Middlebury College",
                "Southwest Vermont Supervisory Union",
                "University of Vermont Health Network - University of Vermont Medical Center",
                "University of Vermont Health Network Medical Group, Inc.",
                "University of Vermont Medical Center",
                "University of Vermont Health Network - Champlain Valley Physicians Hospital",
                "THE UNIVERSITY OF VERMONT HEALTH NETWORK - UNIVERSITY OF VERMONT MEDICAL CENTER",
                "Vermont Law and Graduate School",
                "University of Vermont Health Network-  Porter Medical Center, Inc",
                "Bennington College",
                "VERMONT TECHNICAL COLLEGE",
                "The President and Fellows of Middlebury College",
                "Gifford Medical Center Inc.",
                "The President and Fellow of Middlebury College",
                "North Country Hospital",
                "Landmark College, Inc.",
                "Vermont Technical College"
               ]
              ]
             }
            ],
            "label": "VT",
            "method": "restyle"
           },
           {
            "args": [
             {
              "x": [
               [
                114,
                46,
                45,
                38,
                25,
                12,
                11,
                11,
                9,
                8,
                6,
                5,
                5,
                4,
                4,
                4,
                3,
                3,
                3,
                2
               ]
              ],
              "y": [
               [
                "University of Washington",
                "Fred Hutchinson Cancer Center",
                "Washington State University",
                "MultiCare Health System",
                "Providence Health & Services",
                "Western Washington University",
                "Gonzaga University",
                "SEATTLE CHILDREN'S HOSPITAL",
                "Providence Health & Services - Washington",
                "Whitman College",
                "PeaceHealth",
                "Eastern Washington University",
                "Central Washington University",
                "Providence Health & Services - Oregon",
                "Swedish Health Services",
                "Seattle Pacific University",
                "Yakima Valley Memorial Hospital Association",
                "Franciscan Specialty Care LLC",
                "Grant County Public Hospital District No. 1",
                "Franciscan Health System"
               ]
              ]
             }
            ],
            "label": "WA",
            "method": "restyle"
           },
           {
            "args": [
             {
              "x": [
               [
                190,
                63,
                34,
                34,
                20,
                16,
                12,
                11,
                8,
                7,
                7,
                6,
                6,
                6,
                5,
                4,
                4,
                3,
                3,
                3
               ]
              ],
              "y": [
               [
                "University of Wisconsin System",
                "Medical College of Wisconsin, Inc.",
                "Marshfield Clinic",
                "Milwaukee Board of School Directors",
                "Marquette University",
                "Univ of WI System/La Crosse",
                "Medical College of Wisconsin Affiliated Hospitals, Inc.",
                "University of Wisconsin-Milwaukee",
                "Univ of WI System/Green Bay",
                "Univ of WI System/Platteville",
                "University of Wisconsin Medical Foundation",
                "Univ of WI System",
                "University of Wisconsin-Whitewater",
                "Univ of WI System/Eau Claire",
                "Gundersen Lutheran Administrative Services, Inc.",
                "Clement J. Zablocki VA Medical Center",
                "Univ of WI System/River Falls",
                "Univ of WI System/Oshkosh",
                "School District of La Crosse",
                "Univ of WI System Admin"
               ]
              ]
             }
            ],
            "label": "WI",
            "method": "restyle"
           },
           {
            "args": [
             {
              "x": [
               [
                34,
                10,
                9,
                9,
                5,
                4,
                2,
                2,
                2,
                1,
                1,
                1,
                1,
                1,
                1,
                1,
                1,
                1,
                1
               ]
              ],
              "y": [
               [
                "West Virginia University",
                "MARSHALL UNIVERSITY ",
                "Charleston Area Medical Center, Inc.",
                "Marshall University ",
                "West Virginia University Hospitals, Inc.",
                "United Hospital Center, Inc.",
                "Kanawha County Board of Education",
                "Davis & Elkins College",
                "GLENVILLE STATE UNIVERSITY",
                "West Virginia University Medical Corporation",
                "United Hospital Center Inc",
                "Greenbrier County Board of Education",
                "University of Charleston",
                "Concord University",
                "Mercer County Board of Education",
                "WEST VIRGINIA STATE UNIVERSITY",
                "American Public Education, Inc.",
                "Marion County Board of Education",
                "West Virginia Schools for the Deaf and the Blind"
               ]
              ]
             }
            ],
            "label": "WV",
            "method": "restyle"
           },
           {
            "args": [
             {
              "x": [
               [
                19,
                2,
                2,
                1,
                1,
                1
               ]
              ],
              "y": [
               [
                "University of Wyoming",
                "Memorial Hospital of Sweetwater County",
                "LUTHER CLASSICAL COLLEGE",
                "LuminOne LLC",
                "South Lincoln Hospital District",
                "Natrona County School District 1"
               ]
              ]
             }
            ],
            "label": "WY",
            "method": "restyle"
           }
          ],
          "direction": "down",
          "showactive": true,
          "x": 0.1,
          "xanchor": "left",
          "y": 1.15,
          "yanchor": "top"
         }
        ],
        "xaxis": {
         "title": {
          "text": "Number of H-1B Applications"
         }
        },
        "yaxis": {
         "categoryorder": "total ascending",
         "title": {
          "text": "Institution"
         }
        }
       }
      }
     },
     "metadata": {},
     "output_type": "display_data"
    }
   ],
   "source": [
    "# Create dropdown visualization\n",
    "from plotly.graph_objects import Figure\n",
    "import plotly.graph_objects as go\n",
    "\n",
    "# Get top institutions by state (top 10 institutions per state)\n",
    "def get_top_institutions_by_state(state, top_n=10):\n",
    "    state_data = cap_exempt_institutions[cap_exempt_institutions['EMPLOYER_STATE'] == state]\n",
    "    institution_counts = state_data['EMPLOYER_NAME'].value_counts().head(top_n).reset_index()\n",
    "    institution_counts.columns = ['Institution_Name', 'Count']\n",
    "    institution_counts['State'] = state\n",
    "    return institution_counts\n",
    "\n",
    "# Get top 5 states and their top institutions\n",
    "top_5_states = cap_exempt_institutions['EMPLOYER_STATE'].value_counts().head(5).index.tolist()\n",
    "\n",
    "# Get all states (remove NaN values first)\n",
    "all_states = sorted(cap_exempt_institutions['EMPLOYER_STATE'].dropna().unique())\n",
    "\n",
    "# Create initial data for first state\n",
    "initial_state = top_5_states[0]\n",
    "initial_data = get_top_institutions_by_state(initial_state, 20)\n",
    "\n",
    "# Create figure with dropdown\n",
    "fig = go.Figure()\n",
    "\n",
    "# Add initial trace\n",
    "fig.add_trace(go.Bar(\n",
    "    x=initial_data['Count'],\n",
    "    y=initial_data['Institution_Name'],\n",
    "    orientation='h',\n",
    "    name=initial_state,\n",
    "    marker_color='skyblue'\n",
    "))\n",
    "\n",
    "# Create dropdown buttons\n",
    "dropdown_buttons = []\n",
    "for state in all_states:\n",
    "    state_data = get_top_institutions_by_state(state, 20)\n",
    "    dropdown_buttons.append(\n",
    "        dict(\n",
    "            method='restyle',\n",
    "            label=state,\n",
    "            args=[{\n",
    "                'x': [state_data['Count']],\n",
    "                'y': [state_data['Institution_Name']],\n",
    "            }]\n",
    "        )\n",
    "    )\n",
    "\n",
    "# Update layout with dropdown\n",
    "fig.update_layout(\n",
    "    title='Top 20 Cap-Exempt Institutions by State (Select State from Dropdown)',\n",
    "    xaxis_title='Number of H-1B Applications',\n",
    "    yaxis_title='Institution',\n",
    "    yaxis={'categoryorder': 'total ascending'}, \n",
    "    height=800,\n",
    "    updatemenus=[\n",
    "        dict(\n",
    "            buttons=dropdown_buttons,\n",
    "            direction=\"down\",\n",
    "            showactive=True,\n",
    "            x=0.1,\n",
    "            xanchor=\"left\",\n",
    "            y=1.15,\n",
    "            yanchor=\"top\"\n",
    "        ),\n",
    "    ]\n",
    ")\n",
    "\n",
    "\n",
    "\n",
    "fig.show()"
   ]
  },
  {
   "cell_type": "code",
   "execution_count": 47,
   "metadata": {},
   "outputs": [
    {
     "name": "stdout",
     "output_type": "stream",
     "text": [
      "Top 50 Cap-Exempt Institutions by H-1B Applications:\n",
      "================================================================================\n",
      "State               Institution_Name     Institution_Type  Total_Applications  Certified_Applications            City  Certification_Rate\n",
      "   MI         University of Michigan Educational Services                 315                       0       Ann Arbor                 0.0\n",
      "   CA The Leland Stanford, Jr Uni... Educational Services                 278                       0        Stanford                 0.0\n",
      "   NY            Columbia University Educational Services                 250                       0        New York                 0.0\n",
      "   GA               Emory University Educational Services                 220                       0         Atlanta                 0.0\n",
      "   MD       Johns Hopkins University Educational Services                 212                       0       Baltimore                 0.0\n",
      "   MO          Washington University Educational Services                 202                       0       St. Louis                 0.0\n",
      "   PA TRUSTEES OF THE UNIVERSITY ... Educational Services                 193                       0    PHILADELPHIA                 0.0\n",
      "   WI University of Wisconsin System Educational Services                 190                       0         Madison                 0.0\n",
      "   TN ST. JUDE CHILDREN'S RESEARC...            Hospitals                 189                       0         MEMPHIS                 0.0\n",
      "   CT                Yale University Educational Services                 185                       0       New Haven                 0.0\n",
      "   PA       University of Pittsburgh Educational Services                 181                       0      Pittsburgh                 0.0\n",
      "   IA         The University of Iowa Educational Services                 179                       0       Iowa City                 0.0\n",
      "   CA UNIVERSITY OF CALIFORNIA, S... Educational Services                 171                       0        LA JOLLA                 0.0\n",
      "   AL The University of Alabama a... Educational Services                 168                       0      Birmingham                 0.0\n",
      "   MA             Harvard University Educational Services                 158                       0       Cambridge                 0.0\n",
      "   NJ The Trustees of Princeton U... Educational Services                 157                       0       Princeton                 0.0\n",
      "   CA University of California, S... Educational Services                 156                       0   San Francisco                 0.0\n",
      "   IN              Purdue University Educational Services                 155                       0  West Lafayette                 0.0\n",
      "   IL        Northwestern University Educational Services                 154                       0        Evanston                 0.0\n",
      "   FL          UNIVERSITY OF FLORIDA Educational Services                 149                       0     GAINESVILLE                 0.0\n",
      "   IL      The University of Chicago Educational Services                 149                       0         Chicago                 0.0\n",
      "   OH      The Ohio State University Educational Services                 143                       0        Columbus                 0.0\n",
      "   TX UT Southwestern Medical Center Educational Services                 139                       0          Dallas                 0.0\n",
      "   TX The University of Texas at ... Educational Services                 136                       0          Austin                 0.0\n",
      "   NC                Duke University Educational Services                 136                       0          Durham                 0.0\n",
      "   MN                    MAYO CLINIC Educational Services                 136                       0       ROCHESTER                 0.0\n",
      "   GA SAVANNAH CHATHAM COUNTY PUB... Educational Services                 132                       0        SAVANNAH                 0.0\n",
      "   MA Massachusetts Institute of ... Educational Services                 128                       0       Cambridge                 0.0\n",
      "   TX           Texas A&M University Educational Services                 128                       0 College Station                 0.0\n",
      "   VA     The University of Virginia Educational Services                 122                       0 Charlottesville                 0.0\n",
      "   MN                   Mayo Clinic  Educational Services                 120                       0       Rochester                 0.0\n",
      "   IN Indiana University Indianap... Educational Services                 118                       0    Indianapolis                 0.0\n",
      "   MA   Brigham and Women's Hospital            Hospitals                 115                       0      Somerville                 0.0\n",
      "   WA       University of Washington Educational Services                 114                       0         Seattle                 0.0\n",
      "   MA   General Hospital Corporation            Hospitals                 112                       0          Boston                 0.0\n",
      "   MO The Curators of the Univers... Educational Services                 112                       0        Columbia                 0.0\n",
      "   NY Icahn School of Medicine at...            Hospitals                 111                       0        New York                 0.0\n",
      "   MN        University of Minnesota Educational Services                 110                       0     Minneapolis                 0.0\n",
      "   TX     Baylor College of Medicine Educational Services                 108                       0         Houston                 0.0\n",
      "   CA University of California, D... Educational Services                 104                       0           Davis                 0.0\n",
      "   IL         University of Illinois Educational Services                 103                       0          Urbana                 0.0\n",
      "   NY NYU Grossman School of Medi... Educational Services                 102                       0        New York                 0.0\n",
      "   CA University of California, B... Educational Services                 101                       0        Berkeley                 0.0\n",
      "   NY             Cornell University Educational Services                  99                       0          Ithaca                 0.0\n",
      "   CA University of California, L... Educational Services                  99                       0     Los Angeles                 0.0\n",
      "   UT             University of Utah Educational Services                  97                       0  Salt Lake City                 0.0\n",
      "   MI       Henry Ford Health System            Hospitals                  97                       0         Detroit                 0.0\n",
      "   NY        University of Rochester Educational Services                  96                       0       Rochester                 0.0\n",
      "   TX The University of Texas M.D... Educational Services                  96                       0         Houston                 0.0\n",
      "   NY  Weill Cornell Medical College Educational Services                  91                       0        New York                 0.0\n"
     ]
    },
    {
     "data": {
      "application/vnd.plotly.v1+json": {
       "config": {
        "plotlyServerURL": "https://plot.ly"
       },
       "data": [
        {
         "cells": {
          "align": "left",
          "fill": {
           "color": "white"
          },
          "font": {
           "size": 10
          },
          "values": [
           [
            "MI",
            "CA",
            "NY",
            "GA",
            "MD",
            "MO",
            "PA",
            "WI",
            "TN",
            "CT",
            "PA",
            "IA",
            "CA",
            "AL",
            "MA",
            "NJ",
            "CA",
            "IN",
            "IL",
            "FL",
            "IL",
            "OH",
            "TX",
            "TX",
            "NC",
            "MN",
            "GA",
            "MA",
            "TX",
            "VA",
            "MN",
            "IN",
            "MA",
            "WA",
            "MA",
            "MO",
            "NY",
            "MN",
            "TX",
            "CA",
            "IL",
            "NY",
            "CA",
            "NY",
            "CA",
            "UT",
            "MI",
            "NY",
            "TX",
            "NY",
            "PA",
            "IA",
            "PA",
            "MA",
            "NY",
            "NC",
            "AZ",
            "TX",
            "MA",
            "NJ",
            "CO",
            "IN",
            "CA",
            "TX",
            "PA",
            "GA",
            "NC",
            "NY",
            "FL",
            "OR",
            "MA",
            "VA",
            "CO",
            "PA",
            "CO",
            "OR",
            "CA",
            "LA",
            "TX",
            "IL",
            "RI",
            "AR",
            "WI",
            "NM",
            "OH",
            "MA",
            "FL",
            "MI",
            "NE",
            "FL",
            "OK",
            "MD",
            "OH",
            "MA",
            "TX",
            "CA",
            "CA",
            "MA",
            "TX",
            "LA"
           ],
           [
            "University of Michigan",
            "The Leland Stanford, Jr University",
            "Columbia University",
            "Emory University",
            "Johns Hopkins University",
            "Washington University",
            "TRUSTEES OF THE UNIVERSITY OF PENNSYLVANIA",
            "University of Wisconsin System",
            "ST. JUDE CHILDREN'S RESEARCH HOSPITAL",
            "Yale University",
            "University of Pittsburgh",
            "The University of Iowa",
            "UNIVERSITY OF CALIFORNIA, SAN DIEGO",
            "The University of Alabama at Birmingham",
            "Harvard University",
            "The Trustees of Princeton University",
            "University of California, San Francisco",
            "Purdue University",
            "Northwestern University",
            "UNIVERSITY OF FLORIDA",
            "The University of Chicago",
            "The Ohio State University",
            "UT Southwestern Medical Center",
            "The University of Texas at Austin",
            "Duke University",
            "MAYO CLINIC",
            "SAVANNAH CHATHAM COUNTY PUBLIC SCHOOL SYSTEM",
            "Massachusetts Institute of Technology",
            "Texas A&M University",
            "The University of Virginia",
            "Mayo Clinic ",
            "Indiana University Indianapolis",
            "Brigham and Women's Hospital",
            "University of Washington",
            "General Hospital Corporation",
            "The Curators of the University of Missouri",
            "Icahn School of Medicine at Mount Sinai",
            "University of Minnesota",
            "Baylor College of Medicine",
            "University of California, Davis",
            "University of Illinois",
            "NYU Grossman School of Medicine",
            "University of California, Berkeley",
            "Cornell University",
            "University of California, Los Angeles",
            "University of Utah",
            "Henry Ford Health System",
            "University of Rochester",
            "The University of Texas M.D. Anderson Cancer Center",
            "Weill Cornell Medical College",
            "UPMC Medical Education",
            "Iowa State University of Science and Technology",
            "The Pennsylvania State University",
            "Children's Hospital Corporation",
            "Memorial Sloan Kettering Cancer Center",
            "North Carolina State University",
            "Arizona State University",
            "Dallas Independent School District",
            "TRUSTEES OF BOSTON UNIVERSITY",
            "Rutgers, The State University of New Jersey",
            "University of Colorado",
            "Indiana University",
            "The University of Southern California",
            "Harmony Public Schools",
            "The Children's Hospital of Philadelphia",
            "Georgia Institute of Technology",
            "UNIVERSITY OF NORTH CAROLINA AT CHAPEL HILL",
            "New York University",
            "UNIVERSITY OF MIAMI",
            "Oregon State University",
            "Northeastern University",
            "Virginia Polytechnic Institute & State University",
            "University of Colorado Denver",
            "Carnegie Mellon University",
            "Denver Public Schools District 1",
            "Oregon Health & Science University",
            "Cedars-Sinai Medical Center",
            "Ochsner Clinic Foundation",
            "The University of Texas Health Science Center at Houston",
            "University of Illinois Chicago",
            "Brown University",
            "University of Arkansas for Medical Sciences",
            "Medical College of Wisconsin, Inc.",
            "Presbyterian Healthcare Services",
            "Cleveland Clinic Foundation",
            "Beth Israel Deaconess Medical Center, Inc.",
            "University of South Florida",
            "MICHIGAN STATE UNIVERSITY",
            "Board of Regents of the University of Nebraska",
            "Adventist Health System/Sunbelt, Inc. ",
            "University of Oklahoma",
            "University of Maryland Baltimore",
            "Cincinnati Children's Hospital Medical Center",
            "Mass General Brigham Incorporated",
            "University of Texas Health Science Center at San Antonio",
            "Leland Stanford Jr. Univ/SLAC National Accelerator Lab",
            "Regents of the University of California at Riverside",
            "Tufts University",
            "The University of Texas at Dallas",
            "Administrators of the Tulane Educational Fund"
           ],
           [
            "Educational Services",
            "Educational Services",
            "Educational Services",
            "Educational Services",
            "Educational Services",
            "Educational Services",
            "Educational Services",
            "Educational Services",
            "Hospitals",
            "Educational Services",
            "Educational Services",
            "Educational Services",
            "Educational Services",
            "Educational Services",
            "Educational Services",
            "Educational Services",
            "Educational Services",
            "Educational Services",
            "Educational Services",
            "Educational Services",
            "Educational Services",
            "Educational Services",
            "Educational Services",
            "Educational Services",
            "Educational Services",
            "Educational Services",
            "Educational Services",
            "Educational Services",
            "Educational Services",
            "Educational Services",
            "Educational Services",
            "Educational Services",
            "Hospitals",
            "Educational Services",
            "Hospitals",
            "Educational Services",
            "Hospitals",
            "Educational Services",
            "Educational Services",
            "Educational Services",
            "Educational Services",
            "Educational Services",
            "Educational Services",
            "Educational Services",
            "Educational Services",
            "Educational Services",
            "Hospitals",
            "Educational Services",
            "Educational Services",
            "Educational Services",
            "Hospitals",
            "Educational Services",
            "Educational Services",
            "Hospitals",
            "Hospitals",
            "Educational Services",
            "Educational Services",
            "Educational Services",
            "Educational Services",
            "Educational Services",
            "Educational Services",
            "Educational Services",
            "Educational Services",
            "Educational Services",
            "Hospitals",
            "Educational Services",
            "Educational Services",
            "Educational Services",
            "Educational Services",
            "Educational Services",
            "Educational Services",
            "Educational Services",
            "Educational Services",
            "Educational Services",
            "Educational Services",
            "Educational Services",
            "Hospitals",
            "Hospitals",
            "Educational Services",
            "Educational Services",
            "Educational Services",
            "Educational Services",
            "Educational Services",
            "Hospitals",
            "Hospitals",
            "Hospitals",
            "Educational Services",
            "Educational Services",
            "Educational Services",
            "Hospitals",
            "Educational Services",
            "Educational Services",
            "Hospitals",
            "Hospitals",
            "Educational Services",
            "Educational Services",
            "Educational Services",
            "Educational Services",
            "Educational Services",
            "Educational Services"
           ],
           [
            "Ann Arbor",
            "Stanford",
            "New York",
            "Atlanta",
            "Baltimore",
            "St. Louis",
            "PHILADELPHIA",
            "Madison",
            "MEMPHIS",
            "New Haven",
            "Pittsburgh",
            "Iowa City",
            "LA JOLLA",
            "Birmingham",
            "Cambridge",
            "Princeton",
            "San Francisco",
            "West Lafayette",
            "Evanston",
            "GAINESVILLE",
            "Chicago",
            "Columbus",
            "Dallas",
            "Austin",
            "Durham",
            "ROCHESTER",
            "SAVANNAH",
            "Cambridge",
            "College Station",
            "Charlottesville",
            "Rochester",
            "Indianapolis",
            "Somerville",
            "Seattle",
            "Boston",
            "Columbia",
            "New York",
            "Minneapolis",
            "Houston",
            "Davis",
            "Urbana",
            "New York",
            "Berkeley",
            "Ithaca",
            "Los Angeles",
            "Salt Lake City",
            "Detroit",
            "Rochester",
            "Houston",
            "New York",
            "Pittsburgh",
            "Ames",
            "University Park",
            "Boston",
            "New York",
            "Raleigh",
            "Tempe",
            "Dallas",
            "BOSTON",
            "New Brunswick",
            "Boulder",
            "Bloomington",
            "Los Angeles",
            "Houston",
            "Philadelphia ",
            "Atlanta",
            "CHAPEL HILL",
            "New York",
            "MIAMI",
            "Corvallis",
            "Boston",
            "Blacksburg",
            "Aurora",
            "Pittsburgh",
            "Denver",
            "Portland",
            "Los Angeles",
            "New Orleans",
            "Houston",
            "Chicago",
            "Providence",
            "Little Rock",
            "Milwaukee",
            "Albuquerque",
            "Cleveland",
            "Boston",
            "Tampa",
            "EAST LANSING",
            "Kearney",
            "Orlando",
            "Norman",
            "Baltimore",
            "CINCINNATI",
            "Somerville",
            "San Antonio",
            "Menlo Park",
            "RIVERSIDE",
            "Medford",
            "Richardson",
            "New Orleans"
           ],
           [
            315,
            278,
            250,
            220,
            212,
            202,
            193,
            190,
            189,
            185,
            181,
            179,
            171,
            168,
            158,
            157,
            156,
            155,
            154,
            149,
            149,
            143,
            139,
            136,
            136,
            136,
            132,
            128,
            128,
            122,
            120,
            118,
            115,
            114,
            112,
            112,
            111,
            110,
            108,
            104,
            103,
            102,
            101,
            99,
            99,
            97,
            97,
            96,
            96,
            91,
            91,
            90,
            90,
            89,
            88,
            87,
            87,
            86,
            83,
            83,
            83,
            82,
            81,
            80,
            79,
            74,
            74,
            74,
            72,
            72,
            72,
            71,
            70,
            69,
            68,
            68,
            66,
            66,
            65,
            64,
            63,
            63,
            63,
            62,
            62,
            62,
            60,
            60,
            59,
            59,
            58,
            58,
            57,
            56,
            56,
            56,
            56,
            56,
            55,
            55
           ],
           [
            0,
            0,
            0,
            0,
            0,
            0,
            0,
            0,
            0,
            0,
            0,
            0,
            0,
            0,
            0,
            0,
            0,
            0,
            0,
            0,
            0,
            0,
            0,
            0,
            0,
            0,
            0,
            0,
            0,
            0,
            0,
            0,
            0,
            0,
            0,
            0,
            0,
            0,
            0,
            0,
            0,
            0,
            0,
            0,
            0,
            0,
            0,
            0,
            0,
            0,
            0,
            0,
            0,
            0,
            0,
            0,
            0,
            0,
            0,
            0,
            0,
            0,
            0,
            0,
            0,
            0,
            0,
            0,
            0,
            0,
            0,
            0,
            0,
            0,
            0,
            0,
            0,
            0,
            0,
            0,
            0,
            0,
            0,
            0,
            0,
            0,
            0,
            0,
            0,
            0,
            0,
            0,
            0,
            0,
            0,
            0,
            0,
            0,
            0,
            0
           ],
           [
            0,
            0,
            0,
            0,
            0,
            0,
            0,
            0,
            0,
            0,
            0,
            0,
            0,
            0,
            0,
            0,
            0,
            0,
            0,
            0,
            0,
            0,
            0,
            0,
            0,
            0,
            0,
            0,
            0,
            0,
            0,
            0,
            0,
            0,
            0,
            0,
            0,
            0,
            0,
            0,
            0,
            0,
            0,
            0,
            0,
            0,
            0,
            0,
            0,
            0,
            0,
            0,
            0,
            0,
            0,
            0,
            0,
            0,
            0,
            0,
            0,
            0,
            0,
            0,
            0,
            0,
            0,
            0,
            0,
            0,
            0,
            0,
            0,
            0,
            0,
            0,
            0,
            0,
            0,
            0,
            0,
            0,
            0,
            0,
            0,
            0,
            0,
            0,
            0,
            0,
            0,
            0,
            0,
            0,
            0,
            0,
            0,
            0,
            0,
            0
           ]
          ]
         },
         "header": {
          "align": "left",
          "fill": {
           "color": "lightblue"
          },
          "font": {
           "size": 12
          },
          "values": [
           "State",
           "Institution",
           "Type",
           "City",
           "Total Apps",
           "Certified",
           "Cert Rate (%)"
          ]
         },
         "type": "table"
        }
       ],
       "layout": {
        "height": 600,
        "template": {
         "data": {
          "bar": [
           {
            "error_x": {
             "color": "#2a3f5f"
            },
            "error_y": {
             "color": "#2a3f5f"
            },
            "marker": {
             "line": {
              "color": "#E5ECF6",
              "width": 0.5
             },
             "pattern": {
              "fillmode": "overlay",
              "size": 10,
              "solidity": 0.2
             }
            },
            "type": "bar"
           }
          ],
          "barpolar": [
           {
            "marker": {
             "line": {
              "color": "#E5ECF6",
              "width": 0.5
             },
             "pattern": {
              "fillmode": "overlay",
              "size": 10,
              "solidity": 0.2
             }
            },
            "type": "barpolar"
           }
          ],
          "carpet": [
           {
            "aaxis": {
             "endlinecolor": "#2a3f5f",
             "gridcolor": "white",
             "linecolor": "white",
             "minorgridcolor": "white",
             "startlinecolor": "#2a3f5f"
            },
            "baxis": {
             "endlinecolor": "#2a3f5f",
             "gridcolor": "white",
             "linecolor": "white",
             "minorgridcolor": "white",
             "startlinecolor": "#2a3f5f"
            },
            "type": "carpet"
           }
          ],
          "choropleth": [
           {
            "colorbar": {
             "outlinewidth": 0,
             "ticks": ""
            },
            "type": "choropleth"
           }
          ],
          "contour": [
           {
            "colorbar": {
             "outlinewidth": 0,
             "ticks": ""
            },
            "colorscale": [
             [
              0,
              "#0d0887"
             ],
             [
              0.1111111111111111,
              "#46039f"
             ],
             [
              0.2222222222222222,
              "#7201a8"
             ],
             [
              0.3333333333333333,
              "#9c179e"
             ],
             [
              0.4444444444444444,
              "#bd3786"
             ],
             [
              0.5555555555555556,
              "#d8576b"
             ],
             [
              0.6666666666666666,
              "#ed7953"
             ],
             [
              0.7777777777777778,
              "#fb9f3a"
             ],
             [
              0.8888888888888888,
              "#fdca26"
             ],
             [
              1,
              "#f0f921"
             ]
            ],
            "type": "contour"
           }
          ],
          "contourcarpet": [
           {
            "colorbar": {
             "outlinewidth": 0,
             "ticks": ""
            },
            "type": "contourcarpet"
           }
          ],
          "heatmap": [
           {
            "colorbar": {
             "outlinewidth": 0,
             "ticks": ""
            },
            "colorscale": [
             [
              0,
              "#0d0887"
             ],
             [
              0.1111111111111111,
              "#46039f"
             ],
             [
              0.2222222222222222,
              "#7201a8"
             ],
             [
              0.3333333333333333,
              "#9c179e"
             ],
             [
              0.4444444444444444,
              "#bd3786"
             ],
             [
              0.5555555555555556,
              "#d8576b"
             ],
             [
              0.6666666666666666,
              "#ed7953"
             ],
             [
              0.7777777777777778,
              "#fb9f3a"
             ],
             [
              0.8888888888888888,
              "#fdca26"
             ],
             [
              1,
              "#f0f921"
             ]
            ],
            "type": "heatmap"
           }
          ],
          "histogram": [
           {
            "marker": {
             "pattern": {
              "fillmode": "overlay",
              "size": 10,
              "solidity": 0.2
             }
            },
            "type": "histogram"
           }
          ],
          "histogram2d": [
           {
            "colorbar": {
             "outlinewidth": 0,
             "ticks": ""
            },
            "colorscale": [
             [
              0,
              "#0d0887"
             ],
             [
              0.1111111111111111,
              "#46039f"
             ],
             [
              0.2222222222222222,
              "#7201a8"
             ],
             [
              0.3333333333333333,
              "#9c179e"
             ],
             [
              0.4444444444444444,
              "#bd3786"
             ],
             [
              0.5555555555555556,
              "#d8576b"
             ],
             [
              0.6666666666666666,
              "#ed7953"
             ],
             [
              0.7777777777777778,
              "#fb9f3a"
             ],
             [
              0.8888888888888888,
              "#fdca26"
             ],
             [
              1,
              "#f0f921"
             ]
            ],
            "type": "histogram2d"
           }
          ],
          "histogram2dcontour": [
           {
            "colorbar": {
             "outlinewidth": 0,
             "ticks": ""
            },
            "colorscale": [
             [
              0,
              "#0d0887"
             ],
             [
              0.1111111111111111,
              "#46039f"
             ],
             [
              0.2222222222222222,
              "#7201a8"
             ],
             [
              0.3333333333333333,
              "#9c179e"
             ],
             [
              0.4444444444444444,
              "#bd3786"
             ],
             [
              0.5555555555555556,
              "#d8576b"
             ],
             [
              0.6666666666666666,
              "#ed7953"
             ],
             [
              0.7777777777777778,
              "#fb9f3a"
             ],
             [
              0.8888888888888888,
              "#fdca26"
             ],
             [
              1,
              "#f0f921"
             ]
            ],
            "type": "histogram2dcontour"
           }
          ],
          "mesh3d": [
           {
            "colorbar": {
             "outlinewidth": 0,
             "ticks": ""
            },
            "type": "mesh3d"
           }
          ],
          "parcoords": [
           {
            "line": {
             "colorbar": {
              "outlinewidth": 0,
              "ticks": ""
             }
            },
            "type": "parcoords"
           }
          ],
          "pie": [
           {
            "automargin": true,
            "type": "pie"
           }
          ],
          "scatter": [
           {
            "fillpattern": {
             "fillmode": "overlay",
             "size": 10,
             "solidity": 0.2
            },
            "type": "scatter"
           }
          ],
          "scatter3d": [
           {
            "line": {
             "colorbar": {
              "outlinewidth": 0,
              "ticks": ""
             }
            },
            "marker": {
             "colorbar": {
              "outlinewidth": 0,
              "ticks": ""
             }
            },
            "type": "scatter3d"
           }
          ],
          "scattercarpet": [
           {
            "marker": {
             "colorbar": {
              "outlinewidth": 0,
              "ticks": ""
             }
            },
            "type": "scattercarpet"
           }
          ],
          "scattergeo": [
           {
            "marker": {
             "colorbar": {
              "outlinewidth": 0,
              "ticks": ""
             }
            },
            "type": "scattergeo"
           }
          ],
          "scattergl": [
           {
            "marker": {
             "colorbar": {
              "outlinewidth": 0,
              "ticks": ""
             }
            },
            "type": "scattergl"
           }
          ],
          "scattermap": [
           {
            "marker": {
             "colorbar": {
              "outlinewidth": 0,
              "ticks": ""
             }
            },
            "type": "scattermap"
           }
          ],
          "scattermapbox": [
           {
            "marker": {
             "colorbar": {
              "outlinewidth": 0,
              "ticks": ""
             }
            },
            "type": "scattermapbox"
           }
          ],
          "scatterpolar": [
           {
            "marker": {
             "colorbar": {
              "outlinewidth": 0,
              "ticks": ""
             }
            },
            "type": "scatterpolar"
           }
          ],
          "scatterpolargl": [
           {
            "marker": {
             "colorbar": {
              "outlinewidth": 0,
              "ticks": ""
             }
            },
            "type": "scatterpolargl"
           }
          ],
          "scatterternary": [
           {
            "marker": {
             "colorbar": {
              "outlinewidth": 0,
              "ticks": ""
             }
            },
            "type": "scatterternary"
           }
          ],
          "surface": [
           {
            "colorbar": {
             "outlinewidth": 0,
             "ticks": ""
            },
            "colorscale": [
             [
              0,
              "#0d0887"
             ],
             [
              0.1111111111111111,
              "#46039f"
             ],
             [
              0.2222222222222222,
              "#7201a8"
             ],
             [
              0.3333333333333333,
              "#9c179e"
             ],
             [
              0.4444444444444444,
              "#bd3786"
             ],
             [
              0.5555555555555556,
              "#d8576b"
             ],
             [
              0.6666666666666666,
              "#ed7953"
             ],
             [
              0.7777777777777778,
              "#fb9f3a"
             ],
             [
              0.8888888888888888,
              "#fdca26"
             ],
             [
              1,
              "#f0f921"
             ]
            ],
            "type": "surface"
           }
          ],
          "table": [
           {
            "cells": {
             "fill": {
              "color": "#EBF0F8"
             },
             "line": {
              "color": "white"
             }
            },
            "header": {
             "fill": {
              "color": "#C8D4E3"
             },
             "line": {
              "color": "white"
             }
            },
            "type": "table"
           }
          ]
         },
         "layout": {
          "annotationdefaults": {
           "arrowcolor": "#2a3f5f",
           "arrowhead": 0,
           "arrowwidth": 1
          },
          "autotypenumbers": "strict",
          "coloraxis": {
           "colorbar": {
            "outlinewidth": 0,
            "ticks": ""
           }
          },
          "colorscale": {
           "diverging": [
            [
             0,
             "#8e0152"
            ],
            [
             0.1,
             "#c51b7d"
            ],
            [
             0.2,
             "#de77ae"
            ],
            [
             0.3,
             "#f1b6da"
            ],
            [
             0.4,
             "#fde0ef"
            ],
            [
             0.5,
             "#f7f7f7"
            ],
            [
             0.6,
             "#e6f5d0"
            ],
            [
             0.7,
             "#b8e186"
            ],
            [
             0.8,
             "#7fbc41"
            ],
            [
             0.9,
             "#4d9221"
            ],
            [
             1,
             "#276419"
            ]
           ],
           "sequential": [
            [
             0,
             "#0d0887"
            ],
            [
             0.1111111111111111,
             "#46039f"
            ],
            [
             0.2222222222222222,
             "#7201a8"
            ],
            [
             0.3333333333333333,
             "#9c179e"
            ],
            [
             0.4444444444444444,
             "#bd3786"
            ],
            [
             0.5555555555555556,
             "#d8576b"
            ],
            [
             0.6666666666666666,
             "#ed7953"
            ],
            [
             0.7777777777777778,
             "#fb9f3a"
            ],
            [
             0.8888888888888888,
             "#fdca26"
            ],
            [
             1,
             "#f0f921"
            ]
           ],
           "sequentialminus": [
            [
             0,
             "#0d0887"
            ],
            [
             0.1111111111111111,
             "#46039f"
            ],
            [
             0.2222222222222222,
             "#7201a8"
            ],
            [
             0.3333333333333333,
             "#9c179e"
            ],
            [
             0.4444444444444444,
             "#bd3786"
            ],
            [
             0.5555555555555556,
             "#d8576b"
            ],
            [
             0.6666666666666666,
             "#ed7953"
            ],
            [
             0.7777777777777778,
             "#fb9f3a"
            ],
            [
             0.8888888888888888,
             "#fdca26"
            ],
            [
             1,
             "#f0f921"
            ]
           ]
          },
          "colorway": [
           "#636efa",
           "#EF553B",
           "#00cc96",
           "#ab63fa",
           "#FFA15A",
           "#19d3f3",
           "#FF6692",
           "#B6E880",
           "#FF97FF",
           "#FECB52"
          ],
          "font": {
           "color": "#2a3f5f"
          },
          "geo": {
           "bgcolor": "white",
           "lakecolor": "white",
           "landcolor": "#E5ECF6",
           "showlakes": true,
           "showland": true,
           "subunitcolor": "white"
          },
          "hoverlabel": {
           "align": "left"
          },
          "hovermode": "closest",
          "mapbox": {
           "style": "light"
          },
          "paper_bgcolor": "white",
          "plot_bgcolor": "#E5ECF6",
          "polar": {
           "angularaxis": {
            "gridcolor": "white",
            "linecolor": "white",
            "ticks": ""
           },
           "bgcolor": "#E5ECF6",
           "radialaxis": {
            "gridcolor": "white",
            "linecolor": "white",
            "ticks": ""
           }
          },
          "scene": {
           "xaxis": {
            "backgroundcolor": "#E5ECF6",
            "gridcolor": "white",
            "gridwidth": 2,
            "linecolor": "white",
            "showbackground": true,
            "ticks": "",
            "zerolinecolor": "white"
           },
           "yaxis": {
            "backgroundcolor": "#E5ECF6",
            "gridcolor": "white",
            "gridwidth": 2,
            "linecolor": "white",
            "showbackground": true,
            "ticks": "",
            "zerolinecolor": "white"
           },
           "zaxis": {
            "backgroundcolor": "#E5ECF6",
            "gridcolor": "white",
            "gridwidth": 2,
            "linecolor": "white",
            "showbackground": true,
            "ticks": "",
            "zerolinecolor": "white"
           }
          },
          "shapedefaults": {
           "line": {
            "color": "#2a3f5f"
           }
          },
          "ternary": {
           "aaxis": {
            "gridcolor": "white",
            "linecolor": "white",
            "ticks": ""
           },
           "baxis": {
            "gridcolor": "white",
            "linecolor": "white",
            "ticks": ""
           },
           "bgcolor": "#E5ECF6",
           "caxis": {
            "gridcolor": "white",
            "linecolor": "white",
            "ticks": ""
           }
          },
          "title": {
           "x": 0.05
          },
          "xaxis": {
           "automargin": true,
           "gridcolor": "white",
           "linecolor": "white",
           "ticks": "",
           "title": {
            "standoff": 15
           },
           "zerolinecolor": "white",
           "zerolinewidth": 2
          },
          "yaxis": {
           "automargin": true,
           "gridcolor": "white",
           "linecolor": "white",
           "ticks": "",
           "title": {
            "standoff": 15
           },
           "zerolinecolor": "white",
           "zerolinewidth": 2
          }
         }
        },
        "title": {
         "text": "Top 100 Cap-Exempt Institutions - Detailed View"
        }
       }
      }
     },
     "metadata": {},
     "output_type": "display_data"
    }
   ],
   "source": [
    "# Create detailed summary table\n",
    "detailed_summary = cap_exempt_institutions.groupby(['EMPLOYER_STATE', 'EMPLOYER_NAME', 'Institution_Type']).agg({\n",
    "    'CASE_STATUS': ['count', lambda x: (x == 'CERTIFIED').sum()],\n",
    "    'EMPLOYER_CITY': 'first'\n",
    "}).reset_index()\n",
    "\n",
    "# Flatten column names\n",
    "detailed_summary.columns = ['State', 'Institution_Name', 'Institution_Type', 'Total_Applications', 'Certified_Applications', 'City']\n",
    "detailed_summary['Certification_Rate'] = (detailed_summary['Certified_Applications'] / detailed_summary['Total_Applications'] * 100).round(2)\n",
    "\n",
    "# Sort by total applications\n",
    "detailed_summary = detailed_summary.sort_values('Total_Applications', ascending=False)\n",
    "\n",
    "# Display top 50 institutions\n",
    "print(\"Top 50 Cap-Exempt Institutions by H-1B Applications:\")\n",
    "print(\"=\" * 80)\n",
    "print(detailed_summary.head(50).to_string(index=False, max_colwidth=30))\n",
    "\n",
    "# Create interactive table\n",
    "fig = go.Figure(data=[go.Table(\n",
    "    header=dict(\n",
    "        values=['State', 'Institution', 'Type', 'City', 'Total Apps', 'Certified', 'Cert Rate (%)'],\n",
    "        fill_color='lightblue',\n",
    "        align='left',\n",
    "        font=dict(size=12)\n",
    "    ),\n",
    "    cells=dict(\n",
    "        values=[\n",
    "            detailed_summary['State'][:100],\n",
    "            detailed_summary['Institution_Name'][:100],\n",
    "            detailed_summary['Institution_Type'][:100],\n",
    "            detailed_summary['City'][:100],\n",
    "            detailed_summary['Total_Applications'][:100],\n",
    "            detailed_summary['Certified_Applications'][:100],\n",
    "            detailed_summary['Certification_Rate'][:100]\n",
    "        ],\n",
    "        fill_color='white',\n",
    "        align='left',\n",
    "        font=dict(size=10)\n",
    "    )\n",
    ")])\n",
    "\n",
    "fig.update_layout(\n",
    "    title='Top 100 Cap-Exempt Institutions - Detailed View',\n",
    "    height=600\n",
    ")\n",
    "\n",
    "fig.show()"
   ]
  }
 ],
 "metadata": {
  "kernelspec": {
   "display_name": "capenv",
   "language": "python",
   "name": "python3"
  },
  "language_info": {
   "codemirror_mode": {
    "name": "ipython",
    "version": 3
   },
   "file_extension": ".py",
   "mimetype": "text/x-python",
   "name": "python",
   "nbconvert_exporter": "python",
   "pygments_lexer": "ipython3",
   "version": "3.12.3"
  }
 },
 "nbformat": 4,
 "nbformat_minor": 2
}
