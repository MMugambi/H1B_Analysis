{
 "cells": [
  {
   "cell_type": "markdown",
   "metadata": {},
   "source": [
    "<h1> H1B Reports 2024 </h1>"
   ]
  },
  {
   "cell_type": "code",
   "execution_count": 3,
   "metadata": {},
   "outputs": [],
   "source": [
    "# reading the document in CSV\n",
    "import pandas as pd\n",
    "import numpy as np\n",
    "import matplotlib.pyplot as plt\n",
    "import seaborn as sns"
   ]
  },
  {
   "cell_type": "code",
   "execution_count": 4,
   "metadata": {},
   "outputs": [
    {
     "data": {
      "text/html": [
       "<div>\n",
       "<style scoped>\n",
       "    .dataframe tbody tr th:only-of-type {\n",
       "        vertical-align: middle;\n",
       "    }\n",
       "\n",
       "    .dataframe tbody tr th {\n",
       "        vertical-align: top;\n",
       "    }\n",
       "\n",
       "    .dataframe thead th {\n",
       "        text-align: right;\n",
       "    }\n",
       "</style>\n",
       "<table border=\"1\" class=\"dataframe\">\n",
       "  <thead>\n",
       "    <tr style=\"text-align: right;\">\n",
       "      <th></th>\n",
       "      <th>Fiscal Year</th>\n",
       "      <th>Employer (Petitioner) Name</th>\n",
       "      <th>Tax ID</th>\n",
       "      <th>Industry (NAICS) Code</th>\n",
       "      <th>Petitioner City</th>\n",
       "      <th>Petitioner State</th>\n",
       "      <th>Petitioner Zip Code</th>\n",
       "      <th>Initial Approval</th>\n",
       "      <th>Initial Denial</th>\n",
       "      <th>Continuing Approval</th>\n",
       "      <th>Continuing Denial</th>\n",
       "    </tr>\n",
       "    <tr>\n",
       "      <th>Line by line</th>\n",
       "      <th></th>\n",
       "      <th></th>\n",
       "      <th></th>\n",
       "      <th></th>\n",
       "      <th></th>\n",
       "      <th></th>\n",
       "      <th></th>\n",
       "      <th></th>\n",
       "      <th></th>\n",
       "      <th></th>\n",
       "      <th></th>\n",
       "    </tr>\n",
       "  </thead>\n",
       "  <tbody>\n",
       "    <tr>\n",
       "      <th>1</th>\n",
       "      <td>2024</td>\n",
       "      <td>NaN</td>\n",
       "      <td>3581.0</td>\n",
       "      <td>54 - Professional, Scientific, and Technical S...</td>\n",
       "      <td>LAFAYETTE</td>\n",
       "      <td>CA</td>\n",
       "      <td>94549.0</td>\n",
       "      <td>0</td>\n",
       "      <td>0</td>\n",
       "      <td>1</td>\n",
       "      <td>0</td>\n",
       "    </tr>\n",
       "    <tr>\n",
       "      <th>2</th>\n",
       "      <td>2024</td>\n",
       "      <td>NaN</td>\n",
       "      <td>4245.0</td>\n",
       "      <td>62 - Health Care and Social Assistance</td>\n",
       "      <td>DAVIE</td>\n",
       "      <td>FL</td>\n",
       "      <td>33328.0</td>\n",
       "      <td>1</td>\n",
       "      <td>0</td>\n",
       "      <td>0</td>\n",
       "      <td>0</td>\n",
       "    </tr>\n",
       "    <tr>\n",
       "      <th>3</th>\n",
       "      <td>2024</td>\n",
       "      <td>1 800 FLOWERS COM INC</td>\n",
       "      <td>7311.0</td>\n",
       "      <td>44-45 - Retail Trade</td>\n",
       "      <td>JERICHO</td>\n",
       "      <td>NY</td>\n",
       "      <td>11753.0</td>\n",
       "      <td>1</td>\n",
       "      <td>0</td>\n",
       "      <td>5</td>\n",
       "      <td>0</td>\n",
       "    </tr>\n",
       "    <tr>\n",
       "      <th>4</th>\n",
       "      <td>2024</td>\n",
       "      <td>1 HOTEL KAUAI LLC DBA 1 HOTEL HANALEI BAY</td>\n",
       "      <td>5669.0</td>\n",
       "      <td>72 - Accommodation and Food Services</td>\n",
       "      <td>MIAMI</td>\n",
       "      <td>FL</td>\n",
       "      <td>33133.0</td>\n",
       "      <td>0</td>\n",
       "      <td>0</td>\n",
       "      <td>1</td>\n",
       "      <td>0</td>\n",
       "    </tr>\n",
       "    <tr>\n",
       "      <th>5</th>\n",
       "      <td>2024</td>\n",
       "      <td>1 OAK MEDIA LLC</td>\n",
       "      <td>7999.0</td>\n",
       "      <td>54 - Professional, Scientific, and Technical S...</td>\n",
       "      <td>LINCOLN CITY</td>\n",
       "      <td>OR</td>\n",
       "      <td>97367.0</td>\n",
       "      <td>1</td>\n",
       "      <td>0</td>\n",
       "      <td>0</td>\n",
       "      <td>0</td>\n",
       "    </tr>\n",
       "  </tbody>\n",
       "</table>\n",
       "</div>"
      ],
      "text/plain": [
       "              Fiscal Year                    Employer (Petitioner) Name  \\\n",
       "Line by line                                                              \n",
       "1                       2024                                        NaN   \n",
       "2                       2024                                        NaN   \n",
       "3                       2024                      1 800 FLOWERS COM INC   \n",
       "4                       2024  1 HOTEL KAUAI LLC DBA 1 HOTEL HANALEI BAY   \n",
       "5                       2024                            1 OAK MEDIA LLC   \n",
       "\n",
       "              Tax ID                              Industry (NAICS) Code  \\\n",
       "Line by line                                                              \n",
       "1             3581.0  54 - Professional, Scientific, and Technical S...   \n",
       "2             4245.0             62 - Health Care and Social Assistance   \n",
       "3             7311.0                               44-45 - Retail Trade   \n",
       "4             5669.0               72 - Accommodation and Food Services   \n",
       "5             7999.0  54 - Professional, Scientific, and Technical S...   \n",
       "\n",
       "             Petitioner City Petitioner State  Petitioner Zip Code  \\\n",
       "Line by line                                                         \n",
       "1                  LAFAYETTE               CA              94549.0   \n",
       "2                      DAVIE               FL              33328.0   \n",
       "3                    JERICHO               NY              11753.0   \n",
       "4                      MIAMI               FL              33133.0   \n",
       "5               LINCOLN CITY               OR              97367.0   \n",
       "\n",
       "             Initial Approval  Initial Denial Continuing Approval  \\\n",
       "Line by line                                                        \n",
       "1                           0               0                   1   \n",
       "2                           1               0                   0   \n",
       "3                           1               0                   5   \n",
       "4                           0               0                   1   \n",
       "5                           1               0                   0   \n",
       "\n",
       "              Continuing Denial  \n",
       "Line by line                     \n",
       "1                             0  \n",
       "2                             0  \n",
       "3                             0  \n",
       "4                             0  \n",
       "5                             0  "
      ]
     },
     "execution_count": 4,
     "metadata": {},
     "output_type": "execute_result"
    }
   ],
   "source": [
    "employer = pd.read_csv(\"employer.csv\", encoding='utf-16', sep='\\t', index_col=0)\n",
    "employer.head()"
   ]
  },
  {
   "cell_type": "code",
   "execution_count": 5,
   "metadata": {},
   "outputs": [
    {
     "data": {
      "text/plain": [
       "Fiscal Year                      0\n",
       "Employer (Petitioner) Name       2\n",
       "Tax ID                         417\n",
       "Industry (NAICS) Code         2375\n",
       "Petitioner City                  0\n",
       "Petitioner State                 4\n",
       "Petitioner Zip Code              7\n",
       "Initial Approval                 0\n",
       "Initial Denial                   0\n",
       "Continuing Approval              0\n",
       "Continuing Denial                0\n",
       "dtype: int64"
      ]
     },
     "execution_count": 5,
     "metadata": {},
     "output_type": "execute_result"
    }
   ],
   "source": [
    "# Checking for missing values\n",
    "employer.isnull().sum()"
   ]
  },
  {
   "cell_type": "code",
   "execution_count": 6,
   "metadata": {},
   "outputs": [
    {
     "data": {
      "text/html": [
       "<div>\n",
       "<style scoped>\n",
       "    .dataframe tbody tr th:only-of-type {\n",
       "        vertical-align: middle;\n",
       "    }\n",
       "\n",
       "    .dataframe tbody tr th {\n",
       "        vertical-align: top;\n",
       "    }\n",
       "\n",
       "    .dataframe thead th {\n",
       "        text-align: right;\n",
       "    }\n",
       "</style>\n",
       "<table border=\"1\" class=\"dataframe\">\n",
       "  <thead>\n",
       "    <tr style=\"text-align: right;\">\n",
       "      <th></th>\n",
       "      <th>Line by line</th>\n",
       "      <th>Fiscal Year</th>\n",
       "      <th>Employer (Petitioner) Name</th>\n",
       "      <th>Tax ID</th>\n",
       "      <th>Industry (NAICS) Code</th>\n",
       "      <th>Petitioner City</th>\n",
       "      <th>Petitioner State</th>\n",
       "      <th>Petitioner Zip Code</th>\n",
       "      <th>Initial Approval</th>\n",
       "      <th>Initial Denial</th>\n",
       "      <th>Continuing Approval</th>\n",
       "      <th>Continuing Denial</th>\n",
       "    </tr>\n",
       "  </thead>\n",
       "  <tbody>\n",
       "    <tr>\n",
       "      <th>0</th>\n",
       "      <td>1</td>\n",
       "      <td>2024</td>\n",
       "      <td>NaN</td>\n",
       "      <td>3581.0</td>\n",
       "      <td>54 - Professional, Scientific, and Technical S...</td>\n",
       "      <td>LAFAYETTE</td>\n",
       "      <td>CA</td>\n",
       "      <td>94549.0</td>\n",
       "      <td>0</td>\n",
       "      <td>0</td>\n",
       "      <td>1</td>\n",
       "      <td>0</td>\n",
       "    </tr>\n",
       "    <tr>\n",
       "      <th>1</th>\n",
       "      <td>2</td>\n",
       "      <td>2024</td>\n",
       "      <td>NaN</td>\n",
       "      <td>4245.0</td>\n",
       "      <td>62 - Health Care and Social Assistance</td>\n",
       "      <td>DAVIE</td>\n",
       "      <td>FL</td>\n",
       "      <td>33328.0</td>\n",
       "      <td>1</td>\n",
       "      <td>0</td>\n",
       "      <td>0</td>\n",
       "      <td>0</td>\n",
       "    </tr>\n",
       "    <tr>\n",
       "      <th>2</th>\n",
       "      <td>3</td>\n",
       "      <td>2024</td>\n",
       "      <td>1 800 FLOWERS COM INC</td>\n",
       "      <td>7311.0</td>\n",
       "      <td>44-45 - Retail Trade</td>\n",
       "      <td>JERICHO</td>\n",
       "      <td>NY</td>\n",
       "      <td>11753.0</td>\n",
       "      <td>1</td>\n",
       "      <td>0</td>\n",
       "      <td>5</td>\n",
       "      <td>0</td>\n",
       "    </tr>\n",
       "    <tr>\n",
       "      <th>3</th>\n",
       "      <td>4</td>\n",
       "      <td>2024</td>\n",
       "      <td>1 HOTEL KAUAI LLC DBA 1 HOTEL HANALEI BAY</td>\n",
       "      <td>5669.0</td>\n",
       "      <td>72 - Accommodation and Food Services</td>\n",
       "      <td>MIAMI</td>\n",
       "      <td>FL</td>\n",
       "      <td>33133.0</td>\n",
       "      <td>0</td>\n",
       "      <td>0</td>\n",
       "      <td>1</td>\n",
       "      <td>0</td>\n",
       "    </tr>\n",
       "    <tr>\n",
       "      <th>4</th>\n",
       "      <td>5</td>\n",
       "      <td>2024</td>\n",
       "      <td>1 OAK MEDIA LLC</td>\n",
       "      <td>7999.0</td>\n",
       "      <td>54 - Professional, Scientific, and Technical S...</td>\n",
       "      <td>LINCOLN CITY</td>\n",
       "      <td>OR</td>\n",
       "      <td>97367.0</td>\n",
       "      <td>1</td>\n",
       "      <td>0</td>\n",
       "      <td>0</td>\n",
       "      <td>0</td>\n",
       "    </tr>\n",
       "  </tbody>\n",
       "</table>\n",
       "</div>"
      ],
      "text/plain": [
       "  Line by line  Fiscal Year                    Employer (Petitioner) Name  \\\n",
       "0            1            2024                                        NaN   \n",
       "1            2            2024                                        NaN   \n",
       "2            3            2024                      1 800 FLOWERS COM INC   \n",
       "3            4            2024  1 HOTEL KAUAI LLC DBA 1 HOTEL HANALEI BAY   \n",
       "4            5            2024                            1 OAK MEDIA LLC   \n",
       "\n",
       "   Tax ID                              Industry (NAICS) Code Petitioner City  \\\n",
       "0  3581.0  54 - Professional, Scientific, and Technical S...       LAFAYETTE   \n",
       "1  4245.0             62 - Health Care and Social Assistance           DAVIE   \n",
       "2  7311.0                               44-45 - Retail Trade         JERICHO   \n",
       "3  5669.0               72 - Accommodation and Food Services           MIAMI   \n",
       "4  7999.0  54 - Professional, Scientific, and Technical S...    LINCOLN CITY   \n",
       "\n",
       "  Petitioner State  Petitioner Zip Code Initial Approval  Initial Denial  \\\n",
       "0               CA              94549.0                0               0   \n",
       "1               FL              33328.0                1               0   \n",
       "2               NY              11753.0                1               0   \n",
       "3               FL              33133.0                0               0   \n",
       "4               OR              97367.0                1               0   \n",
       "\n",
       "  Continuing Approval  Continuing Denial  \n",
       "0                   1                  0  \n",
       "1                   0                  0  \n",
       "2                   5                  0  \n",
       "3                   1                  0  \n",
       "4                   0                  0  "
      ]
     },
     "execution_count": 6,
     "metadata": {},
     "output_type": "execute_result"
    }
   ],
   "source": [
    "# Addressing `line by line` column \n",
    "employer = employer.reset_index()\n",
    "employer.head()"
   ]
  },
  {
   "cell_type": "code",
   "execution_count": 7,
   "metadata": {},
   "outputs": [
    {
     "name": "stdout",
     "output_type": "stream",
     "text": [
      "<class 'pandas.core.frame.DataFrame'>\n",
      "RangeIndex: 61456 entries, 0 to 61455\n",
      "Data columns (total 12 columns):\n",
      " #   Column                      Non-Null Count  Dtype  \n",
      "---  ------                      --------------  -----  \n",
      " 0   Line by line                61456 non-null  object \n",
      " 1   Fiscal Year                 61456 non-null  int64  \n",
      " 2   Employer (Petitioner) Name  61454 non-null  object \n",
      " 3   Tax ID                      61039 non-null  float64\n",
      " 4   Industry (NAICS) Code       59081 non-null  object \n",
      " 5   Petitioner City             61456 non-null  object \n",
      " 6   Petitioner State            61452 non-null  object \n",
      " 7   Petitioner Zip Code         61449 non-null  float64\n",
      " 8   Initial Approval            61456 non-null  object \n",
      " 9   Initial Denial              61456 non-null  int64  \n",
      " 10  Continuing Approval         61456 non-null  object \n",
      " 11  Continuing Denial           61456 non-null  int64  \n",
      "dtypes: float64(2), int64(3), object(7)\n",
      "memory usage: 5.6+ MB\n"
     ]
    }
   ],
   "source": [
    "employer.info()"
   ]
  },
  {
   "cell_type": "code",
   "execution_count": 8,
   "metadata": {},
   "outputs": [
    {
     "name": "stdout",
     "output_type": "stream",
     "text": [
      "Index(['Line by line', 'Fiscal Year   ', 'Employer (Petitioner) Name',\n",
      "       'Tax ID', 'Industry (NAICS) Code', 'Petitioner City',\n",
      "       'Petitioner State', 'Petitioner Zip Code', 'Initial Approval',\n",
      "       'Initial Denial', 'Continuing Approval', 'Continuing Denial'],\n",
      "      dtype='object')\n"
     ]
    }
   ],
   "source": [
    "print(employer.columns)"
   ]
  },
  {
   "cell_type": "markdown",
   "metadata": {},
   "source": [
    "<p><b> we are going to drop Fiscal Year, Tax iD, Petitioner Zip Code</b> </p>"
   ]
  },
  {
   "cell_type": "code",
   "execution_count": 9,
   "metadata": {},
   "outputs": [],
   "source": [
    "employer = employer.drop(['Line by line','Fiscal Year   ','Tax ID','Petitioner Zip Code'],axis=1)"
   ]
  },
  {
   "cell_type": "code",
   "execution_count": 10,
   "metadata": {},
   "outputs": [
    {
     "name": "stdout",
     "output_type": "stream",
     "text": [
      "<class 'pandas.core.frame.DataFrame'>\n",
      "RangeIndex: 61456 entries, 0 to 61455\n",
      "Data columns (total 8 columns):\n",
      " #   Column                      Non-Null Count  Dtype \n",
      "---  ------                      --------------  ----- \n",
      " 0   Employer (Petitioner) Name  61454 non-null  object\n",
      " 1   Industry (NAICS) Code       59081 non-null  object\n",
      " 2   Petitioner City             61456 non-null  object\n",
      " 3   Petitioner State            61452 non-null  object\n",
      " 4   Initial Approval            61456 non-null  object\n",
      " 5   Initial Denial              61456 non-null  int64 \n",
      " 6   Continuing Approval         61456 non-null  object\n",
      " 7   Continuing Denial           61456 non-null  int64 \n",
      "dtypes: int64(2), object(6)\n",
      "memory usage: 3.8+ MB\n"
     ]
    }
   ],
   "source": [
    "employer.info()"
   ]
  },
  {
   "cell_type": "code",
   "execution_count": 11,
   "metadata": {},
   "outputs": [
    {
     "data": {
      "text/plain": [
       "Employer (Petitioner) Name       2\n",
       "Industry (NAICS) Code         2375\n",
       "Petitioner City                  0\n",
       "Petitioner State                 4\n",
       "Initial Approval                 0\n",
       "Initial Denial                   0\n",
       "Continuing Approval              0\n",
       "Continuing Denial                0\n",
       "dtype: int64"
      ]
     },
     "execution_count": 11,
     "metadata": {},
     "output_type": "execute_result"
    }
   ],
   "source": [
    "employer.isnull().sum()"
   ]
  },
  {
   "cell_type": "code",
   "execution_count": 12,
   "metadata": {},
   "outputs": [
    {
     "data": {
      "text/plain": [
       "array(['54 - Professional, Scientific, and Technical Services',\n",
       "       '62 - Health Care and Social Assistance', '44-45 - Retail Trade',\n",
       "       '72 - Accommodation and Food Services',\n",
       "       '52 - Finance and Insurance', '51 - Information',\n",
       "       '31-33 - Manufacturing',\n",
       "       '81 - Other Services (except Public Administration)',\n",
       "       '42 - Wholesale Trade', nan,\n",
       "       '53 - Real Estate and Rental and Leasing',\n",
       "       '56 - Administrative and Support and Waste Management and Remediation Services',\n",
       "       '23 - Construction', '61 - Educational Services',\n",
       "       '71 - Arts, Entertainment, and Recreation',\n",
       "       '92 - Public Administration',\n",
       "       '11 - Agriculture, Forestry, Fishing and Hunting',\n",
       "       '48-49 - Transportation and Warehousing',\n",
       "       '55 - Management of Companies and Enterprises', '22 - Utilities',\n",
       "       '21 - Mining, Quarrying, and Oil and Gas Extraction'], dtype=object)"
      ]
     },
     "execution_count": 12,
     "metadata": {},
     "output_type": "execute_result"
    }
   ],
   "source": [
    "employer['Industry (NAICS) Code'].unique()"
   ]
  },
  {
   "cell_type": "code",
   "execution_count": 13,
   "metadata": {},
   "outputs": [
    {
     "data": {
      "text/plain": [
       "52892"
      ]
     },
     "execution_count": 13,
     "metadata": {},
     "output_type": "execute_result"
    }
   ],
   "source": [
    "employer['Employer (Petitioner) Name'].nunique()"
   ]
  },
  {
   "cell_type": "markdown",
   "metadata": {},
   "source": [
    "<p><b> We have a high number of missing values in `Industry (NAICS) Code` (2375). We need to address this high number of missing values</b></p>\n",
    "<li>We can try imputation based on a placeholder -- we can keep track of missing values  using a special form of 'unkown'</li>\n",
    "<li> Imputation based on another column -- We can check the   `employer name` and try to fit or associate with specific industries</li>\n",
    "<p> Handling the missing values we replace the missing values with 'Unknown' category as per now </p> "
   ]
  },
  {
   "cell_type": "code",
   "execution_count": 14,
   "metadata": {},
   "outputs": [],
   "source": [
    "employer['Industry (NAICS) Code'] = employer['Industry (NAICS) Code'].fillna('unknown')"
   ]
  },
  {
   "cell_type": "markdown",
   "metadata": {},
   "source": [
    "<p><b>Creating a visualization to check the number of occurences per each 'NAICS code'</b></p>"
   ]
  },
  {
   "cell_type": "code",
   "execution_count": 15,
   "metadata": {},
   "outputs": [
    {
     "data": {
      "text/plain": [
       "True"
      ]
     },
     "execution_count": 15,
     "metadata": {},
     "output_type": "execute_result"
    }
   ],
   "source": [
    "# PLotly implementation\n",
    "import plotly.express as px\n",
    "from IPython.display import display\n",
    "import webbrowser\n",
    "\n",
    "\n",
    "naics_counts = employer['Industry (NAICS) Code'].value_counts().reset_index()\n",
    "naics_counts.columns = ['NAICS Code', 'Number of Occurrences']\n",
    "\n",
    "fig = px.bar(naics_counts, \n",
    "             x='NAICS Code', \n",
    "             y='Number of Occurrences', \n",
    "             title='NAICS Code Distribution',\n",
    "             color='Number of Occurrences', \n",
    "             color_continuous_scale='viridis')\n",
    "\n",
    "fig.update_layout(xaxis_title='NAICS Code',\n",
    "                  yaxis_title='Number of Occurrences',\n",
    "                  xaxis_tickangle=-90,\n",
    "                  height=1000,\n",
    "                  width=1000)\n",
    "\n",
    "# fig.show()\n",
    "# display(fig)\n",
    "fig.write_html(\"plot.html\")\n",
    "webbrowser.open(\"plot.html\")"
   ]
  },
  {
   "cell_type": "markdown",
   "metadata": {},
   "source": [
    "<p> The unkown values are still high so we will need to check on this for future recommendations </p>\n",
    "<p> 'Employer (Petitioner) Name' has only 2 missing values. These might not necessarily affect the interpretation of the data so we will drop the 2 values. </p>"
   ]
  },
  {
   "cell_type": "code",
   "execution_count": 16,
   "metadata": {},
   "outputs": [
    {
     "data": {
      "text/plain": [
       "(61456, 8)"
      ]
     },
     "execution_count": 16,
     "metadata": {},
     "output_type": "execute_result"
    }
   ],
   "source": [
    "employer.shape"
   ]
  },
  {
   "cell_type": "code",
   "execution_count": 17,
   "metadata": {},
   "outputs": [],
   "source": [
    "# employer['Employer (Petitioner) Name', 'Petitioner State'].dropna(inplace=True)\n",
    "employer.dropna(subset=['Employer (Petitioner) Name', 'Petitioner State'], inplace=True)"
   ]
  },
  {
   "cell_type": "code",
   "execution_count": 18,
   "metadata": {},
   "outputs": [
    {
     "data": {
      "text/plain": [
       "Employer (Petitioner) Name    0\n",
       "Industry (NAICS) Code         0\n",
       "Petitioner City               0\n",
       "Petitioner State              0\n",
       "Initial Approval              0\n",
       "Initial Denial                0\n",
       "Continuing Approval           0\n",
       "Continuing Denial             0\n",
       "dtype: int64"
      ]
     },
     "execution_count": 18,
     "metadata": {},
     "output_type": "execute_result"
    }
   ],
   "source": [
    "employer.isnull().sum()"
   ]
  },
  {
   "cell_type": "code",
   "execution_count": 19,
   "metadata": {},
   "outputs": [
    {
     "data": {
      "text/plain": [
       "(61450, 8)"
      ]
     },
     "execution_count": 19,
     "metadata": {},
     "output_type": "execute_result"
    }
   ],
   "source": [
    "employer.shape"
   ]
  },
  {
   "cell_type": "code",
   "execution_count": 21,
   "metadata": {},
   "outputs": [
    {
     "data": {
      "text/html": [
       "<div>\n",
       "<style scoped>\n",
       "    .dataframe tbody tr th:only-of-type {\n",
       "        vertical-align: middle;\n",
       "    }\n",
       "\n",
       "    .dataframe tbody tr th {\n",
       "        vertical-align: top;\n",
       "    }\n",
       "\n",
       "    .dataframe thead th {\n",
       "        text-align: right;\n",
       "    }\n",
       "</style>\n",
       "<table border=\"1\" class=\"dataframe\">\n",
       "  <thead>\n",
       "    <tr style=\"text-align: right;\">\n",
       "      <th></th>\n",
       "      <th>Employer (Petitioner) Name</th>\n",
       "      <th>Industry (NAICS) Code</th>\n",
       "      <th>Petitioner City</th>\n",
       "      <th>Petitioner State</th>\n",
       "      <th>Initial Approval</th>\n",
       "      <th>Initial Denial</th>\n",
       "      <th>Continuing Approval</th>\n",
       "      <th>Continuing Denial</th>\n",
       "    </tr>\n",
       "  </thead>\n",
       "  <tbody>\n",
       "    <tr>\n",
       "      <th>2</th>\n",
       "      <td>1 800 FLOWERS COM INC</td>\n",
       "      <td>44-45 - Retail Trade</td>\n",
       "      <td>JERICHO</td>\n",
       "      <td>NY</td>\n",
       "      <td>1</td>\n",
       "      <td>0</td>\n",
       "      <td>5</td>\n",
       "      <td>0</td>\n",
       "    </tr>\n",
       "    <tr>\n",
       "      <th>3</th>\n",
       "      <td>1 HOTEL KAUAI LLC DBA 1 HOTEL HANALEI BAY</td>\n",
       "      <td>72 - Accommodation and Food Services</td>\n",
       "      <td>MIAMI</td>\n",
       "      <td>FL</td>\n",
       "      <td>0</td>\n",
       "      <td>0</td>\n",
       "      <td>1</td>\n",
       "      <td>0</td>\n",
       "    </tr>\n",
       "    <tr>\n",
       "      <th>4</th>\n",
       "      <td>1 OAK MEDIA LLC</td>\n",
       "      <td>54 - Professional, Scientific, and Technical S...</td>\n",
       "      <td>LINCOLN CITY</td>\n",
       "      <td>OR</td>\n",
       "      <td>1</td>\n",
       "      <td>0</td>\n",
       "      <td>0</td>\n",
       "      <td>0</td>\n",
       "    </tr>\n",
       "    <tr>\n",
       "      <th>5</th>\n",
       "      <td>1 POINT SYSTEM LLC</td>\n",
       "      <td>54 - Professional, Scientific, and Technical S...</td>\n",
       "      <td>FORT MILL</td>\n",
       "      <td>SC</td>\n",
       "      <td>1</td>\n",
       "      <td>0</td>\n",
       "      <td>1</td>\n",
       "      <td>0</td>\n",
       "    </tr>\n",
       "    <tr>\n",
       "      <th>6</th>\n",
       "      <td>1 REALTY GLOBAL INC</td>\n",
       "      <td>52 - Finance and Insurance</td>\n",
       "      <td>WALNUT</td>\n",
       "      <td>CA</td>\n",
       "      <td>1</td>\n",
       "      <td>0</td>\n",
       "      <td>0</td>\n",
       "      <td>0</td>\n",
       "    </tr>\n",
       "    <tr>\n",
       "      <th>7</th>\n",
       "      <td>1 WAYDOOR LLC</td>\n",
       "      <td>54 - Professional, Scientific, and Technical S...</td>\n",
       "      <td>CUMMING</td>\n",
       "      <td>GA</td>\n",
       "      <td>0</td>\n",
       "      <td>0</td>\n",
       "      <td>1</td>\n",
       "      <td>0</td>\n",
       "    </tr>\n",
       "    <tr>\n",
       "      <th>8</th>\n",
       "      <td>1CONNECT TECHNOLOGIES INC</td>\n",
       "      <td>54 - Professional, Scientific, and Technical S...</td>\n",
       "      <td>ALPHARETTA</td>\n",
       "      <td>GA</td>\n",
       "      <td>0</td>\n",
       "      <td>1</td>\n",
       "      <td>3</td>\n",
       "      <td>0</td>\n",
       "    </tr>\n",
       "    <tr>\n",
       "      <th>9</th>\n",
       "      <td>1LIFE HEALTHCARE, INC.</td>\n",
       "      <td>62 - Health Care and Social Assistance</td>\n",
       "      <td>SAN FRANCISCO</td>\n",
       "      <td>CA</td>\n",
       "      <td>0</td>\n",
       "      <td>0</td>\n",
       "      <td>1</td>\n",
       "      <td>0</td>\n",
       "    </tr>\n",
       "    <tr>\n",
       "      <th>10</th>\n",
       "      <td>1POINT3ACRES LLC</td>\n",
       "      <td>51 - Information</td>\n",
       "      <td>BELLEVUE</td>\n",
       "      <td>WA</td>\n",
       "      <td>1</td>\n",
       "      <td>0</td>\n",
       "      <td>0</td>\n",
       "      <td>0</td>\n",
       "    </tr>\n",
       "    <tr>\n",
       "      <th>11</th>\n",
       "      <td>1RIVET LLC</td>\n",
       "      <td>54 - Professional, Scientific, and Technical S...</td>\n",
       "      <td>RESTON</td>\n",
       "      <td>VA</td>\n",
       "      <td>0</td>\n",
       "      <td>0</td>\n",
       "      <td>1</td>\n",
       "      <td>0</td>\n",
       "    </tr>\n",
       "  </tbody>\n",
       "</table>\n",
       "</div>"
      ],
      "text/plain": [
       "                   Employer (Petitioner) Name  \\\n",
       "2                       1 800 FLOWERS COM INC   \n",
       "3   1 HOTEL KAUAI LLC DBA 1 HOTEL HANALEI BAY   \n",
       "4                             1 OAK MEDIA LLC   \n",
       "5                          1 POINT SYSTEM LLC   \n",
       "6                         1 REALTY GLOBAL INC   \n",
       "7                               1 WAYDOOR LLC   \n",
       "8                   1CONNECT TECHNOLOGIES INC   \n",
       "9                      1LIFE HEALTHCARE, INC.   \n",
       "10                           1POINT3ACRES LLC   \n",
       "11                                 1RIVET LLC   \n",
       "\n",
       "                                Industry (NAICS) Code Petitioner City  \\\n",
       "2                                44-45 - Retail Trade         JERICHO   \n",
       "3                72 - Accommodation and Food Services           MIAMI   \n",
       "4   54 - Professional, Scientific, and Technical S...    LINCOLN CITY   \n",
       "5   54 - Professional, Scientific, and Technical S...       FORT MILL   \n",
       "6                          52 - Finance and Insurance          WALNUT   \n",
       "7   54 - Professional, Scientific, and Technical S...         CUMMING   \n",
       "8   54 - Professional, Scientific, and Technical S...      ALPHARETTA   \n",
       "9              62 - Health Care and Social Assistance   SAN FRANCISCO   \n",
       "10                                   51 - Information        BELLEVUE   \n",
       "11  54 - Professional, Scientific, and Technical S...          RESTON   \n",
       "\n",
       "   Petitioner State Initial Approval  Initial Denial Continuing Approval  \\\n",
       "2                NY                1               0                   5   \n",
       "3                FL                0               0                   1   \n",
       "4                OR                1               0                   0   \n",
       "5                SC                1               0                   1   \n",
       "6                CA                1               0                   0   \n",
       "7                GA                0               0                   1   \n",
       "8                GA                0               1                   3   \n",
       "9                CA                0               0                   1   \n",
       "10               WA                1               0                   0   \n",
       "11               VA                0               0                   1   \n",
       "\n",
       "    Continuing Denial  \n",
       "2                   0  \n",
       "3                   0  \n",
       "4                   0  \n",
       "5                   0  \n",
       "6                   0  \n",
       "7                   0  \n",
       "8                   0  \n",
       "9                   0  \n",
       "10                  0  \n",
       "11                  0  "
      ]
     },
     "execution_count": 21,
     "metadata": {},
     "output_type": "execute_result"
    }
   ],
   "source": [
    "employer.head(10)"
   ]
  },
  {
   "cell_type": "markdown",
   "metadata": {},
   "source": [
    "<p> We have only dropped 6 rows, this does not necessarily affect the interpretation of the data. </p>"
   ]
  },
  {
   "cell_type": "markdown",
   "metadata": {},
   "source": [
    "<h5><b> 1. Finding the distribution of VISAs in different states </b></h5>"
   ]
  },
  {
   "cell_type": "code",
   "execution_count": 27,
   "metadata": {},
   "outputs": [
    {
     "data": {
      "application/vnd.plotly.v1+json": {
       "config": {
        "plotlyServerURL": "https://plot.ly"
       },
       "data": [
        {
         "coloraxis": "coloraxis",
         "geo": "geo",
         "hovertemplate": "State=%{location}<br>Number of Occurrences=%{z}<extra></extra>",
         "locationmode": "USA-states",
         "locations": [
          "CA",
          "TX",
          "NY",
          "NJ",
          "IL",
          "MA",
          "FL",
          "GA",
          "VA",
          "MI",
          "PA",
          "OH",
          "NC",
          "MD",
          "WA",
          "AZ",
          "MN",
          "MO",
          "CO",
          "CT",
          "TN",
          "IN",
          "WI",
          "DC",
          "UT",
          "SC",
          "DE",
          "KS",
          "OR",
          "IA",
          "NV",
          "AL",
          "KY",
          "LA",
          "OK",
          "NE",
          "AR",
          "NM",
          "NH",
          "GU",
          "RI",
          "MS",
          "SD",
          "ND",
          "ID",
          "ME",
          "WY",
          "HI",
          "VT",
          "MT",
          "WV",
          "AK",
          "MP",
          "PR",
          "VI",
          "XX",
          "MH"
         ],
         "name": "",
         "type": "choropleth",
         "z": {
          "bdata": "PypyHHYYDQ73CsYKcQoNCSgIcwdxB00FNwViBFgEXwNUAzoDyQK6AroCbwIOAuABywGqAWABUAFFATsBNwEzAR4BGgH9APgA5wDJAMQAowCdAHMAZgBeAFsAUgBOAEsAQwA/ADwANQAuAC0ACQAFAAEA",
          "dtype": "i2"
         }
        }
       ],
       "layout": {
        "coloraxis": {
         "colorbar": {
          "title": {
           "text": "Number of Occurrences"
          }
         },
         "colorscale": [
          [
           0,
           "#440154"
          ],
          [
           0.1111111111111111,
           "#482878"
          ],
          [
           0.2222222222222222,
           "#3e4989"
          ],
          [
           0.3333333333333333,
           "#31688e"
          ],
          [
           0.4444444444444444,
           "#26828e"
          ],
          [
           0.5555555555555556,
           "#1f9e89"
          ],
          [
           0.6666666666666666,
           "#35b779"
          ],
          [
           0.7777777777777778,
           "#6ece58"
          ],
          [
           0.8888888888888888,
           "#b5de2b"
          ],
          [
           1,
           "#fde725"
          ]
         ]
        },
        "geo": {
         "center": {},
         "domain": {
          "x": [
           0,
           1
          ],
          "y": [
           0,
           1
          ]
         },
         "scope": "usa"
        },
        "height": 800,
        "legend": {
         "tracegroupgap": 0
        },
        "template": {
         "data": {
          "bar": [
           {
            "error_x": {
             "color": "#2a3f5f"
            },
            "error_y": {
             "color": "#2a3f5f"
            },
            "marker": {
             "line": {
              "color": "#E5ECF6",
              "width": 0.5
             },
             "pattern": {
              "fillmode": "overlay",
              "size": 10,
              "solidity": 0.2
             }
            },
            "type": "bar"
           }
          ],
          "barpolar": [
           {
            "marker": {
             "line": {
              "color": "#E5ECF6",
              "width": 0.5
             },
             "pattern": {
              "fillmode": "overlay",
              "size": 10,
              "solidity": 0.2
             }
            },
            "type": "barpolar"
           }
          ],
          "carpet": [
           {
            "aaxis": {
             "endlinecolor": "#2a3f5f",
             "gridcolor": "white",
             "linecolor": "white",
             "minorgridcolor": "white",
             "startlinecolor": "#2a3f5f"
            },
            "baxis": {
             "endlinecolor": "#2a3f5f",
             "gridcolor": "white",
             "linecolor": "white",
             "minorgridcolor": "white",
             "startlinecolor": "#2a3f5f"
            },
            "type": "carpet"
           }
          ],
          "choropleth": [
           {
            "colorbar": {
             "outlinewidth": 0,
             "ticks": ""
            },
            "type": "choropleth"
           }
          ],
          "contour": [
           {
            "colorbar": {
             "outlinewidth": 0,
             "ticks": ""
            },
            "colorscale": [
             [
              0,
              "#0d0887"
             ],
             [
              0.1111111111111111,
              "#46039f"
             ],
             [
              0.2222222222222222,
              "#7201a8"
             ],
             [
              0.3333333333333333,
              "#9c179e"
             ],
             [
              0.4444444444444444,
              "#bd3786"
             ],
             [
              0.5555555555555556,
              "#d8576b"
             ],
             [
              0.6666666666666666,
              "#ed7953"
             ],
             [
              0.7777777777777778,
              "#fb9f3a"
             ],
             [
              0.8888888888888888,
              "#fdca26"
             ],
             [
              1,
              "#f0f921"
             ]
            ],
            "type": "contour"
           }
          ],
          "contourcarpet": [
           {
            "colorbar": {
             "outlinewidth": 0,
             "ticks": ""
            },
            "type": "contourcarpet"
           }
          ],
          "heatmap": [
           {
            "colorbar": {
             "outlinewidth": 0,
             "ticks": ""
            },
            "colorscale": [
             [
              0,
              "#0d0887"
             ],
             [
              0.1111111111111111,
              "#46039f"
             ],
             [
              0.2222222222222222,
              "#7201a8"
             ],
             [
              0.3333333333333333,
              "#9c179e"
             ],
             [
              0.4444444444444444,
              "#bd3786"
             ],
             [
              0.5555555555555556,
              "#d8576b"
             ],
             [
              0.6666666666666666,
              "#ed7953"
             ],
             [
              0.7777777777777778,
              "#fb9f3a"
             ],
             [
              0.8888888888888888,
              "#fdca26"
             ],
             [
              1,
              "#f0f921"
             ]
            ],
            "type": "heatmap"
           }
          ],
          "histogram": [
           {
            "marker": {
             "pattern": {
              "fillmode": "overlay",
              "size": 10,
              "solidity": 0.2
             }
            },
            "type": "histogram"
           }
          ],
          "histogram2d": [
           {
            "colorbar": {
             "outlinewidth": 0,
             "ticks": ""
            },
            "colorscale": [
             [
              0,
              "#0d0887"
             ],
             [
              0.1111111111111111,
              "#46039f"
             ],
             [
              0.2222222222222222,
              "#7201a8"
             ],
             [
              0.3333333333333333,
              "#9c179e"
             ],
             [
              0.4444444444444444,
              "#bd3786"
             ],
             [
              0.5555555555555556,
              "#d8576b"
             ],
             [
              0.6666666666666666,
              "#ed7953"
             ],
             [
              0.7777777777777778,
              "#fb9f3a"
             ],
             [
              0.8888888888888888,
              "#fdca26"
             ],
             [
              1,
              "#f0f921"
             ]
            ],
            "type": "histogram2d"
           }
          ],
          "histogram2dcontour": [
           {
            "colorbar": {
             "outlinewidth": 0,
             "ticks": ""
            },
            "colorscale": [
             [
              0,
              "#0d0887"
             ],
             [
              0.1111111111111111,
              "#46039f"
             ],
             [
              0.2222222222222222,
              "#7201a8"
             ],
             [
              0.3333333333333333,
              "#9c179e"
             ],
             [
              0.4444444444444444,
              "#bd3786"
             ],
             [
              0.5555555555555556,
              "#d8576b"
             ],
             [
              0.6666666666666666,
              "#ed7953"
             ],
             [
              0.7777777777777778,
              "#fb9f3a"
             ],
             [
              0.8888888888888888,
              "#fdca26"
             ],
             [
              1,
              "#f0f921"
             ]
            ],
            "type": "histogram2dcontour"
           }
          ],
          "mesh3d": [
           {
            "colorbar": {
             "outlinewidth": 0,
             "ticks": ""
            },
            "type": "mesh3d"
           }
          ],
          "parcoords": [
           {
            "line": {
             "colorbar": {
              "outlinewidth": 0,
              "ticks": ""
             }
            },
            "type": "parcoords"
           }
          ],
          "pie": [
           {
            "automargin": true,
            "type": "pie"
           }
          ],
          "scatter": [
           {
            "fillpattern": {
             "fillmode": "overlay",
             "size": 10,
             "solidity": 0.2
            },
            "type": "scatter"
           }
          ],
          "scatter3d": [
           {
            "line": {
             "colorbar": {
              "outlinewidth": 0,
              "ticks": ""
             }
            },
            "marker": {
             "colorbar": {
              "outlinewidth": 0,
              "ticks": ""
             }
            },
            "type": "scatter3d"
           }
          ],
          "scattercarpet": [
           {
            "marker": {
             "colorbar": {
              "outlinewidth": 0,
              "ticks": ""
             }
            },
            "type": "scattercarpet"
           }
          ],
          "scattergeo": [
           {
            "marker": {
             "colorbar": {
              "outlinewidth": 0,
              "ticks": ""
             }
            },
            "type": "scattergeo"
           }
          ],
          "scattergl": [
           {
            "marker": {
             "colorbar": {
              "outlinewidth": 0,
              "ticks": ""
             }
            },
            "type": "scattergl"
           }
          ],
          "scattermap": [
           {
            "marker": {
             "colorbar": {
              "outlinewidth": 0,
              "ticks": ""
             }
            },
            "type": "scattermap"
           }
          ],
          "scattermapbox": [
           {
            "marker": {
             "colorbar": {
              "outlinewidth": 0,
              "ticks": ""
             }
            },
            "type": "scattermapbox"
           }
          ],
          "scatterpolar": [
           {
            "marker": {
             "colorbar": {
              "outlinewidth": 0,
              "ticks": ""
             }
            },
            "type": "scatterpolar"
           }
          ],
          "scatterpolargl": [
           {
            "marker": {
             "colorbar": {
              "outlinewidth": 0,
              "ticks": ""
             }
            },
            "type": "scatterpolargl"
           }
          ],
          "scatterternary": [
           {
            "marker": {
             "colorbar": {
              "outlinewidth": 0,
              "ticks": ""
             }
            },
            "type": "scatterternary"
           }
          ],
          "surface": [
           {
            "colorbar": {
             "outlinewidth": 0,
             "ticks": ""
            },
            "colorscale": [
             [
              0,
              "#0d0887"
             ],
             [
              0.1111111111111111,
              "#46039f"
             ],
             [
              0.2222222222222222,
              "#7201a8"
             ],
             [
              0.3333333333333333,
              "#9c179e"
             ],
             [
              0.4444444444444444,
              "#bd3786"
             ],
             [
              0.5555555555555556,
              "#d8576b"
             ],
             [
              0.6666666666666666,
              "#ed7953"
             ],
             [
              0.7777777777777778,
              "#fb9f3a"
             ],
             [
              0.8888888888888888,
              "#fdca26"
             ],
             [
              1,
              "#f0f921"
             ]
            ],
            "type": "surface"
           }
          ],
          "table": [
           {
            "cells": {
             "fill": {
              "color": "#EBF0F8"
             },
             "line": {
              "color": "white"
             }
            },
            "header": {
             "fill": {
              "color": "#C8D4E3"
             },
             "line": {
              "color": "white"
             }
            },
            "type": "table"
           }
          ]
         },
         "layout": {
          "annotationdefaults": {
           "arrowcolor": "#2a3f5f",
           "arrowhead": 0,
           "arrowwidth": 1
          },
          "autotypenumbers": "strict",
          "coloraxis": {
           "colorbar": {
            "outlinewidth": 0,
            "ticks": ""
           }
          },
          "colorscale": {
           "diverging": [
            [
             0,
             "#8e0152"
            ],
            [
             0.1,
             "#c51b7d"
            ],
            [
             0.2,
             "#de77ae"
            ],
            [
             0.3,
             "#f1b6da"
            ],
            [
             0.4,
             "#fde0ef"
            ],
            [
             0.5,
             "#f7f7f7"
            ],
            [
             0.6,
             "#e6f5d0"
            ],
            [
             0.7,
             "#b8e186"
            ],
            [
             0.8,
             "#7fbc41"
            ],
            [
             0.9,
             "#4d9221"
            ],
            [
             1,
             "#276419"
            ]
           ],
           "sequential": [
            [
             0,
             "#0d0887"
            ],
            [
             0.1111111111111111,
             "#46039f"
            ],
            [
             0.2222222222222222,
             "#7201a8"
            ],
            [
             0.3333333333333333,
             "#9c179e"
            ],
            [
             0.4444444444444444,
             "#bd3786"
            ],
            [
             0.5555555555555556,
             "#d8576b"
            ],
            [
             0.6666666666666666,
             "#ed7953"
            ],
            [
             0.7777777777777778,
             "#fb9f3a"
            ],
            [
             0.8888888888888888,
             "#fdca26"
            ],
            [
             1,
             "#f0f921"
            ]
           ],
           "sequentialminus": [
            [
             0,
             "#0d0887"
            ],
            [
             0.1111111111111111,
             "#46039f"
            ],
            [
             0.2222222222222222,
             "#7201a8"
            ],
            [
             0.3333333333333333,
             "#9c179e"
            ],
            [
             0.4444444444444444,
             "#bd3786"
            ],
            [
             0.5555555555555556,
             "#d8576b"
            ],
            [
             0.6666666666666666,
             "#ed7953"
            ],
            [
             0.7777777777777778,
             "#fb9f3a"
            ],
            [
             0.8888888888888888,
             "#fdca26"
            ],
            [
             1,
             "#f0f921"
            ]
           ]
          },
          "colorway": [
           "#636efa",
           "#EF553B",
           "#00cc96",
           "#ab63fa",
           "#FFA15A",
           "#19d3f3",
           "#FF6692",
           "#B6E880",
           "#FF97FF",
           "#FECB52"
          ],
          "font": {
           "color": "#2a3f5f"
          },
          "geo": {
           "bgcolor": "white",
           "lakecolor": "white",
           "landcolor": "#E5ECF6",
           "showlakes": true,
           "showland": true,
           "subunitcolor": "white"
          },
          "hoverlabel": {
           "align": "left"
          },
          "hovermode": "closest",
          "mapbox": {
           "style": "light"
          },
          "paper_bgcolor": "white",
          "plot_bgcolor": "#E5ECF6",
          "polar": {
           "angularaxis": {
            "gridcolor": "white",
            "linecolor": "white",
            "ticks": ""
           },
           "bgcolor": "#E5ECF6",
           "radialaxis": {
            "gridcolor": "white",
            "linecolor": "white",
            "ticks": ""
           }
          },
          "scene": {
           "xaxis": {
            "backgroundcolor": "#E5ECF6",
            "gridcolor": "white",
            "gridwidth": 2,
            "linecolor": "white",
            "showbackground": true,
            "ticks": "",
            "zerolinecolor": "white"
           },
           "yaxis": {
            "backgroundcolor": "#E5ECF6",
            "gridcolor": "white",
            "gridwidth": 2,
            "linecolor": "white",
            "showbackground": true,
            "ticks": "",
            "zerolinecolor": "white"
           },
           "zaxis": {
            "backgroundcolor": "#E5ECF6",
            "gridcolor": "white",
            "gridwidth": 2,
            "linecolor": "white",
            "showbackground": true,
            "ticks": "",
            "zerolinecolor": "white"
           }
          },
          "shapedefaults": {
           "line": {
            "color": "#2a3f5f"
           }
          },
          "ternary": {
           "aaxis": {
            "gridcolor": "white",
            "linecolor": "white",
            "ticks": ""
           },
           "baxis": {
            "gridcolor": "white",
            "linecolor": "white",
            "ticks": ""
           },
           "bgcolor": "#E5ECF6",
           "caxis": {
            "gridcolor": "white",
            "linecolor": "white",
            "ticks": ""
           }
          },
          "title": {
           "x": 0.05
          },
          "xaxis": {
           "automargin": true,
           "gridcolor": "white",
           "linecolor": "white",
           "ticks": "",
           "title": {
            "standoff": 15
           },
           "zerolinecolor": "white",
           "zerolinewidth": 2
          },
          "yaxis": {
           "automargin": true,
           "gridcolor": "white",
           "linecolor": "white",
           "ticks": "",
           "title": {
            "standoff": 15
           },
           "zerolinecolor": "white",
           "zerolinewidth": 2
          }
         }
        },
        "title": {
         "text": "H1B Distributions by State"
        },
        "width": 1200
       }
      }
     },
     "metadata": {},
     "output_type": "display_data"
    }
   ],
   "source": [
    "import plotly.express as px\n",
    "\n",
    "\n",
    "state_counts = employer['Petitioner State'].value_counts().reset_index()\n",
    "state_counts.columns = ['State', 'Number of Occurrences']\n",
    "\n",
    "fig = px.choropleth(\n",
    "    state_counts,\n",
    "    locations='State',\n",
    "    locationmode='USA-states',\n",
    "    color='Number of Occurrences',\n",
    "    scope='usa',\n",
    "    color_continuous_scale='viridis',\n",
    "    title='H1B Distributions by State'\n",
    ")\n",
    "\n",
    "fig.update_layout(\n",
    "    width=1200, \n",
    "    height=800   \n",
    ")\n",
    "fig.show()\n",
    "\n"
   ]
  },
  {
   "cell_type": "markdown",
   "metadata": {},
   "source": [
    "<p><b>California</b> appears to have the <b>highest number of H-1B</b> visa occurrences, shown in bright yellow with numbers appearing to be around 10,000 or higher </p>\n",
    "\n",
    "<p>Texas shows a significant number as well, appearing in green, suggesting approximately 6,000-7,000 occurrences.\n",
    "New York also has a notable concentration, shown in a teal/green color.</p>\n",
    "\n",
    "<p><b>Most states in the Midwest, Mountain West, and parts of the South</b> appear in dark purple, <b>indicating very low numbers of H-1B visas.</b></p>\n",
    "\n",
    "<p><b>Florida and Illinois</b> show moderate numbers in blue tones, suggesting they have more H-1B visas than most states but significantly fewer than California, Texas, and New York.\n",
    "The Northeast corridor has varying levels, with some states showing higher concentrations than others.</p>\n",
    "\n",
    "<p>This distribution aligns with what we might expect, as H-1B visas are typically associated with technology, research, and other specialized industries that tend to be concentrated in states with large tech hubs like California's Silicon Valley, Texas's tech corridors, and New York's business centers.</p>"
   ]
  },
  {
   "cell_type": "markdown",
   "metadata": {},
   "source": [
    "<h5><b> State vs City Distribution </b></h5>"
   ]
  },
  {
   "cell_type": "code",
   "execution_count": 39,
   "metadata": {},
   "outputs": [
    {
     "data": {
      "application/vnd.plotly.v1+json": {
       "config": {
        "plotlyServerURL": "https://plot.ly"
       },
       "data": [
        {
         "branchvalues": "total",
         "customdata": {
          "bdata": "AAAAAABerkAAAAAAAFiVQAAAAAAAZJNAAAAAAABIkUAAAAAAAIiKQAAAAAAA2IdAAAAAAAB4hUAAAAAAAPCEQAAAAAAAcIRAAAAAAAAwhEAAAAAAAFiDQAAAAAAAKIBAAAAAAABgfUAAAAAAALB8QAAAAAAAYHtAAAAAAAAgekAAAAAAAKB5QAAAAAAAYHdAAAAAAABQd0AAAAAAAJB2QAAAAAAAkHVAAAAAAAAgdUAAAAAAAKB0QAAAAAAAEHRAAAAAAAAAc0AAAAAAAFByQAAAAAAAsHFAAAAAAADQcEAAAAAAAJBwQAAAAAAAIHBAAAAAAADAb0AAAAAAACBuQAAAAAAAIGxAAAAAAAAgbEAAAAAAACBsQAAAAAAAgGpAAAAAAACAakAAAAAAAOBpQAAAAAAAwGlAAAAAAABgaUDVNYDiTvWrQOT8DUFbvYZAwYecmaTciEAAAAAAAEiRQC5BlX7mwINAnMQgsHJwgkAKtYAxiaN4QAAAAAAAsHxAsJnIK/Ydc0AAAAAAAJB1QCutHVVLGXFAyTARLclJcUAAAAAAALBxQAAAAAAAkHBAAAAAAAAgbEAAAAAAACBsQAAAAAAAIGxAAAAAAABgaUA=",
          "dtype": "f8",
          "shape": "58, 1"
         },
         "domain": {
          "x": [
           0,
           1
          ],
          "y": [
           0,
           1
          ]
         },
         "hovertemplate": "labels=%{label}<br>Number of Occurrences_sum=%{value}<br>parent=%{parent}<br>id=%{id}<br>Number of Occurrences=%{color}<extra></extra>",
         "ids": [
          "NY/NEW YORK",
          "CA/SAN FRANCISCO",
          "TX/HOUSTON",
          "IL/CHICAGO",
          "TX/DALLAS",
          "MA/BOSTON",
          "GA/ATLANTA",
          "TX/IRVING",
          "TX/AUSTIN",
          "CA/LOS ANGELES",
          "CA/SAN JOSE",
          "TX/PLANO",
          "FL/MIAMI",
          "DC/WASHINGTON",
          "GA/ALPHARETTA",
          "CA/IRVINE",
          "CA/SAN DIEGO",
          "NY/BROOKLYN",
          "CA/SANTA CLARA",
          "WA/SEATTLE",
          "NC/CHARLOTTE",
          "NJ/PRINCETON",
          "TX/FRISCO",
          "MA/CAMBRIDGE",
          "CA/PALO ALTO",
          "PA/PITTSBURGH",
          "AZ/PHOENIX",
          "CA/FREMONT",
          "MN/MINNEAPOLIS",
          "PA/PHILADELPHIA",
          "FL/TAMPA",
          "NJ/EDISON",
          "CO/DENVER",
          "IN/INDIANAPOLIS",
          "VA/HERNDON",
          "TX/RICHARDSON",
          "WA/BELLEVUE",
          "CA/MOUNTAIN VIEW",
          "NJ/PISCATAWAY",
          "OH/COLUMBUS",
          "NY",
          "CA",
          "TX",
          "IL",
          "MA",
          "GA",
          "FL",
          "DC",
          "WA",
          "NC",
          "NJ",
          "PA",
          "AZ",
          "MN",
          "CO",
          "IN",
          "VA",
          "OH"
         ],
         "labels": [
          "NEW YORK",
          "SAN FRANCISCO",
          "HOUSTON",
          "CHICAGO",
          "DALLAS",
          "BOSTON",
          "ATLANTA",
          "IRVING",
          "AUSTIN",
          "LOS ANGELES",
          "SAN JOSE",
          "PLANO",
          "MIAMI",
          "WASHINGTON",
          "ALPHARETTA",
          "IRVINE",
          "SAN DIEGO",
          "BROOKLYN",
          "SANTA CLARA",
          "SEATTLE",
          "CHARLOTTE",
          "PRINCETON",
          "FRISCO",
          "CAMBRIDGE",
          "PALO ALTO",
          "PITTSBURGH",
          "PHOENIX",
          "FREMONT",
          "MINNEAPOLIS",
          "PHILADELPHIA",
          "TAMPA",
          "EDISON",
          "DENVER",
          "INDIANAPOLIS",
          "HERNDON",
          "RICHARDSON",
          "BELLEVUE",
          "MOUNTAIN VIEW",
          "PISCATAWAY",
          "COLUMBUS",
          "NY",
          "CA",
          "TX",
          "IL",
          "MA",
          "GA",
          "FL",
          "DC",
          "WA",
          "NC",
          "NJ",
          "PA",
          "AZ",
          "MN",
          "CO",
          "IN",
          "VA",
          "OH"
         ],
         "marker": {
          "coloraxis": "coloraxis",
          "colors": {
           "bdata": "AAAAAABerkAAAAAAAFiVQAAAAAAAZJNAAAAAAABIkUAAAAAAAIiKQAAAAAAA2IdAAAAAAAB4hUAAAAAAAPCEQAAAAAAAcIRAAAAAAAAwhEAAAAAAAFiDQAAAAAAAKIBAAAAAAABgfUAAAAAAALB8QAAAAAAAYHtAAAAAAAAgekAAAAAAAKB5QAAAAAAAYHdAAAAAAABQd0AAAAAAAJB2QAAAAAAAkHVAAAAAAAAgdUAAAAAAAKB0QAAAAAAAEHRAAAAAAAAAc0AAAAAAAFByQAAAAAAAsHFAAAAAAADQcEAAAAAAAJBwQAAAAAAAIHBAAAAAAADAb0AAAAAAACBuQAAAAAAAIGxAAAAAAAAgbEAAAAAAACBsQAAAAAAAgGpAAAAAAACAakAAAAAAAOBpQAAAAAAAwGlAAAAAAABgaUDVNYDiTvWrQOT8DUFbvYZAwYecmaTciEAAAAAAAEiRQC5BlX7mwINAnMQgsHJwgkAKtYAxiaN4QAAAAAAAsHxAsJnIK/Ydc0AAAAAAAJB1QCutHVVLGXFAyTARLclJcUAAAAAAALBxQAAAAAAAkHBAAAAAAAAgbEAAAAAAACBsQAAAAAAAIGxAAAAAAABgaUA=",
           "dtype": "f8"
          }
         },
         "name": "",
         "parents": [
          "NY",
          "CA",
          "TX",
          "IL",
          "TX",
          "MA",
          "GA",
          "TX",
          "TX",
          "CA",
          "CA",
          "TX",
          "FL",
          "DC",
          "GA",
          "CA",
          "CA",
          "NY",
          "CA",
          "WA",
          "NC",
          "NJ",
          "TX",
          "MA",
          "CA",
          "PA",
          "AZ",
          "CA",
          "MN",
          "PA",
          "FL",
          "NJ",
          "CO",
          "IN",
          "VA",
          "TX",
          "WA",
          "CA",
          "NJ",
          "OH",
          "",
          "",
          "",
          "",
          "",
          "",
          "",
          "",
          "",
          "",
          "",
          "",
          "",
          "",
          "",
          "",
          "",
          ""
         ],
         "type": "treemap",
         "values": {
          "bdata": "AAAAAABerkAAAAAAAFiVQAAAAAAAZJNAAAAAAABIkUAAAAAAAIiKQAAAAAAA2IdAAAAAAAB4hUAAAAAAAPCEQAAAAAAAcIRAAAAAAAAwhEAAAAAAAFiDQAAAAAAAKIBAAAAAAABgfUAAAAAAALB8QAAAAAAAYHtAAAAAAAAgekAAAAAAAKB5QAAAAAAAYHdAAAAAAABQd0AAAAAAAJB2QAAAAAAAkHVAAAAAAAAgdUAAAAAAAKB0QAAAAAAAEHRAAAAAAAAAc0AAAAAAAFByQAAAAAAAsHFAAAAAAADQcEAAAAAAAJBwQAAAAAAAIHBAAAAAAADAb0AAAAAAACBuQAAAAAAAIGxAAAAAAAAgbEAAAAAAACBsQAAAAAAAgGpAAAAAAACAakAAAAAAAOBpQAAAAAAAwGlAAAAAAABgaUAAAAAAAKWwQAAAAAAABLJAAAAAAAB5sUAAAAAAAEiRQAAAAAAA8JBAAAAAAACUkUAAAAAAAKCGQAAAAAAAsHxAAAAAAADogUAAAAAAAJB1QAAAAAAAiIhAAAAAAAA4gUAAAAAAALBxQAAAAAAAkHBAAAAAAAAgbEAAAAAAACBsQAAAAAAAIGxAAAAAAABgaUA=",
          "dtype": "f8"
         }
        }
       ],
       "layout": {
        "coloraxis": {
         "colorbar": {
          "title": {
           "text": "Number of Occurrences"
          }
         },
         "colorscale": [
          [
           0,
           "#440154"
          ],
          [
           0.1111111111111111,
           "#482878"
          ],
          [
           0.2222222222222222,
           "#3e4989"
          ],
          [
           0.3333333333333333,
           "#31688e"
          ],
          [
           0.4444444444444444,
           "#26828e"
          ],
          [
           0.5555555555555556,
           "#1f9e89"
          ],
          [
           0.6666666666666666,
           "#35b779"
          ],
          [
           0.7777777777777778,
           "#6ece58"
          ],
          [
           0.8888888888888888,
           "#b5de2b"
          ],
          [
           1,
           "#fde725"
          ]
         ]
        },
        "height": 800,
        "legend": {
         "tracegroupgap": 0
        },
        "template": {
         "data": {
          "bar": [
           {
            "error_x": {
             "color": "#2a3f5f"
            },
            "error_y": {
             "color": "#2a3f5f"
            },
            "marker": {
             "line": {
              "color": "#E5ECF6",
              "width": 0.5
             },
             "pattern": {
              "fillmode": "overlay",
              "size": 10,
              "solidity": 0.2
             }
            },
            "type": "bar"
           }
          ],
          "barpolar": [
           {
            "marker": {
             "line": {
              "color": "#E5ECF6",
              "width": 0.5
             },
             "pattern": {
              "fillmode": "overlay",
              "size": 10,
              "solidity": 0.2
             }
            },
            "type": "barpolar"
           }
          ],
          "carpet": [
           {
            "aaxis": {
             "endlinecolor": "#2a3f5f",
             "gridcolor": "white",
             "linecolor": "white",
             "minorgridcolor": "white",
             "startlinecolor": "#2a3f5f"
            },
            "baxis": {
             "endlinecolor": "#2a3f5f",
             "gridcolor": "white",
             "linecolor": "white",
             "minorgridcolor": "white",
             "startlinecolor": "#2a3f5f"
            },
            "type": "carpet"
           }
          ],
          "choropleth": [
           {
            "colorbar": {
             "outlinewidth": 0,
             "ticks": ""
            },
            "type": "choropleth"
           }
          ],
          "contour": [
           {
            "colorbar": {
             "outlinewidth": 0,
             "ticks": ""
            },
            "colorscale": [
             [
              0,
              "#0d0887"
             ],
             [
              0.1111111111111111,
              "#46039f"
             ],
             [
              0.2222222222222222,
              "#7201a8"
             ],
             [
              0.3333333333333333,
              "#9c179e"
             ],
             [
              0.4444444444444444,
              "#bd3786"
             ],
             [
              0.5555555555555556,
              "#d8576b"
             ],
             [
              0.6666666666666666,
              "#ed7953"
             ],
             [
              0.7777777777777778,
              "#fb9f3a"
             ],
             [
              0.8888888888888888,
              "#fdca26"
             ],
             [
              1,
              "#f0f921"
             ]
            ],
            "type": "contour"
           }
          ],
          "contourcarpet": [
           {
            "colorbar": {
             "outlinewidth": 0,
             "ticks": ""
            },
            "type": "contourcarpet"
           }
          ],
          "heatmap": [
           {
            "colorbar": {
             "outlinewidth": 0,
             "ticks": ""
            },
            "colorscale": [
             [
              0,
              "#0d0887"
             ],
             [
              0.1111111111111111,
              "#46039f"
             ],
             [
              0.2222222222222222,
              "#7201a8"
             ],
             [
              0.3333333333333333,
              "#9c179e"
             ],
             [
              0.4444444444444444,
              "#bd3786"
             ],
             [
              0.5555555555555556,
              "#d8576b"
             ],
             [
              0.6666666666666666,
              "#ed7953"
             ],
             [
              0.7777777777777778,
              "#fb9f3a"
             ],
             [
              0.8888888888888888,
              "#fdca26"
             ],
             [
              1,
              "#f0f921"
             ]
            ],
            "type": "heatmap"
           }
          ],
          "histogram": [
           {
            "marker": {
             "pattern": {
              "fillmode": "overlay",
              "size": 10,
              "solidity": 0.2
             }
            },
            "type": "histogram"
           }
          ],
          "histogram2d": [
           {
            "colorbar": {
             "outlinewidth": 0,
             "ticks": ""
            },
            "colorscale": [
             [
              0,
              "#0d0887"
             ],
             [
              0.1111111111111111,
              "#46039f"
             ],
             [
              0.2222222222222222,
              "#7201a8"
             ],
             [
              0.3333333333333333,
              "#9c179e"
             ],
             [
              0.4444444444444444,
              "#bd3786"
             ],
             [
              0.5555555555555556,
              "#d8576b"
             ],
             [
              0.6666666666666666,
              "#ed7953"
             ],
             [
              0.7777777777777778,
              "#fb9f3a"
             ],
             [
              0.8888888888888888,
              "#fdca26"
             ],
             [
              1,
              "#f0f921"
             ]
            ],
            "type": "histogram2d"
           }
          ],
          "histogram2dcontour": [
           {
            "colorbar": {
             "outlinewidth": 0,
             "ticks": ""
            },
            "colorscale": [
             [
              0,
              "#0d0887"
             ],
             [
              0.1111111111111111,
              "#46039f"
             ],
             [
              0.2222222222222222,
              "#7201a8"
             ],
             [
              0.3333333333333333,
              "#9c179e"
             ],
             [
              0.4444444444444444,
              "#bd3786"
             ],
             [
              0.5555555555555556,
              "#d8576b"
             ],
             [
              0.6666666666666666,
              "#ed7953"
             ],
             [
              0.7777777777777778,
              "#fb9f3a"
             ],
             [
              0.8888888888888888,
              "#fdca26"
             ],
             [
              1,
              "#f0f921"
             ]
            ],
            "type": "histogram2dcontour"
           }
          ],
          "mesh3d": [
           {
            "colorbar": {
             "outlinewidth": 0,
             "ticks": ""
            },
            "type": "mesh3d"
           }
          ],
          "parcoords": [
           {
            "line": {
             "colorbar": {
              "outlinewidth": 0,
              "ticks": ""
             }
            },
            "type": "parcoords"
           }
          ],
          "pie": [
           {
            "automargin": true,
            "type": "pie"
           }
          ],
          "scatter": [
           {
            "fillpattern": {
             "fillmode": "overlay",
             "size": 10,
             "solidity": 0.2
            },
            "type": "scatter"
           }
          ],
          "scatter3d": [
           {
            "line": {
             "colorbar": {
              "outlinewidth": 0,
              "ticks": ""
             }
            },
            "marker": {
             "colorbar": {
              "outlinewidth": 0,
              "ticks": ""
             }
            },
            "type": "scatter3d"
           }
          ],
          "scattercarpet": [
           {
            "marker": {
             "colorbar": {
              "outlinewidth": 0,
              "ticks": ""
             }
            },
            "type": "scattercarpet"
           }
          ],
          "scattergeo": [
           {
            "marker": {
             "colorbar": {
              "outlinewidth": 0,
              "ticks": ""
             }
            },
            "type": "scattergeo"
           }
          ],
          "scattergl": [
           {
            "marker": {
             "colorbar": {
              "outlinewidth": 0,
              "ticks": ""
             }
            },
            "type": "scattergl"
           }
          ],
          "scattermap": [
           {
            "marker": {
             "colorbar": {
              "outlinewidth": 0,
              "ticks": ""
             }
            },
            "type": "scattermap"
           }
          ],
          "scattermapbox": [
           {
            "marker": {
             "colorbar": {
              "outlinewidth": 0,
              "ticks": ""
             }
            },
            "type": "scattermapbox"
           }
          ],
          "scatterpolar": [
           {
            "marker": {
             "colorbar": {
              "outlinewidth": 0,
              "ticks": ""
             }
            },
            "type": "scatterpolar"
           }
          ],
          "scatterpolargl": [
           {
            "marker": {
             "colorbar": {
              "outlinewidth": 0,
              "ticks": ""
             }
            },
            "type": "scatterpolargl"
           }
          ],
          "scatterternary": [
           {
            "marker": {
             "colorbar": {
              "outlinewidth": 0,
              "ticks": ""
             }
            },
            "type": "scatterternary"
           }
          ],
          "surface": [
           {
            "colorbar": {
             "outlinewidth": 0,
             "ticks": ""
            },
            "colorscale": [
             [
              0,
              "#0d0887"
             ],
             [
              0.1111111111111111,
              "#46039f"
             ],
             [
              0.2222222222222222,
              "#7201a8"
             ],
             [
              0.3333333333333333,
              "#9c179e"
             ],
             [
              0.4444444444444444,
              "#bd3786"
             ],
             [
              0.5555555555555556,
              "#d8576b"
             ],
             [
              0.6666666666666666,
              "#ed7953"
             ],
             [
              0.7777777777777778,
              "#fb9f3a"
             ],
             [
              0.8888888888888888,
              "#fdca26"
             ],
             [
              1,
              "#f0f921"
             ]
            ],
            "type": "surface"
           }
          ],
          "table": [
           {
            "cells": {
             "fill": {
              "color": "#EBF0F8"
             },
             "line": {
              "color": "white"
             }
            },
            "header": {
             "fill": {
              "color": "#C8D4E3"
             },
             "line": {
              "color": "white"
             }
            },
            "type": "table"
           }
          ]
         },
         "layout": {
          "annotationdefaults": {
           "arrowcolor": "#2a3f5f",
           "arrowhead": 0,
           "arrowwidth": 1
          },
          "autotypenumbers": "strict",
          "coloraxis": {
           "colorbar": {
            "outlinewidth": 0,
            "ticks": ""
           }
          },
          "colorscale": {
           "diverging": [
            [
             0,
             "#8e0152"
            ],
            [
             0.1,
             "#c51b7d"
            ],
            [
             0.2,
             "#de77ae"
            ],
            [
             0.3,
             "#f1b6da"
            ],
            [
             0.4,
             "#fde0ef"
            ],
            [
             0.5,
             "#f7f7f7"
            ],
            [
             0.6,
             "#e6f5d0"
            ],
            [
             0.7,
             "#b8e186"
            ],
            [
             0.8,
             "#7fbc41"
            ],
            [
             0.9,
             "#4d9221"
            ],
            [
             1,
             "#276419"
            ]
           ],
           "sequential": [
            [
             0,
             "#0d0887"
            ],
            [
             0.1111111111111111,
             "#46039f"
            ],
            [
             0.2222222222222222,
             "#7201a8"
            ],
            [
             0.3333333333333333,
             "#9c179e"
            ],
            [
             0.4444444444444444,
             "#bd3786"
            ],
            [
             0.5555555555555556,
             "#d8576b"
            ],
            [
             0.6666666666666666,
             "#ed7953"
            ],
            [
             0.7777777777777778,
             "#fb9f3a"
            ],
            [
             0.8888888888888888,
             "#fdca26"
            ],
            [
             1,
             "#f0f921"
            ]
           ],
           "sequentialminus": [
            [
             0,
             "#0d0887"
            ],
            [
             0.1111111111111111,
             "#46039f"
            ],
            [
             0.2222222222222222,
             "#7201a8"
            ],
            [
             0.3333333333333333,
             "#9c179e"
            ],
            [
             0.4444444444444444,
             "#bd3786"
            ],
            [
             0.5555555555555556,
             "#d8576b"
            ],
            [
             0.6666666666666666,
             "#ed7953"
            ],
            [
             0.7777777777777778,
             "#fb9f3a"
            ],
            [
             0.8888888888888888,
             "#fdca26"
            ],
            [
             1,
             "#f0f921"
            ]
           ]
          },
          "colorway": [
           "#636efa",
           "#EF553B",
           "#00cc96",
           "#ab63fa",
           "#FFA15A",
           "#19d3f3",
           "#FF6692",
           "#B6E880",
           "#FF97FF",
           "#FECB52"
          ],
          "font": {
           "color": "#2a3f5f"
          },
          "geo": {
           "bgcolor": "white",
           "lakecolor": "white",
           "landcolor": "#E5ECF6",
           "showlakes": true,
           "showland": true,
           "subunitcolor": "white"
          },
          "hoverlabel": {
           "align": "left"
          },
          "hovermode": "closest",
          "mapbox": {
           "style": "light"
          },
          "paper_bgcolor": "white",
          "plot_bgcolor": "#E5ECF6",
          "polar": {
           "angularaxis": {
            "gridcolor": "white",
            "linecolor": "white",
            "ticks": ""
           },
           "bgcolor": "#E5ECF6",
           "radialaxis": {
            "gridcolor": "white",
            "linecolor": "white",
            "ticks": ""
           }
          },
          "scene": {
           "xaxis": {
            "backgroundcolor": "#E5ECF6",
            "gridcolor": "white",
            "gridwidth": 2,
            "linecolor": "white",
            "showbackground": true,
            "ticks": "",
            "zerolinecolor": "white"
           },
           "yaxis": {
            "backgroundcolor": "#E5ECF6",
            "gridcolor": "white",
            "gridwidth": 2,
            "linecolor": "white",
            "showbackground": true,
            "ticks": "",
            "zerolinecolor": "white"
           },
           "zaxis": {
            "backgroundcolor": "#E5ECF6",
            "gridcolor": "white",
            "gridwidth": 2,
            "linecolor": "white",
            "showbackground": true,
            "ticks": "",
            "zerolinecolor": "white"
           }
          },
          "shapedefaults": {
           "line": {
            "color": "#2a3f5f"
           }
          },
          "ternary": {
           "aaxis": {
            "gridcolor": "white",
            "linecolor": "white",
            "ticks": ""
           },
           "baxis": {
            "gridcolor": "white",
            "linecolor": "white",
            "ticks": ""
           },
           "bgcolor": "#E5ECF6",
           "caxis": {
            "gridcolor": "white",
            "linecolor": "white",
            "ticks": ""
           }
          },
          "title": {
           "x": 0.05
          },
          "xaxis": {
           "automargin": true,
           "gridcolor": "white",
           "linecolor": "white",
           "ticks": "",
           "title": {
            "standoff": 15
           },
           "zerolinecolor": "white",
           "zerolinewidth": 2
          },
          "yaxis": {
           "automargin": true,
           "gridcolor": "white",
           "linecolor": "white",
           "ticks": "",
           "title": {
            "standoff": 15
           },
           "zerolinecolor": "white",
           "zerolinewidth": 2
          }
         }
        },
        "title": {
         "text": "H1B Petitions by State and City"
        },
        "width": 1200
       }
      }
     },
     "metadata": {},
     "output_type": "display_data"
    }
   ],
   "source": [
    "# city_counts = employer['Petitioner City'].value_counts().reset_index()\n",
    "city_state = employer.groupby(['Petitioner City', 'Petitioner State']).size().reset_index(name=\"Number of Occurrences\")\n",
    "# city_state = city_state.sort_values(by='Number of Occurences', ascending=False) \n",
    "\n",
    "#  Get the top 20 cities and States\n",
    "top_cities = city_state.sort_values('Number of Occurrences', ascending=False).head(40)\n",
    "\n",
    "fig = px.treemap(\n",
    "    top_cities,\n",
    "    path=['Petitioner State', 'Petitioner City'],\n",
    "    values='Number of Occurrences',\n",
    "    title='H1B Petitions by State and City',\n",
    "    color='Number of Occurrences',\n",
    "    color_continuous_scale='viridis'\n",
    ")\n",
    "\n",
    "fig.update_layout(\n",
    "    width=1200,\n",
    "    height=800\n",
    ")\n",
    "\n",
    "fig.show()"
   ]
  },
  {
   "cell_type": "markdown",
   "metadata": {},
   "source": [
    "<p> New York has the highest number of approvals within cities. This shows that NY is a good city for international students </p>"
   ]
  },
  {
   "cell_type": "markdown",
   "metadata": {},
   "source": [
    "<h5><b> 3. Employer Distribution across Counts </b></h5>"
   ]
  },
  {
   "cell_type": "code",
   "execution_count": 52,
   "metadata": {},
   "outputs": [
    {
     "data": {
      "application/vnd.plotly.v1+json": {
       "config": {
        "plotlyServerURL": "https://plot.ly"
       },
       "data": [
        {
         "hovertemplate": "Employer Name=%{x}<br>Number of Occurrences=%{marker.color}<extra></extra>",
         "legendgroup": "",
         "marker": {
          "color": {
           "bdata": "IxYUFBAPDg4ODQ0NDQsLCgoKCgoJCQkJCQkICAgICAgICAgIBwcHBwcHBwcHBwcHBwc=",
           "dtype": "i1"
          },
          "coloraxis": "coloraxis",
          "pattern": {
           "shape": ""
          }
         },
         "name": "",
         "orientation": "v",
         "showlegend": false,
         "textposition": "auto",
         "type": "bar",
         "x": [
          "STATE UNIVERSITY OF NEW YORK AT BU",
          "META PLATFORMS INC",
          "DLIFLC",
          "INFOSYS LIMITED",
          "UNIVERSITY OF MARYLAND",
          "FIDELITY INVESTMENTS",
          "ACCENTURE LLP",
          "AMAZON COM SERVICES LLC",
          "THE DEVEREUX FOUNDATION",
          "ILLINOIS TOOL WORKS INC",
          "RESEARCH FOUNDATION FOR THE STATE",
          "DIGNITY HEALTH",
          "TATA CONSULTANCY SERVICES LIMITED",
          "BRIDGEBIO SERVICES INC",
          "UNIVERSITY OF NEBRASKA - LINCOLN",
          "CAPGEMINI AMERICA INC",
          "HOSPITALIST MEDICINE PHYSICIANS OF",
          "THE UNIVERSITY OF TENNESSEE",
          "COGNIZANT TECHNOLOGY SOLUTIONS US",
          "APPOQUINIMINK SCHOOL DISTRICT",
          "TESLA INC",
          "APPLE INC",
          "ADVENTIST HEALTH SYSTEM SUNBELT IN",
          "JOHN JAY COLLEGE OF CRIMINAL JUSTI",
          "COGNIZANT TECHNOLOGY SOLUTIONS US CORP",
          "INNOVA SOLUTIONS INC",
          "HCL AMERICA INC",
          "ORACLE AMERICA INC",
          "GOOGLE LLC",
          "MINNESOTA STATE UNIVERSITY MANKATO",
          "NVIDIA CORPORATION",
          "NEW YORK CITY DEPARTMENT OF EDUCATION",
          "ELEVANCE HEALTH INC",
          "AMAZON DEVELOPMENT CENTER US INC",
          "STATE UNIVERSITY OF NEW YORK AT BUFFALO",
          "THE CURATORS OF THE UNIVERSITY OF MISSOURI",
          "INTEL CORPORATION",
          "WEST PENN ALLEGHENY HEALTH SYSTEM",
          "MASTERCARD TECHNOLOGIES LLC",
          "MORGAN STANLEY SERVICES GROUP INC",
          "BAYER RESEARCH AND DEVELOPMENT SER",
          "TATA CONSULTANCY SVCS LTD",
          "AMAZON WEB SERVICES INC",
          "BAYER CROPSCIENCE LP",
          "UNIVERSITY OF OKLAHOMA",
          "NUCOR CORPORATION NUCOR STEEL BRAN",
          "BYTEDANCE INC",
          "LUCID USA INC",
          "TIKTOK INC",
          "BLACKROCK FINANCIAL MANAGEMENT INC"
         ],
         "xaxis": "x",
         "y": {
          "bdata": "IxYUFBAPDg4ODQ0NDQsLCgoKCgoJCQkJCQkICAgICAgICAgIBwcHBwcHBwcHBwcHBwc=",
          "dtype": "i1"
         },
         "yaxis": "y"
        }
       ],
       "layout": {
        "barmode": "relative",
        "coloraxis": {
         "colorbar": {
          "title": {
           "text": "Number of Occurrences"
          }
         },
         "colorscale": [
          [
           0,
           "#440154"
          ],
          [
           0.1111111111111111,
           "#482878"
          ],
          [
           0.2222222222222222,
           "#3e4989"
          ],
          [
           0.3333333333333333,
           "#31688e"
          ],
          [
           0.4444444444444444,
           "#26828e"
          ],
          [
           0.5555555555555556,
           "#1f9e89"
          ],
          [
           0.6666666666666666,
           "#35b779"
          ],
          [
           0.7777777777777778,
           "#6ece58"
          ],
          [
           0.8888888888888888,
           "#b5de2b"
          ],
          [
           1,
           "#fde725"
          ]
         ]
        },
        "height": 800,
        "legend": {
         "tracegroupgap": 0
        },
        "template": {
         "data": {
          "bar": [
           {
            "error_x": {
             "color": "#2a3f5f"
            },
            "error_y": {
             "color": "#2a3f5f"
            },
            "marker": {
             "line": {
              "color": "#E5ECF6",
              "width": 0.5
             },
             "pattern": {
              "fillmode": "overlay",
              "size": 10,
              "solidity": 0.2
             }
            },
            "type": "bar"
           }
          ],
          "barpolar": [
           {
            "marker": {
             "line": {
              "color": "#E5ECF6",
              "width": 0.5
             },
             "pattern": {
              "fillmode": "overlay",
              "size": 10,
              "solidity": 0.2
             }
            },
            "type": "barpolar"
           }
          ],
          "carpet": [
           {
            "aaxis": {
             "endlinecolor": "#2a3f5f",
             "gridcolor": "white",
             "linecolor": "white",
             "minorgridcolor": "white",
             "startlinecolor": "#2a3f5f"
            },
            "baxis": {
             "endlinecolor": "#2a3f5f",
             "gridcolor": "white",
             "linecolor": "white",
             "minorgridcolor": "white",
             "startlinecolor": "#2a3f5f"
            },
            "type": "carpet"
           }
          ],
          "choropleth": [
           {
            "colorbar": {
             "outlinewidth": 0,
             "ticks": ""
            },
            "type": "choropleth"
           }
          ],
          "contour": [
           {
            "colorbar": {
             "outlinewidth": 0,
             "ticks": ""
            },
            "colorscale": [
             [
              0,
              "#0d0887"
             ],
             [
              0.1111111111111111,
              "#46039f"
             ],
             [
              0.2222222222222222,
              "#7201a8"
             ],
             [
              0.3333333333333333,
              "#9c179e"
             ],
             [
              0.4444444444444444,
              "#bd3786"
             ],
             [
              0.5555555555555556,
              "#d8576b"
             ],
             [
              0.6666666666666666,
              "#ed7953"
             ],
             [
              0.7777777777777778,
              "#fb9f3a"
             ],
             [
              0.8888888888888888,
              "#fdca26"
             ],
             [
              1,
              "#f0f921"
             ]
            ],
            "type": "contour"
           }
          ],
          "contourcarpet": [
           {
            "colorbar": {
             "outlinewidth": 0,
             "ticks": ""
            },
            "type": "contourcarpet"
           }
          ],
          "heatmap": [
           {
            "colorbar": {
             "outlinewidth": 0,
             "ticks": ""
            },
            "colorscale": [
             [
              0,
              "#0d0887"
             ],
             [
              0.1111111111111111,
              "#46039f"
             ],
             [
              0.2222222222222222,
              "#7201a8"
             ],
             [
              0.3333333333333333,
              "#9c179e"
             ],
             [
              0.4444444444444444,
              "#bd3786"
             ],
             [
              0.5555555555555556,
              "#d8576b"
             ],
             [
              0.6666666666666666,
              "#ed7953"
             ],
             [
              0.7777777777777778,
              "#fb9f3a"
             ],
             [
              0.8888888888888888,
              "#fdca26"
             ],
             [
              1,
              "#f0f921"
             ]
            ],
            "type": "heatmap"
           }
          ],
          "histogram": [
           {
            "marker": {
             "pattern": {
              "fillmode": "overlay",
              "size": 10,
              "solidity": 0.2
             }
            },
            "type": "histogram"
           }
          ],
          "histogram2d": [
           {
            "colorbar": {
             "outlinewidth": 0,
             "ticks": ""
            },
            "colorscale": [
             [
              0,
              "#0d0887"
             ],
             [
              0.1111111111111111,
              "#46039f"
             ],
             [
              0.2222222222222222,
              "#7201a8"
             ],
             [
              0.3333333333333333,
              "#9c179e"
             ],
             [
              0.4444444444444444,
              "#bd3786"
             ],
             [
              0.5555555555555556,
              "#d8576b"
             ],
             [
              0.6666666666666666,
              "#ed7953"
             ],
             [
              0.7777777777777778,
              "#fb9f3a"
             ],
             [
              0.8888888888888888,
              "#fdca26"
             ],
             [
              1,
              "#f0f921"
             ]
            ],
            "type": "histogram2d"
           }
          ],
          "histogram2dcontour": [
           {
            "colorbar": {
             "outlinewidth": 0,
             "ticks": ""
            },
            "colorscale": [
             [
              0,
              "#0d0887"
             ],
             [
              0.1111111111111111,
              "#46039f"
             ],
             [
              0.2222222222222222,
              "#7201a8"
             ],
             [
              0.3333333333333333,
              "#9c179e"
             ],
             [
              0.4444444444444444,
              "#bd3786"
             ],
             [
              0.5555555555555556,
              "#d8576b"
             ],
             [
              0.6666666666666666,
              "#ed7953"
             ],
             [
              0.7777777777777778,
              "#fb9f3a"
             ],
             [
              0.8888888888888888,
              "#fdca26"
             ],
             [
              1,
              "#f0f921"
             ]
            ],
            "type": "histogram2dcontour"
           }
          ],
          "mesh3d": [
           {
            "colorbar": {
             "outlinewidth": 0,
             "ticks": ""
            },
            "type": "mesh3d"
           }
          ],
          "parcoords": [
           {
            "line": {
             "colorbar": {
              "outlinewidth": 0,
              "ticks": ""
             }
            },
            "type": "parcoords"
           }
          ],
          "pie": [
           {
            "automargin": true,
            "type": "pie"
           }
          ],
          "scatter": [
           {
            "fillpattern": {
             "fillmode": "overlay",
             "size": 10,
             "solidity": 0.2
            },
            "type": "scatter"
           }
          ],
          "scatter3d": [
           {
            "line": {
             "colorbar": {
              "outlinewidth": 0,
              "ticks": ""
             }
            },
            "marker": {
             "colorbar": {
              "outlinewidth": 0,
              "ticks": ""
             }
            },
            "type": "scatter3d"
           }
          ],
          "scattercarpet": [
           {
            "marker": {
             "colorbar": {
              "outlinewidth": 0,
              "ticks": ""
             }
            },
            "type": "scattercarpet"
           }
          ],
          "scattergeo": [
           {
            "marker": {
             "colorbar": {
              "outlinewidth": 0,
              "ticks": ""
             }
            },
            "type": "scattergeo"
           }
          ],
          "scattergl": [
           {
            "marker": {
             "colorbar": {
              "outlinewidth": 0,
              "ticks": ""
             }
            },
            "type": "scattergl"
           }
          ],
          "scattermap": [
           {
            "marker": {
             "colorbar": {
              "outlinewidth": 0,
              "ticks": ""
             }
            },
            "type": "scattermap"
           }
          ],
          "scattermapbox": [
           {
            "marker": {
             "colorbar": {
              "outlinewidth": 0,
              "ticks": ""
             }
            },
            "type": "scattermapbox"
           }
          ],
          "scatterpolar": [
           {
            "marker": {
             "colorbar": {
              "outlinewidth": 0,
              "ticks": ""
             }
            },
            "type": "scatterpolar"
           }
          ],
          "scatterpolargl": [
           {
            "marker": {
             "colorbar": {
              "outlinewidth": 0,
              "ticks": ""
             }
            },
            "type": "scatterpolargl"
           }
          ],
          "scatterternary": [
           {
            "marker": {
             "colorbar": {
              "outlinewidth": 0,
              "ticks": ""
             }
            },
            "type": "scatterternary"
           }
          ],
          "surface": [
           {
            "colorbar": {
             "outlinewidth": 0,
             "ticks": ""
            },
            "colorscale": [
             [
              0,
              "#0d0887"
             ],
             [
              0.1111111111111111,
              "#46039f"
             ],
             [
              0.2222222222222222,
              "#7201a8"
             ],
             [
              0.3333333333333333,
              "#9c179e"
             ],
             [
              0.4444444444444444,
              "#bd3786"
             ],
             [
              0.5555555555555556,
              "#d8576b"
             ],
             [
              0.6666666666666666,
              "#ed7953"
             ],
             [
              0.7777777777777778,
              "#fb9f3a"
             ],
             [
              0.8888888888888888,
              "#fdca26"
             ],
             [
              1,
              "#f0f921"
             ]
            ],
            "type": "surface"
           }
          ],
          "table": [
           {
            "cells": {
             "fill": {
              "color": "#EBF0F8"
             },
             "line": {
              "color": "white"
             }
            },
            "header": {
             "fill": {
              "color": "#C8D4E3"
             },
             "line": {
              "color": "white"
             }
            },
            "type": "table"
           }
          ]
         },
         "layout": {
          "annotationdefaults": {
           "arrowcolor": "#2a3f5f",
           "arrowhead": 0,
           "arrowwidth": 1
          },
          "autotypenumbers": "strict",
          "coloraxis": {
           "colorbar": {
            "outlinewidth": 0,
            "ticks": ""
           }
          },
          "colorscale": {
           "diverging": [
            [
             0,
             "#8e0152"
            ],
            [
             0.1,
             "#c51b7d"
            ],
            [
             0.2,
             "#de77ae"
            ],
            [
             0.3,
             "#f1b6da"
            ],
            [
             0.4,
             "#fde0ef"
            ],
            [
             0.5,
             "#f7f7f7"
            ],
            [
             0.6,
             "#e6f5d0"
            ],
            [
             0.7,
             "#b8e186"
            ],
            [
             0.8,
             "#7fbc41"
            ],
            [
             0.9,
             "#4d9221"
            ],
            [
             1,
             "#276419"
            ]
           ],
           "sequential": [
            [
             0,
             "#0d0887"
            ],
            [
             0.1111111111111111,
             "#46039f"
            ],
            [
             0.2222222222222222,
             "#7201a8"
            ],
            [
             0.3333333333333333,
             "#9c179e"
            ],
            [
             0.4444444444444444,
             "#bd3786"
            ],
            [
             0.5555555555555556,
             "#d8576b"
            ],
            [
             0.6666666666666666,
             "#ed7953"
            ],
            [
             0.7777777777777778,
             "#fb9f3a"
            ],
            [
             0.8888888888888888,
             "#fdca26"
            ],
            [
             1,
             "#f0f921"
            ]
           ],
           "sequentialminus": [
            [
             0,
             "#0d0887"
            ],
            [
             0.1111111111111111,
             "#46039f"
            ],
            [
             0.2222222222222222,
             "#7201a8"
            ],
            [
             0.3333333333333333,
             "#9c179e"
            ],
            [
             0.4444444444444444,
             "#bd3786"
            ],
            [
             0.5555555555555556,
             "#d8576b"
            ],
            [
             0.6666666666666666,
             "#ed7953"
            ],
            [
             0.7777777777777778,
             "#fb9f3a"
            ],
            [
             0.8888888888888888,
             "#fdca26"
            ],
            [
             1,
             "#f0f921"
            ]
           ]
          },
          "colorway": [
           "#636efa",
           "#EF553B",
           "#00cc96",
           "#ab63fa",
           "#FFA15A",
           "#19d3f3",
           "#FF6692",
           "#B6E880",
           "#FF97FF",
           "#FECB52"
          ],
          "font": {
           "color": "#2a3f5f"
          },
          "geo": {
           "bgcolor": "white",
           "lakecolor": "white",
           "landcolor": "#E5ECF6",
           "showlakes": true,
           "showland": true,
           "subunitcolor": "white"
          },
          "hoverlabel": {
           "align": "left"
          },
          "hovermode": "closest",
          "mapbox": {
           "style": "light"
          },
          "paper_bgcolor": "white",
          "plot_bgcolor": "#E5ECF6",
          "polar": {
           "angularaxis": {
            "gridcolor": "white",
            "linecolor": "white",
            "ticks": ""
           },
           "bgcolor": "#E5ECF6",
           "radialaxis": {
            "gridcolor": "white",
            "linecolor": "white",
            "ticks": ""
           }
          },
          "scene": {
           "xaxis": {
            "backgroundcolor": "#E5ECF6",
            "gridcolor": "white",
            "gridwidth": 2,
            "linecolor": "white",
            "showbackground": true,
            "ticks": "",
            "zerolinecolor": "white"
           },
           "yaxis": {
            "backgroundcolor": "#E5ECF6",
            "gridcolor": "white",
            "gridwidth": 2,
            "linecolor": "white",
            "showbackground": true,
            "ticks": "",
            "zerolinecolor": "white"
           },
           "zaxis": {
            "backgroundcolor": "#E5ECF6",
            "gridcolor": "white",
            "gridwidth": 2,
            "linecolor": "white",
            "showbackground": true,
            "ticks": "",
            "zerolinecolor": "white"
           }
          },
          "shapedefaults": {
           "line": {
            "color": "#2a3f5f"
           }
          },
          "ternary": {
           "aaxis": {
            "gridcolor": "white",
            "linecolor": "white",
            "ticks": ""
           },
           "baxis": {
            "gridcolor": "white",
            "linecolor": "white",
            "ticks": ""
           },
           "bgcolor": "#E5ECF6",
           "caxis": {
            "gridcolor": "white",
            "linecolor": "white",
            "ticks": ""
           }
          },
          "title": {
           "x": 0.05
          },
          "xaxis": {
           "automargin": true,
           "gridcolor": "white",
           "linecolor": "white",
           "ticks": "",
           "title": {
            "standoff": 15
           },
           "zerolinecolor": "white",
           "zerolinewidth": 2
          },
          "yaxis": {
           "automargin": true,
           "gridcolor": "white",
           "linecolor": "white",
           "ticks": "",
           "title": {
            "standoff": 15
           },
           "zerolinecolor": "white",
           "zerolinewidth": 2
          }
         }
        },
        "title": {
         "text": "Top 20 Employers by Number of Petitions"
        },
        "width": 1200,
        "xaxis": {
         "anchor": "y",
         "domain": [
          0,
          1
         ],
         "tickangle": 45,
         "title": {
          "text": "Employer Name"
         }
        },
        "yaxis": {
         "anchor": "x",
         "domain": [
          0,
          1
         ],
         "title": {
          "text": "Number of Occurrences"
         }
        }
       }
      }
     },
     "metadata": {},
     "output_type": "display_data"
    }
   ],
   "source": [
    "petitioner = employer['Employer (Petitioner) Name'].value_counts().reset_index()\n",
    "petitioner.columns = ['Employer Name', 'Number of Occurrences']\n",
    "\n",
    "fig = px.bar(\n",
    "    petitioner.head(50),\n",
    "    x='Employer Name',\n",
    "    y='Number of Occurrences',\n",
    "    title='Top 20 Employers by Number of Petitions',\n",
    "    color='Number of Occurrences',\n",
    "    color_continuous_scale='viridis'\n",
    ")\n",
    "\n",
    "fig.update_layout(\n",
    "    width=1200,\n",
    "    height=800\n",
    ")\n",
    "fig.update_xaxes(tickangle=45)\n",
    "\n",
    "fig.show()"
   ]
  },
  {
   "cell_type": "markdown",
   "metadata": {},
   "source": [
    "<p> The <b>State University of New York </b> registered the highest numbers of H1B applications </p> "
   ]
  },
  {
   "cell_type": "markdown",
   "metadata": {},
   "source": [
    "<h5><b> 4. Grouping the NAICS code </b></h5>\n",
    "<p> This is to find the industries with the highest H1B applications </p>"
   ]
  },
  {
   "cell_type": "code",
   "execution_count": 59,
   "metadata": {},
   "outputs": [
    {
     "data": {
      "application/vnd.plotly.v1+json": {
       "config": {
        "plotlyServerURL": "https://plot.ly"
       },
       "data": [
        {
         "branchvalues": "total",
         "customdata": {
          "bdata": "AAAAAICu2UAAAAAAAA+6QAAAAAAAsbRAAAAAAABArUAAAAAAAAirQAAAAAAACKtAAAAAAACOokAAAAAAADydQAAAAAAAPJhAAAAAAAA0l0A=",
          "dtype": "f8",
          "shape": "10, 1"
         },
         "domain": {
          "x": [
           0,
           1
          ],
          "y": [
           0,
           1
          ]
         },
         "hovertemplate": "labels=%{label}<br>Number of Occurrences_sum=%{value}<br>parent=%{parent}<br>id=%{id}<br>Number of Occurrences=%{color}<extra></extra>",
         "ids": [
          "54 - Professional, Scientific, and Technical Services",
          "31-33 - Manufacturing",
          "62 - Health Care and Social Assistance",
          "52 - Finance and Insurance",
          "51 - Information",
          "61 - Educational Services",
          "unknown",
          "42 - Wholesale Trade",
          "23 - Construction",
          "44-45 - Retail Trade"
         ],
         "labels": [
          "54 - Professional, Scientific, and Technical Services",
          "31-33 - Manufacturing",
          "62 - Health Care and Social Assistance",
          "52 - Finance and Insurance",
          "51 - Information",
          "61 - Educational Services",
          "unknown",
          "42 - Wholesale Trade",
          "23 - Construction",
          "44-45 - Retail Trade"
         ],
         "marker": {
          "coloraxis": "coloraxis",
          "colors": {
           "bdata": "AAAAAICu2UAAAAAAAA+6QAAAAAAAsbRAAAAAAABArUAAAAAAAAirQAAAAAAACKtAAAAAAACOokAAAAAAADydQAAAAAAAPJhAAAAAAAA0l0A=",
           "dtype": "f8"
          }
         },
         "name": "",
         "parents": [
          "",
          "",
          "",
          "",
          "",
          "",
          "",
          "",
          "",
          ""
         ],
         "type": "sunburst",
         "values": {
          "bdata": "AAAAAICu2UAAAAAAAA+6QAAAAAAAsbRAAAAAAABArUAAAAAAAAirQAAAAAAACKtAAAAAAACOokAAAAAAADydQAAAAAAAPJhAAAAAAAA0l0A=",
          "dtype": "f8"
         }
        }
       ],
       "layout": {
        "coloraxis": {
         "colorbar": {
          "title": {
           "text": "Number of Occurrences"
          }
         },
         "colorscale": [
          [
           0,
           "#440154"
          ],
          [
           0.1111111111111111,
           "#482878"
          ],
          [
           0.2222222222222222,
           "#3e4989"
          ],
          [
           0.3333333333333333,
           "#31688e"
          ],
          [
           0.4444444444444444,
           "#26828e"
          ],
          [
           0.5555555555555556,
           "#1f9e89"
          ],
          [
           0.6666666666666666,
           "#35b779"
          ],
          [
           0.7777777777777778,
           "#6ece58"
          ],
          [
           0.8888888888888888,
           "#b5de2b"
          ],
          [
           1,
           "#fde725"
          ]
         ]
        },
        "height": 800,
        "legend": {
         "tracegroupgap": 0
        },
        "template": {
         "data": {
          "bar": [
           {
            "error_x": {
             "color": "#2a3f5f"
            },
            "error_y": {
             "color": "#2a3f5f"
            },
            "marker": {
             "line": {
              "color": "#E5ECF6",
              "width": 0.5
             },
             "pattern": {
              "fillmode": "overlay",
              "size": 10,
              "solidity": 0.2
             }
            },
            "type": "bar"
           }
          ],
          "barpolar": [
           {
            "marker": {
             "line": {
              "color": "#E5ECF6",
              "width": 0.5
             },
             "pattern": {
              "fillmode": "overlay",
              "size": 10,
              "solidity": 0.2
             }
            },
            "type": "barpolar"
           }
          ],
          "carpet": [
           {
            "aaxis": {
             "endlinecolor": "#2a3f5f",
             "gridcolor": "white",
             "linecolor": "white",
             "minorgridcolor": "white",
             "startlinecolor": "#2a3f5f"
            },
            "baxis": {
             "endlinecolor": "#2a3f5f",
             "gridcolor": "white",
             "linecolor": "white",
             "minorgridcolor": "white",
             "startlinecolor": "#2a3f5f"
            },
            "type": "carpet"
           }
          ],
          "choropleth": [
           {
            "colorbar": {
             "outlinewidth": 0,
             "ticks": ""
            },
            "type": "choropleth"
           }
          ],
          "contour": [
           {
            "colorbar": {
             "outlinewidth": 0,
             "ticks": ""
            },
            "colorscale": [
             [
              0,
              "#0d0887"
             ],
             [
              0.1111111111111111,
              "#46039f"
             ],
             [
              0.2222222222222222,
              "#7201a8"
             ],
             [
              0.3333333333333333,
              "#9c179e"
             ],
             [
              0.4444444444444444,
              "#bd3786"
             ],
             [
              0.5555555555555556,
              "#d8576b"
             ],
             [
              0.6666666666666666,
              "#ed7953"
             ],
             [
              0.7777777777777778,
              "#fb9f3a"
             ],
             [
              0.8888888888888888,
              "#fdca26"
             ],
             [
              1,
              "#f0f921"
             ]
            ],
            "type": "contour"
           }
          ],
          "contourcarpet": [
           {
            "colorbar": {
             "outlinewidth": 0,
             "ticks": ""
            },
            "type": "contourcarpet"
           }
          ],
          "heatmap": [
           {
            "colorbar": {
             "outlinewidth": 0,
             "ticks": ""
            },
            "colorscale": [
             [
              0,
              "#0d0887"
             ],
             [
              0.1111111111111111,
              "#46039f"
             ],
             [
              0.2222222222222222,
              "#7201a8"
             ],
             [
              0.3333333333333333,
              "#9c179e"
             ],
             [
              0.4444444444444444,
              "#bd3786"
             ],
             [
              0.5555555555555556,
              "#d8576b"
             ],
             [
              0.6666666666666666,
              "#ed7953"
             ],
             [
              0.7777777777777778,
              "#fb9f3a"
             ],
             [
              0.8888888888888888,
              "#fdca26"
             ],
             [
              1,
              "#f0f921"
             ]
            ],
            "type": "heatmap"
           }
          ],
          "histogram": [
           {
            "marker": {
             "pattern": {
              "fillmode": "overlay",
              "size": 10,
              "solidity": 0.2
             }
            },
            "type": "histogram"
           }
          ],
          "histogram2d": [
           {
            "colorbar": {
             "outlinewidth": 0,
             "ticks": ""
            },
            "colorscale": [
             [
              0,
              "#0d0887"
             ],
             [
              0.1111111111111111,
              "#46039f"
             ],
             [
              0.2222222222222222,
              "#7201a8"
             ],
             [
              0.3333333333333333,
              "#9c179e"
             ],
             [
              0.4444444444444444,
              "#bd3786"
             ],
             [
              0.5555555555555556,
              "#d8576b"
             ],
             [
              0.6666666666666666,
              "#ed7953"
             ],
             [
              0.7777777777777778,
              "#fb9f3a"
             ],
             [
              0.8888888888888888,
              "#fdca26"
             ],
             [
              1,
              "#f0f921"
             ]
            ],
            "type": "histogram2d"
           }
          ],
          "histogram2dcontour": [
           {
            "colorbar": {
             "outlinewidth": 0,
             "ticks": ""
            },
            "colorscale": [
             [
              0,
              "#0d0887"
             ],
             [
              0.1111111111111111,
              "#46039f"
             ],
             [
              0.2222222222222222,
              "#7201a8"
             ],
             [
              0.3333333333333333,
              "#9c179e"
             ],
             [
              0.4444444444444444,
              "#bd3786"
             ],
             [
              0.5555555555555556,
              "#d8576b"
             ],
             [
              0.6666666666666666,
              "#ed7953"
             ],
             [
              0.7777777777777778,
              "#fb9f3a"
             ],
             [
              0.8888888888888888,
              "#fdca26"
             ],
             [
              1,
              "#f0f921"
             ]
            ],
            "type": "histogram2dcontour"
           }
          ],
          "mesh3d": [
           {
            "colorbar": {
             "outlinewidth": 0,
             "ticks": ""
            },
            "type": "mesh3d"
           }
          ],
          "parcoords": [
           {
            "line": {
             "colorbar": {
              "outlinewidth": 0,
              "ticks": ""
             }
            },
            "type": "parcoords"
           }
          ],
          "pie": [
           {
            "automargin": true,
            "type": "pie"
           }
          ],
          "scatter": [
           {
            "fillpattern": {
             "fillmode": "overlay",
             "size": 10,
             "solidity": 0.2
            },
            "type": "scatter"
           }
          ],
          "scatter3d": [
           {
            "line": {
             "colorbar": {
              "outlinewidth": 0,
              "ticks": ""
             }
            },
            "marker": {
             "colorbar": {
              "outlinewidth": 0,
              "ticks": ""
             }
            },
            "type": "scatter3d"
           }
          ],
          "scattercarpet": [
           {
            "marker": {
             "colorbar": {
              "outlinewidth": 0,
              "ticks": ""
             }
            },
            "type": "scattercarpet"
           }
          ],
          "scattergeo": [
           {
            "marker": {
             "colorbar": {
              "outlinewidth": 0,
              "ticks": ""
             }
            },
            "type": "scattergeo"
           }
          ],
          "scattergl": [
           {
            "marker": {
             "colorbar": {
              "outlinewidth": 0,
              "ticks": ""
             }
            },
            "type": "scattergl"
           }
          ],
          "scattermap": [
           {
            "marker": {
             "colorbar": {
              "outlinewidth": 0,
              "ticks": ""
             }
            },
            "type": "scattermap"
           }
          ],
          "scattermapbox": [
           {
            "marker": {
             "colorbar": {
              "outlinewidth": 0,
              "ticks": ""
             }
            },
            "type": "scattermapbox"
           }
          ],
          "scatterpolar": [
           {
            "marker": {
             "colorbar": {
              "outlinewidth": 0,
              "ticks": ""
             }
            },
            "type": "scatterpolar"
           }
          ],
          "scatterpolargl": [
           {
            "marker": {
             "colorbar": {
              "outlinewidth": 0,
              "ticks": ""
             }
            },
            "type": "scatterpolargl"
           }
          ],
          "scatterternary": [
           {
            "marker": {
             "colorbar": {
              "outlinewidth": 0,
              "ticks": ""
             }
            },
            "type": "scatterternary"
           }
          ],
          "surface": [
           {
            "colorbar": {
             "outlinewidth": 0,
             "ticks": ""
            },
            "colorscale": [
             [
              0,
              "#0d0887"
             ],
             [
              0.1111111111111111,
              "#46039f"
             ],
             [
              0.2222222222222222,
              "#7201a8"
             ],
             [
              0.3333333333333333,
              "#9c179e"
             ],
             [
              0.4444444444444444,
              "#bd3786"
             ],
             [
              0.5555555555555556,
              "#d8576b"
             ],
             [
              0.6666666666666666,
              "#ed7953"
             ],
             [
              0.7777777777777778,
              "#fb9f3a"
             ],
             [
              0.8888888888888888,
              "#fdca26"
             ],
             [
              1,
              "#f0f921"
             ]
            ],
            "type": "surface"
           }
          ],
          "table": [
           {
            "cells": {
             "fill": {
              "color": "#EBF0F8"
             },
             "line": {
              "color": "white"
             }
            },
            "header": {
             "fill": {
              "color": "#C8D4E3"
             },
             "line": {
              "color": "white"
             }
            },
            "type": "table"
           }
          ]
         },
         "layout": {
          "annotationdefaults": {
           "arrowcolor": "#2a3f5f",
           "arrowhead": 0,
           "arrowwidth": 1
          },
          "autotypenumbers": "strict",
          "coloraxis": {
           "colorbar": {
            "outlinewidth": 0,
            "ticks": ""
           }
          },
          "colorscale": {
           "diverging": [
            [
             0,
             "#8e0152"
            ],
            [
             0.1,
             "#c51b7d"
            ],
            [
             0.2,
             "#de77ae"
            ],
            [
             0.3,
             "#f1b6da"
            ],
            [
             0.4,
             "#fde0ef"
            ],
            [
             0.5,
             "#f7f7f7"
            ],
            [
             0.6,
             "#e6f5d0"
            ],
            [
             0.7,
             "#b8e186"
            ],
            [
             0.8,
             "#7fbc41"
            ],
            [
             0.9,
             "#4d9221"
            ],
            [
             1,
             "#276419"
            ]
           ],
           "sequential": [
            [
             0,
             "#0d0887"
            ],
            [
             0.1111111111111111,
             "#46039f"
            ],
            [
             0.2222222222222222,
             "#7201a8"
            ],
            [
             0.3333333333333333,
             "#9c179e"
            ],
            [
             0.4444444444444444,
             "#bd3786"
            ],
            [
             0.5555555555555556,
             "#d8576b"
            ],
            [
             0.6666666666666666,
             "#ed7953"
            ],
            [
             0.7777777777777778,
             "#fb9f3a"
            ],
            [
             0.8888888888888888,
             "#fdca26"
            ],
            [
             1,
             "#f0f921"
            ]
           ],
           "sequentialminus": [
            [
             0,
             "#0d0887"
            ],
            [
             0.1111111111111111,
             "#46039f"
            ],
            [
             0.2222222222222222,
             "#7201a8"
            ],
            [
             0.3333333333333333,
             "#9c179e"
            ],
            [
             0.4444444444444444,
             "#bd3786"
            ],
            [
             0.5555555555555556,
             "#d8576b"
            ],
            [
             0.6666666666666666,
             "#ed7953"
            ],
            [
             0.7777777777777778,
             "#fb9f3a"
            ],
            [
             0.8888888888888888,
             "#fdca26"
            ],
            [
             1,
             "#f0f921"
            ]
           ]
          },
          "colorway": [
           "#636efa",
           "#EF553B",
           "#00cc96",
           "#ab63fa",
           "#FFA15A",
           "#19d3f3",
           "#FF6692",
           "#B6E880",
           "#FF97FF",
           "#FECB52"
          ],
          "font": {
           "color": "#2a3f5f"
          },
          "geo": {
           "bgcolor": "white",
           "lakecolor": "white",
           "landcolor": "#E5ECF6",
           "showlakes": true,
           "showland": true,
           "subunitcolor": "white"
          },
          "hoverlabel": {
           "align": "left"
          },
          "hovermode": "closest",
          "mapbox": {
           "style": "light"
          },
          "paper_bgcolor": "white",
          "plot_bgcolor": "#E5ECF6",
          "polar": {
           "angularaxis": {
            "gridcolor": "white",
            "linecolor": "white",
            "ticks": ""
           },
           "bgcolor": "#E5ECF6",
           "radialaxis": {
            "gridcolor": "white",
            "linecolor": "white",
            "ticks": ""
           }
          },
          "scene": {
           "xaxis": {
            "backgroundcolor": "#E5ECF6",
            "gridcolor": "white",
            "gridwidth": 2,
            "linecolor": "white",
            "showbackground": true,
            "ticks": "",
            "zerolinecolor": "white"
           },
           "yaxis": {
            "backgroundcolor": "#E5ECF6",
            "gridcolor": "white",
            "gridwidth": 2,
            "linecolor": "white",
            "showbackground": true,
            "ticks": "",
            "zerolinecolor": "white"
           },
           "zaxis": {
            "backgroundcolor": "#E5ECF6",
            "gridcolor": "white",
            "gridwidth": 2,
            "linecolor": "white",
            "showbackground": true,
            "ticks": "",
            "zerolinecolor": "white"
           }
          },
          "shapedefaults": {
           "line": {
            "color": "#2a3f5f"
           }
          },
          "ternary": {
           "aaxis": {
            "gridcolor": "white",
            "linecolor": "white",
            "ticks": ""
           },
           "baxis": {
            "gridcolor": "white",
            "linecolor": "white",
            "ticks": ""
           },
           "bgcolor": "#E5ECF6",
           "caxis": {
            "gridcolor": "white",
            "linecolor": "white",
            "ticks": ""
           }
          },
          "title": {
           "x": 0.05
          },
          "xaxis": {
           "automargin": true,
           "gridcolor": "white",
           "linecolor": "white",
           "ticks": "",
           "title": {
            "standoff": 15
           },
           "zerolinecolor": "white",
           "zerolinewidth": 2
          },
          "yaxis": {
           "automargin": true,
           "gridcolor": "white",
           "linecolor": "white",
           "ticks": "",
           "title": {
            "standoff": 15
           },
           "zerolinecolor": "white",
           "zerolinewidth": 2
          }
         }
        },
        "title": {
         "text": "Top 20 Employers by Number of Petitions"
        },
        "width": 1200
       }
      }
     },
     "metadata": {},
     "output_type": "display_data"
    }
   ],
   "source": [
    "naics = employer['Industry (NAICS) Code'].value_counts().reset_index()\n",
    "naics.columns = ['NAICS Code', 'Number of Occurrences']\n",
    "\n",
    "# fig = px.bar(\n",
    "#     naics.head(50),\n",
    "#     x='NAICS Code',\n",
    "#     y='Number of Occurrences',\n",
    "#     title='Top 20 NAICS Codes by Number of Petitions',\n",
    "#     color='Number of Occurrences',\n",
    "#     color_continuous_scale='viridis'\n",
    "# )\n",
    "fig = px.sunburst(\n",
    "    naics.head(10),\n",
    "    path=['NAICS Code'],\n",
    "    values='Number of Occurrences',\n",
    "    title='Top 20 Employers by Number of Petitions',\n",
    "    color='Number of Occurrences',\n",
    "    color_continuous_scale='viridis'\n",
    ")\n",
    "fig.update_layout(\n",
    "    width=1200,\n",
    "    height=800\n",
    ")\n",
    "\n",
    "fig.show()"
   ]
  },
  {
   "cell_type": "markdown",
   "metadata": {},
   "source": [
    "<h5><b> 5. Employer Vs State Counts </b></h5>  "
   ]
  },
  {
   "cell_type": "code",
   "execution_count": 64,
   "metadata": {},
   "outputs": [
    {
     "data": {
      "application/vnd.plotly.v1+json": {
       "config": {
        "plotlyServerURL": "https://plot.ly"
       },
       "data": [
        {
         "branchvalues": "total",
         "customdata": {
          "bdata": "AAAAAACzsUAAAAAAAAawQAAAAAAA0KFAAAAAAABQoEAAAAAAAHCUQAAAAAAAPJRAAAAAAACYkkAAAAAAAIySQAAAAAAAZJJAAAAAAAAokkAAAAAAAKiPQAAAAAAAyI1AAAAAAACQikAAAAAAADCHQAAAAAAAWINAAAAAAAD4gkAAAAAAAIiCQAAAAAAAyIFAAAAAAADAgUAAAAAAADB/QLVN93r7KqdA7vzHgUCvrEB7zb3DWIOdQAAAAAAAUKBAAAAAAAA8lEAAAAAAAJiSQAAAAAAAZJJAAAAAAAAokkAAAAAAAKiPQG3AgoNPgYZAAAAAAAAwh0AAAAAAAPiCQAAAAAAAiIJA",
          "dtype": "f8",
          "shape": "33, 1"
         },
         "domain": {
          "x": [
           0,
           1
          ],
          "y": [
           0,
           1
          ]
         },
         "hovertemplate": "labels=%{label}<br>Number of Occurrences_sum=%{value}<br>parent=%{parent}<br>id=%{id}<br>Number of Occurrences=%{color}<extra></extra>",
         "ids": [
          "CA/54 - Professional, Scientific, and Technical Services",
          "TX/54 - Professional, Scientific, and Technical Services",
          "NY/54 - Professional, Scientific, and Technical Services",
          "NJ/54 - Professional, Scientific, and Technical Services",
          "CA/31-33 - Manufacturing",
          "VA/54 - Professional, Scientific, and Technical Services",
          "IL/54 - Professional, Scientific, and Technical Services",
          "CA/51 - Information",
          "GA/54 - Professional, Scientific, and Technical Services",
          "MA/54 - Professional, Scientific, and Technical Services",
          "FL/54 - Professional, Scientific, and Technical Services",
          "NY/52 - Finance and Insurance",
          "MI/54 - Professional, Scientific, and Technical Services",
          "PA/54 - Professional, Scientific, and Technical Services",
          "CA/62 - Health Care and Social Assistance",
          "MD/54 - Professional, Scientific, and Technical Services",
          "NC/54 - Professional, Scientific, and Technical Services",
          "TX/31-33 - Manufacturing",
          "CA/52 - Finance and Insurance",
          "MI/31-33 - Manufacturing",
          "CA",
          "TX",
          "NY",
          "NJ",
          "VA",
          "IL",
          "GA",
          "MA",
          "FL",
          "MI",
          "PA",
          "MD",
          "NC"
         ],
         "labels": [
          "54 - Professional, Scientific, and Technical Services",
          "54 - Professional, Scientific, and Technical Services",
          "54 - Professional, Scientific, and Technical Services",
          "54 - Professional, Scientific, and Technical Services",
          "31-33 - Manufacturing",
          "54 - Professional, Scientific, and Technical Services",
          "54 - Professional, Scientific, and Technical Services",
          "51 - Information",
          "54 - Professional, Scientific, and Technical Services",
          "54 - Professional, Scientific, and Technical Services",
          "54 - Professional, Scientific, and Technical Services",
          "52 - Finance and Insurance",
          "54 - Professional, Scientific, and Technical Services",
          "54 - Professional, Scientific, and Technical Services",
          "62 - Health Care and Social Assistance",
          "54 - Professional, Scientific, and Technical Services",
          "54 - Professional, Scientific, and Technical Services",
          "31-33 - Manufacturing",
          "52 - Finance and Insurance",
          "31-33 - Manufacturing",
          "CA",
          "TX",
          "NY",
          "NJ",
          "VA",
          "IL",
          "GA",
          "MA",
          "FL",
          "MI",
          "PA",
          "MD",
          "NC"
         ],
         "marker": {
          "coloraxis": "coloraxis",
          "colors": {
           "bdata": "AAAAAACzsUAAAAAAAAawQAAAAAAA0KFAAAAAAABQoEAAAAAAAHCUQAAAAAAAPJRAAAAAAACYkkAAAAAAAIySQAAAAAAAZJJAAAAAAAAokkAAAAAAAKiPQAAAAAAAyI1AAAAAAACQikAAAAAAADCHQAAAAAAAWINAAAAAAAD4gkAAAAAAAIiCQAAAAAAAyIFAAAAAAADAgUAAAAAAADB/QLVN93r7KqdA7vzHgUCvrEB7zb3DWIOdQAAAAAAAUKBAAAAAAAA8lEAAAAAAAJiSQAAAAAAAZJJAAAAAAAAokkAAAAAAAKiPQG3AgoNPgYZAAAAAAAAwh0AAAAAAAPiCQAAAAAAAiIJA",
           "dtype": "f8"
          }
         },
         "name": "",
         "parents": [
          "CA",
          "TX",
          "NY",
          "NJ",
          "CA",
          "VA",
          "IL",
          "CA",
          "GA",
          "MA",
          "FL",
          "NY",
          "MI",
          "PA",
          "CA",
          "MD",
          "NC",
          "TX",
          "CA",
          "MI",
          "",
          "",
          "",
          "",
          "",
          "",
          "",
          "",
          "",
          "",
          "",
          "",
          ""
         ],
         "type": "treemap",
         "values": {
          "bdata": "AAAAAACzsUAAAAAAAAawQAAAAAAA0KFAAAAAAABQoEAAAAAAAHCUQAAAAAAAPJRAAAAAAACYkkAAAAAAAIySQAAAAAAAZJJAAAAAAAAokkAAAAAAAKiPQAAAAAAAyI1AAAAAAACQikAAAAAAADCHQAAAAAAAWINAAAAAAAD4gkAAAAAAAIiCQAAAAAAAyIFAAAAAAADAgUAAAAAAADB/QAAAAACACsBAAAAAAAA/skAAAAAAAEKpQAAAAAAAUKBAAAAAAAA8lEAAAAAAAJiSQAAAAAAAZJJAAAAAAAAokkAAAAAAAKiPQAAAAAAAFJVAAAAAAAAwh0AAAAAAAPiCQAAAAAAAiIJA",
          "dtype": "f8"
         }
        }
       ],
       "layout": {
        "coloraxis": {
         "colorbar": {
          "title": {
           "text": "Number of Occurrences"
          }
         },
         "colorscale": [
          [
           0,
           "#440154"
          ],
          [
           0.1111111111111111,
           "#482878"
          ],
          [
           0.2222222222222222,
           "#3e4989"
          ],
          [
           0.3333333333333333,
           "#31688e"
          ],
          [
           0.4444444444444444,
           "#26828e"
          ],
          [
           0.5555555555555556,
           "#1f9e89"
          ],
          [
           0.6666666666666666,
           "#35b779"
          ],
          [
           0.7777777777777778,
           "#6ece58"
          ],
          [
           0.8888888888888888,
           "#b5de2b"
          ],
          [
           1,
           "#fde725"
          ]
         ]
        },
        "height": 800,
        "legend": {
         "tracegroupgap": 0
        },
        "template": {
         "data": {
          "bar": [
           {
            "error_x": {
             "color": "#2a3f5f"
            },
            "error_y": {
             "color": "#2a3f5f"
            },
            "marker": {
             "line": {
              "color": "#E5ECF6",
              "width": 0.5
             },
             "pattern": {
              "fillmode": "overlay",
              "size": 10,
              "solidity": 0.2
             }
            },
            "type": "bar"
           }
          ],
          "barpolar": [
           {
            "marker": {
             "line": {
              "color": "#E5ECF6",
              "width": 0.5
             },
             "pattern": {
              "fillmode": "overlay",
              "size": 10,
              "solidity": 0.2
             }
            },
            "type": "barpolar"
           }
          ],
          "carpet": [
           {
            "aaxis": {
             "endlinecolor": "#2a3f5f",
             "gridcolor": "white",
             "linecolor": "white",
             "minorgridcolor": "white",
             "startlinecolor": "#2a3f5f"
            },
            "baxis": {
             "endlinecolor": "#2a3f5f",
             "gridcolor": "white",
             "linecolor": "white",
             "minorgridcolor": "white",
             "startlinecolor": "#2a3f5f"
            },
            "type": "carpet"
           }
          ],
          "choropleth": [
           {
            "colorbar": {
             "outlinewidth": 0,
             "ticks": ""
            },
            "type": "choropleth"
           }
          ],
          "contour": [
           {
            "colorbar": {
             "outlinewidth": 0,
             "ticks": ""
            },
            "colorscale": [
             [
              0,
              "#0d0887"
             ],
             [
              0.1111111111111111,
              "#46039f"
             ],
             [
              0.2222222222222222,
              "#7201a8"
             ],
             [
              0.3333333333333333,
              "#9c179e"
             ],
             [
              0.4444444444444444,
              "#bd3786"
             ],
             [
              0.5555555555555556,
              "#d8576b"
             ],
             [
              0.6666666666666666,
              "#ed7953"
             ],
             [
              0.7777777777777778,
              "#fb9f3a"
             ],
             [
              0.8888888888888888,
              "#fdca26"
             ],
             [
              1,
              "#f0f921"
             ]
            ],
            "type": "contour"
           }
          ],
          "contourcarpet": [
           {
            "colorbar": {
             "outlinewidth": 0,
             "ticks": ""
            },
            "type": "contourcarpet"
           }
          ],
          "heatmap": [
           {
            "colorbar": {
             "outlinewidth": 0,
             "ticks": ""
            },
            "colorscale": [
             [
              0,
              "#0d0887"
             ],
             [
              0.1111111111111111,
              "#46039f"
             ],
             [
              0.2222222222222222,
              "#7201a8"
             ],
             [
              0.3333333333333333,
              "#9c179e"
             ],
             [
              0.4444444444444444,
              "#bd3786"
             ],
             [
              0.5555555555555556,
              "#d8576b"
             ],
             [
              0.6666666666666666,
              "#ed7953"
             ],
             [
              0.7777777777777778,
              "#fb9f3a"
             ],
             [
              0.8888888888888888,
              "#fdca26"
             ],
             [
              1,
              "#f0f921"
             ]
            ],
            "type": "heatmap"
           }
          ],
          "histogram": [
           {
            "marker": {
             "pattern": {
              "fillmode": "overlay",
              "size": 10,
              "solidity": 0.2
             }
            },
            "type": "histogram"
           }
          ],
          "histogram2d": [
           {
            "colorbar": {
             "outlinewidth": 0,
             "ticks": ""
            },
            "colorscale": [
             [
              0,
              "#0d0887"
             ],
             [
              0.1111111111111111,
              "#46039f"
             ],
             [
              0.2222222222222222,
              "#7201a8"
             ],
             [
              0.3333333333333333,
              "#9c179e"
             ],
             [
              0.4444444444444444,
              "#bd3786"
             ],
             [
              0.5555555555555556,
              "#d8576b"
             ],
             [
              0.6666666666666666,
              "#ed7953"
             ],
             [
              0.7777777777777778,
              "#fb9f3a"
             ],
             [
              0.8888888888888888,
              "#fdca26"
             ],
             [
              1,
              "#f0f921"
             ]
            ],
            "type": "histogram2d"
           }
          ],
          "histogram2dcontour": [
           {
            "colorbar": {
             "outlinewidth": 0,
             "ticks": ""
            },
            "colorscale": [
             [
              0,
              "#0d0887"
             ],
             [
              0.1111111111111111,
              "#46039f"
             ],
             [
              0.2222222222222222,
              "#7201a8"
             ],
             [
              0.3333333333333333,
              "#9c179e"
             ],
             [
              0.4444444444444444,
              "#bd3786"
             ],
             [
              0.5555555555555556,
              "#d8576b"
             ],
             [
              0.6666666666666666,
              "#ed7953"
             ],
             [
              0.7777777777777778,
              "#fb9f3a"
             ],
             [
              0.8888888888888888,
              "#fdca26"
             ],
             [
              1,
              "#f0f921"
             ]
            ],
            "type": "histogram2dcontour"
           }
          ],
          "mesh3d": [
           {
            "colorbar": {
             "outlinewidth": 0,
             "ticks": ""
            },
            "type": "mesh3d"
           }
          ],
          "parcoords": [
           {
            "line": {
             "colorbar": {
              "outlinewidth": 0,
              "ticks": ""
             }
            },
            "type": "parcoords"
           }
          ],
          "pie": [
           {
            "automargin": true,
            "type": "pie"
           }
          ],
          "scatter": [
           {
            "fillpattern": {
             "fillmode": "overlay",
             "size": 10,
             "solidity": 0.2
            },
            "type": "scatter"
           }
          ],
          "scatter3d": [
           {
            "line": {
             "colorbar": {
              "outlinewidth": 0,
              "ticks": ""
             }
            },
            "marker": {
             "colorbar": {
              "outlinewidth": 0,
              "ticks": ""
             }
            },
            "type": "scatter3d"
           }
          ],
          "scattercarpet": [
           {
            "marker": {
             "colorbar": {
              "outlinewidth": 0,
              "ticks": ""
             }
            },
            "type": "scattercarpet"
           }
          ],
          "scattergeo": [
           {
            "marker": {
             "colorbar": {
              "outlinewidth": 0,
              "ticks": ""
             }
            },
            "type": "scattergeo"
           }
          ],
          "scattergl": [
           {
            "marker": {
             "colorbar": {
              "outlinewidth": 0,
              "ticks": ""
             }
            },
            "type": "scattergl"
           }
          ],
          "scattermap": [
           {
            "marker": {
             "colorbar": {
              "outlinewidth": 0,
              "ticks": ""
             }
            },
            "type": "scattermap"
           }
          ],
          "scattermapbox": [
           {
            "marker": {
             "colorbar": {
              "outlinewidth": 0,
              "ticks": ""
             }
            },
            "type": "scattermapbox"
           }
          ],
          "scatterpolar": [
           {
            "marker": {
             "colorbar": {
              "outlinewidth": 0,
              "ticks": ""
             }
            },
            "type": "scatterpolar"
           }
          ],
          "scatterpolargl": [
           {
            "marker": {
             "colorbar": {
              "outlinewidth": 0,
              "ticks": ""
             }
            },
            "type": "scatterpolargl"
           }
          ],
          "scatterternary": [
           {
            "marker": {
             "colorbar": {
              "outlinewidth": 0,
              "ticks": ""
             }
            },
            "type": "scatterternary"
           }
          ],
          "surface": [
           {
            "colorbar": {
             "outlinewidth": 0,
             "ticks": ""
            },
            "colorscale": [
             [
              0,
              "#0d0887"
             ],
             [
              0.1111111111111111,
              "#46039f"
             ],
             [
              0.2222222222222222,
              "#7201a8"
             ],
             [
              0.3333333333333333,
              "#9c179e"
             ],
             [
              0.4444444444444444,
              "#bd3786"
             ],
             [
              0.5555555555555556,
              "#d8576b"
             ],
             [
              0.6666666666666666,
              "#ed7953"
             ],
             [
              0.7777777777777778,
              "#fb9f3a"
             ],
             [
              0.8888888888888888,
              "#fdca26"
             ],
             [
              1,
              "#f0f921"
             ]
            ],
            "type": "surface"
           }
          ],
          "table": [
           {
            "cells": {
             "fill": {
              "color": "#EBF0F8"
             },
             "line": {
              "color": "white"
             }
            },
            "header": {
             "fill": {
              "color": "#C8D4E3"
             },
             "line": {
              "color": "white"
             }
            },
            "type": "table"
           }
          ]
         },
         "layout": {
          "annotationdefaults": {
           "arrowcolor": "#2a3f5f",
           "arrowhead": 0,
           "arrowwidth": 1
          },
          "autotypenumbers": "strict",
          "coloraxis": {
           "colorbar": {
            "outlinewidth": 0,
            "ticks": ""
           }
          },
          "colorscale": {
           "diverging": [
            [
             0,
             "#8e0152"
            ],
            [
             0.1,
             "#c51b7d"
            ],
            [
             0.2,
             "#de77ae"
            ],
            [
             0.3,
             "#f1b6da"
            ],
            [
             0.4,
             "#fde0ef"
            ],
            [
             0.5,
             "#f7f7f7"
            ],
            [
             0.6,
             "#e6f5d0"
            ],
            [
             0.7,
             "#b8e186"
            ],
            [
             0.8,
             "#7fbc41"
            ],
            [
             0.9,
             "#4d9221"
            ],
            [
             1,
             "#276419"
            ]
           ],
           "sequential": [
            [
             0,
             "#0d0887"
            ],
            [
             0.1111111111111111,
             "#46039f"
            ],
            [
             0.2222222222222222,
             "#7201a8"
            ],
            [
             0.3333333333333333,
             "#9c179e"
            ],
            [
             0.4444444444444444,
             "#bd3786"
            ],
            [
             0.5555555555555556,
             "#d8576b"
            ],
            [
             0.6666666666666666,
             "#ed7953"
            ],
            [
             0.7777777777777778,
             "#fb9f3a"
            ],
            [
             0.8888888888888888,
             "#fdca26"
            ],
            [
             1,
             "#f0f921"
            ]
           ],
           "sequentialminus": [
            [
             0,
             "#0d0887"
            ],
            [
             0.1111111111111111,
             "#46039f"
            ],
            [
             0.2222222222222222,
             "#7201a8"
            ],
            [
             0.3333333333333333,
             "#9c179e"
            ],
            [
             0.4444444444444444,
             "#bd3786"
            ],
            [
             0.5555555555555556,
             "#d8576b"
            ],
            [
             0.6666666666666666,
             "#ed7953"
            ],
            [
             0.7777777777777778,
             "#fb9f3a"
            ],
            [
             0.8888888888888888,
             "#fdca26"
            ],
            [
             1,
             "#f0f921"
            ]
           ]
          },
          "colorway": [
           "#636efa",
           "#EF553B",
           "#00cc96",
           "#ab63fa",
           "#FFA15A",
           "#19d3f3",
           "#FF6692",
           "#B6E880",
           "#FF97FF",
           "#FECB52"
          ],
          "font": {
           "color": "#2a3f5f"
          },
          "geo": {
           "bgcolor": "white",
           "lakecolor": "white",
           "landcolor": "#E5ECF6",
           "showlakes": true,
           "showland": true,
           "subunitcolor": "white"
          },
          "hoverlabel": {
           "align": "left"
          },
          "hovermode": "closest",
          "mapbox": {
           "style": "light"
          },
          "paper_bgcolor": "white",
          "plot_bgcolor": "#E5ECF6",
          "polar": {
           "angularaxis": {
            "gridcolor": "white",
            "linecolor": "white",
            "ticks": ""
           },
           "bgcolor": "#E5ECF6",
           "radialaxis": {
            "gridcolor": "white",
            "linecolor": "white",
            "ticks": ""
           }
          },
          "scene": {
           "xaxis": {
            "backgroundcolor": "#E5ECF6",
            "gridcolor": "white",
            "gridwidth": 2,
            "linecolor": "white",
            "showbackground": true,
            "ticks": "",
            "zerolinecolor": "white"
           },
           "yaxis": {
            "backgroundcolor": "#E5ECF6",
            "gridcolor": "white",
            "gridwidth": 2,
            "linecolor": "white",
            "showbackground": true,
            "ticks": "",
            "zerolinecolor": "white"
           },
           "zaxis": {
            "backgroundcolor": "#E5ECF6",
            "gridcolor": "white",
            "gridwidth": 2,
            "linecolor": "white",
            "showbackground": true,
            "ticks": "",
            "zerolinecolor": "white"
           }
          },
          "shapedefaults": {
           "line": {
            "color": "#2a3f5f"
           }
          },
          "ternary": {
           "aaxis": {
            "gridcolor": "white",
            "linecolor": "white",
            "ticks": ""
           },
           "baxis": {
            "gridcolor": "white",
            "linecolor": "white",
            "ticks": ""
           },
           "bgcolor": "#E5ECF6",
           "caxis": {
            "gridcolor": "white",
            "linecolor": "white",
            "ticks": ""
           }
          },
          "title": {
           "x": 0.05
          },
          "xaxis": {
           "automargin": true,
           "gridcolor": "white",
           "linecolor": "white",
           "ticks": "",
           "title": {
            "standoff": 15
           },
           "zerolinecolor": "white",
           "zerolinewidth": 2
          },
          "yaxis": {
           "automargin": true,
           "gridcolor": "white",
           "linecolor": "white",
           "ticks": "",
           "title": {
            "standoff": 15
           },
           "zerolinecolor": "white",
           "zerolinewidth": 2
          }
         }
        },
        "title": {
         "text": "Grouping H1B Petitions by State and Industry"
        },
        "width": 1200
       }
      }
     },
     "metadata": {},
     "output_type": "display_data"
    }
   ],
   "source": [
    "emp_grp = employer.groupby(['Industry (NAICS) Code', 'Petitioner State',]).size().reset_index(name=\"Number of Occurrences\")\n",
    "top_emp_grp = emp_grp.sort_values(by='Number of Occurrences', ascending=False)\n",
    "# emp_grp.head()\n",
    "\n",
    "fig = px.treemap(\n",
    "    top_emp_grp.head(20),\n",
    "    path=['Petitioner State', 'Industry (NAICS) Code'],\n",
    "    values='Number of Occurrences',\n",
    "    title='Grouping H1B Petitions by State and Industry',\n",
    "    color='Number of Occurrences',\n",
    "    color_continuous_scale='viridis'\n",
    ")\n",
    "fig.update_layout(\n",
    "    width=1200,\n",
    "    height=800\n",
    ") \n",
    "fig.show()"
   ]
  },
  {
   "cell_type": "markdown",
   "metadata": {},
   "source": [
    "<p> In most cases the <b> Professional, Scientific, and Technical Services </b> seems to have the most H1B applications </b></p>"
   ]
  },
  {
   "cell_type": "markdown",
   "metadata": {},
   "source": [
    "<h5><b> 6. Approval Rates (Initial & Continuing) Vs Industry (NAICS) code </b></h5>"
   ]
  },
  {
   "cell_type": "code",
   "execution_count": null,
   "metadata": {},
   "outputs": [
    {
     "data": {
      "text/html": [
       "<div>\n",
       "<style scoped>\n",
       "    .dataframe tbody tr th:only-of-type {\n",
       "        vertical-align: middle;\n",
       "    }\n",
       "\n",
       "    .dataframe tbody tr th {\n",
       "        vertical-align: top;\n",
       "    }\n",
       "\n",
       "    .dataframe thead th {\n",
       "        text-align: right;\n",
       "    }\n",
       "</style>\n",
       "<table border=\"1\" class=\"dataframe\">\n",
       "  <thead>\n",
       "    <tr style=\"text-align: right;\">\n",
       "      <th></th>\n",
       "      <th>Employer (Petitioner) Name</th>\n",
       "      <th>Industry (NAICS) Code</th>\n",
       "      <th>Petitioner City</th>\n",
       "      <th>Petitioner State</th>\n",
       "      <th>Initial Approval</th>\n",
       "      <th>Initial Denial</th>\n",
       "      <th>Continuing Approval</th>\n",
       "      <th>Continuing Denial</th>\n",
       "    </tr>\n",
       "  </thead>\n",
       "  <tbody>\n",
       "    <tr>\n",
       "      <th>2</th>\n",
       "      <td>1 800 FLOWERS COM INC</td>\n",
       "      <td>44-45 - Retail Trade</td>\n",
       "      <td>JERICHO</td>\n",
       "      <td>NY</td>\n",
       "      <td>1</td>\n",
       "      <td>0</td>\n",
       "      <td>5</td>\n",
       "      <td>0</td>\n",
       "    </tr>\n",
       "    <tr>\n",
       "      <th>3</th>\n",
       "      <td>1 HOTEL KAUAI LLC DBA 1 HOTEL HANALEI BAY</td>\n",
       "      <td>72 - Accommodation and Food Services</td>\n",
       "      <td>MIAMI</td>\n",
       "      <td>FL</td>\n",
       "      <td>0</td>\n",
       "      <td>0</td>\n",
       "      <td>1</td>\n",
       "      <td>0</td>\n",
       "    </tr>\n",
       "    <tr>\n",
       "      <th>4</th>\n",
       "      <td>1 OAK MEDIA LLC</td>\n",
       "      <td>54 - Professional, Scientific, and Technical S...</td>\n",
       "      <td>LINCOLN CITY</td>\n",
       "      <td>OR</td>\n",
       "      <td>1</td>\n",
       "      <td>0</td>\n",
       "      <td>0</td>\n",
       "      <td>0</td>\n",
       "    </tr>\n",
       "    <tr>\n",
       "      <th>5</th>\n",
       "      <td>1 POINT SYSTEM LLC</td>\n",
       "      <td>54 - Professional, Scientific, and Technical S...</td>\n",
       "      <td>FORT MILL</td>\n",
       "      <td>SC</td>\n",
       "      <td>1</td>\n",
       "      <td>0</td>\n",
       "      <td>1</td>\n",
       "      <td>0</td>\n",
       "    </tr>\n",
       "    <tr>\n",
       "      <th>6</th>\n",
       "      <td>1 REALTY GLOBAL INC</td>\n",
       "      <td>52 - Finance and Insurance</td>\n",
       "      <td>WALNUT</td>\n",
       "      <td>CA</td>\n",
       "      <td>1</td>\n",
       "      <td>0</td>\n",
       "      <td>0</td>\n",
       "      <td>0</td>\n",
       "    </tr>\n",
       "    <tr>\n",
       "      <th>7</th>\n",
       "      <td>1 WAYDOOR LLC</td>\n",
       "      <td>54 - Professional, Scientific, and Technical S...</td>\n",
       "      <td>CUMMING</td>\n",
       "      <td>GA</td>\n",
       "      <td>0</td>\n",
       "      <td>0</td>\n",
       "      <td>1</td>\n",
       "      <td>0</td>\n",
       "    </tr>\n",
       "    <tr>\n",
       "      <th>8</th>\n",
       "      <td>1CONNECT TECHNOLOGIES INC</td>\n",
       "      <td>54 - Professional, Scientific, and Technical S...</td>\n",
       "      <td>ALPHARETTA</td>\n",
       "      <td>GA</td>\n",
       "      <td>0</td>\n",
       "      <td>1</td>\n",
       "      <td>3</td>\n",
       "      <td>0</td>\n",
       "    </tr>\n",
       "    <tr>\n",
       "      <th>9</th>\n",
       "      <td>1LIFE HEALTHCARE, INC.</td>\n",
       "      <td>62 - Health Care and Social Assistance</td>\n",
       "      <td>SAN FRANCISCO</td>\n",
       "      <td>CA</td>\n",
       "      <td>0</td>\n",
       "      <td>0</td>\n",
       "      <td>1</td>\n",
       "      <td>0</td>\n",
       "    </tr>\n",
       "    <tr>\n",
       "      <th>10</th>\n",
       "      <td>1POINT3ACRES LLC</td>\n",
       "      <td>51 - Information</td>\n",
       "      <td>BELLEVUE</td>\n",
       "      <td>WA</td>\n",
       "      <td>1</td>\n",
       "      <td>0</td>\n",
       "      <td>0</td>\n",
       "      <td>0</td>\n",
       "    </tr>\n",
       "    <tr>\n",
       "      <th>11</th>\n",
       "      <td>1RIVET LLC</td>\n",
       "      <td>54 - Professional, Scientific, and Technical S...</td>\n",
       "      <td>RESTON</td>\n",
       "      <td>VA</td>\n",
       "      <td>0</td>\n",
       "      <td>0</td>\n",
       "      <td>1</td>\n",
       "      <td>0</td>\n",
       "    </tr>\n",
       "    <tr>\n",
       "      <th>12</th>\n",
       "      <td>1SEO DIGITAL AGENCY LLC</td>\n",
       "      <td>54 - Professional, Scientific, and Technical S...</td>\n",
       "      <td>BRISTOL</td>\n",
       "      <td>PA</td>\n",
       "      <td>1</td>\n",
       "      <td>0</td>\n",
       "      <td>0</td>\n",
       "      <td>0</td>\n",
       "    </tr>\n",
       "    <tr>\n",
       "      <th>13</th>\n",
       "      <td>1ST CHOICE DENTAL LLC</td>\n",
       "      <td>62 - Health Care and Social Assistance</td>\n",
       "      <td>BRIDGEVIEW</td>\n",
       "      <td>IL</td>\n",
       "      <td>0</td>\n",
       "      <td>0</td>\n",
       "      <td>1</td>\n",
       "      <td>0</td>\n",
       "    </tr>\n",
       "    <tr>\n",
       "      <th>14</th>\n",
       "      <td>1ST FINANCIAL FUNDING AND INVESTME</td>\n",
       "      <td>52 - Finance and Insurance</td>\n",
       "      <td>NEW YORK</td>\n",
       "      <td>NY</td>\n",
       "      <td>1</td>\n",
       "      <td>0</td>\n",
       "      <td>0</td>\n",
       "      <td>0</td>\n",
       "    </tr>\n",
       "    <tr>\n",
       "      <th>15</th>\n",
       "      <td>1ST FRANKLIN FINANCIAL CORPORATION</td>\n",
       "      <td>52 - Finance and Insurance</td>\n",
       "      <td>TOCCOA</td>\n",
       "      <td>GA</td>\n",
       "      <td>1</td>\n",
       "      <td>0</td>\n",
       "      <td>0</td>\n",
       "      <td>0</td>\n",
       "    </tr>\n",
       "    <tr>\n",
       "      <th>16</th>\n",
       "      <td>1ST PHORM INTERNATIONAL LLC</td>\n",
       "      <td>31-33 - Manufacturing</td>\n",
       "      <td>FENTON</td>\n",
       "      <td>MO</td>\n",
       "      <td>0</td>\n",
       "      <td>0</td>\n",
       "      <td>1</td>\n",
       "      <td>0</td>\n",
       "    </tr>\n",
       "    <tr>\n",
       "      <th>17</th>\n",
       "      <td>1ST RANKING TECHNOLOGIES</td>\n",
       "      <td>54 - Professional, Scientific, and Technical S...</td>\n",
       "      <td>LEWISVILLE</td>\n",
       "      <td>TX</td>\n",
       "      <td>4</td>\n",
       "      <td>0</td>\n",
       "      <td>3</td>\n",
       "      <td>0</td>\n",
       "    </tr>\n",
       "    <tr>\n",
       "      <th>18</th>\n",
       "      <td>1ST STREET FOUNDATION INC</td>\n",
       "      <td>81 - Other Services (except Public Administrat...</td>\n",
       "      <td>NEW YORK</td>\n",
       "      <td>NY</td>\n",
       "      <td>0</td>\n",
       "      <td>0</td>\n",
       "      <td>1</td>\n",
       "      <td>0</td>\n",
       "    </tr>\n",
       "    <tr>\n",
       "      <th>19</th>\n",
       "      <td>1ST-RECRUIT LLC</td>\n",
       "      <td>54 - Professional, Scientific, and Technical S...</td>\n",
       "      <td>WILMINGTON</td>\n",
       "      <td>DE</td>\n",
       "      <td>2</td>\n",
       "      <td>1</td>\n",
       "      <td>0</td>\n",
       "      <td>0</td>\n",
       "    </tr>\n",
       "    <tr>\n",
       "      <th>20</th>\n",
       "      <td>1STDIBS COM INC</td>\n",
       "      <td>42 - Wholesale Trade</td>\n",
       "      <td>NEW YORK</td>\n",
       "      <td>NY</td>\n",
       "      <td>0</td>\n",
       "      <td>0</td>\n",
       "      <td>1</td>\n",
       "      <td>0</td>\n",
       "    </tr>\n",
       "    <tr>\n",
       "      <th>21</th>\n",
       "      <td>1UP HEALTH INC</td>\n",
       "      <td>54 - Professional, Scientific, and Technical S...</td>\n",
       "      <td>BOSTON</td>\n",
       "      <td>MA</td>\n",
       "      <td>0</td>\n",
       "      <td>0</td>\n",
       "      <td>1</td>\n",
       "      <td>0</td>\n",
       "    </tr>\n",
       "  </tbody>\n",
       "</table>\n",
       "</div>"
      ],
      "text/plain": [
       "                   Employer (Petitioner) Name  \\\n",
       "2                       1 800 FLOWERS COM INC   \n",
       "3   1 HOTEL KAUAI LLC DBA 1 HOTEL HANALEI BAY   \n",
       "4                             1 OAK MEDIA LLC   \n",
       "5                          1 POINT SYSTEM LLC   \n",
       "6                         1 REALTY GLOBAL INC   \n",
       "7                               1 WAYDOOR LLC   \n",
       "8                   1CONNECT TECHNOLOGIES INC   \n",
       "9                      1LIFE HEALTHCARE, INC.   \n",
       "10                           1POINT3ACRES LLC   \n",
       "11                                 1RIVET LLC   \n",
       "12                    1SEO DIGITAL AGENCY LLC   \n",
       "13                      1ST CHOICE DENTAL LLC   \n",
       "14         1ST FINANCIAL FUNDING AND INVESTME   \n",
       "15         1ST FRANKLIN FINANCIAL CORPORATION   \n",
       "16                1ST PHORM INTERNATIONAL LLC   \n",
       "17                   1ST RANKING TECHNOLOGIES   \n",
       "18                  1ST STREET FOUNDATION INC   \n",
       "19                            1ST-RECRUIT LLC   \n",
       "20                            1STDIBS COM INC   \n",
       "21                             1UP HEALTH INC   \n",
       "\n",
       "                                Industry (NAICS) Code Petitioner City  \\\n",
       "2                                44-45 - Retail Trade         JERICHO   \n",
       "3                72 - Accommodation and Food Services           MIAMI   \n",
       "4   54 - Professional, Scientific, and Technical S...    LINCOLN CITY   \n",
       "5   54 - Professional, Scientific, and Technical S...       FORT MILL   \n",
       "6                          52 - Finance and Insurance          WALNUT   \n",
       "7   54 - Professional, Scientific, and Technical S...         CUMMING   \n",
       "8   54 - Professional, Scientific, and Technical S...      ALPHARETTA   \n",
       "9              62 - Health Care and Social Assistance   SAN FRANCISCO   \n",
       "10                                   51 - Information        BELLEVUE   \n",
       "11  54 - Professional, Scientific, and Technical S...          RESTON   \n",
       "12  54 - Professional, Scientific, and Technical S...         BRISTOL   \n",
       "13             62 - Health Care and Social Assistance      BRIDGEVIEW   \n",
       "14                         52 - Finance and Insurance        NEW YORK   \n",
       "15                         52 - Finance and Insurance          TOCCOA   \n",
       "16                              31-33 - Manufacturing          FENTON   \n",
       "17  54 - Professional, Scientific, and Technical S...      LEWISVILLE   \n",
       "18  81 - Other Services (except Public Administrat...        NEW YORK   \n",
       "19  54 - Professional, Scientific, and Technical S...      WILMINGTON   \n",
       "20                               42 - Wholesale Trade        NEW YORK   \n",
       "21  54 - Professional, Scientific, and Technical S...          BOSTON   \n",
       "\n",
       "   Petitioner State Initial Approval  Initial Denial Continuing Approval  \\\n",
       "2                NY                1               0                   5   \n",
       "3                FL                0               0                   1   \n",
       "4                OR                1               0                   0   \n",
       "5                SC                1               0                   1   \n",
       "6                CA                1               0                   0   \n",
       "7                GA                0               0                   1   \n",
       "8                GA                0               1                   3   \n",
       "9                CA                0               0                   1   \n",
       "10               WA                1               0                   0   \n",
       "11               VA                0               0                   1   \n",
       "12               PA                1               0                   0   \n",
       "13               IL                0               0                   1   \n",
       "14               NY                1               0                   0   \n",
       "15               GA                1               0                   0   \n",
       "16               MO                0               0                   1   \n",
       "17               TX                4               0                   3   \n",
       "18               NY                0               0                   1   \n",
       "19               DE                2               1                   0   \n",
       "20               NY                0               0                   1   \n",
       "21               MA                0               0                   1   \n",
       "\n",
       "    Continuing Denial  \n",
       "2                   0  \n",
       "3                   0  \n",
       "4                   0  \n",
       "5                   0  \n",
       "6                   0  \n",
       "7                   0  \n",
       "8                   0  \n",
       "9                   0  \n",
       "10                  0  \n",
       "11                  0  \n",
       "12                  0  \n",
       "13                  0  \n",
       "14                  0  \n",
       "15                  0  \n",
       "16                  0  \n",
       "17                  0  \n",
       "18                  0  \n",
       "19                  0  \n",
       "20                  0  \n",
       "21                  0  "
      ]
     },
     "execution_count": 65,
     "metadata": {},
     "output_type": "execute_result"
    }
   ],
   "source": []
  },
  {
   "cell_type": "markdown",
   "metadata": {},
   "source": [
    "<h1> PERM Applications</h1>\n",
    "<p> Dtata sourced from https://www.dol.gov/agencies/eta/foreign-labor/performance?utm_source=chatgpt.com</p>"
   ]
  },
  {
   "cell_type": "code",
   "execution_count": 3,
   "metadata": {},
   "outputs": [
    {
     "data": {
      "text/html": [
       "<div>\n",
       "<style scoped>\n",
       "    .dataframe tbody tr th:only-of-type {\n",
       "        vertical-align: middle;\n",
       "    }\n",
       "\n",
       "    .dataframe tbody tr th {\n",
       "        vertical-align: top;\n",
       "    }\n",
       "\n",
       "    .dataframe thead th {\n",
       "        text-align: right;\n",
       "    }\n",
       "</style>\n",
       "<table border=\"1\" class=\"dataframe\">\n",
       "  <thead>\n",
       "    <tr style=\"text-align: right;\">\n",
       "      <th></th>\n",
       "      <th>CASE_STATUS</th>\n",
       "      <th>RECEIVED_DATE</th>\n",
       "      <th>DECISION_DATE</th>\n",
       "      <th>REFILE</th>\n",
       "      <th>ORIG_FILE_DATE</th>\n",
       "      <th>PREVIOUS_SWA_CASE_NUMBER_STATE</th>\n",
       "      <th>SCHD_A_SHEEPHERDER</th>\n",
       "      <th>EMPLOYER_NAME</th>\n",
       "      <th>EMPLOYER_ADDRESS_1</th>\n",
       "      <th>EMPLOYER_ADDRESS_2</th>\n",
       "      <th>...</th>\n",
       "      <th>FOREIGN_WORKER_ALT_OCC_EXP</th>\n",
       "      <th>FOREIGN_WORKER_EXP_WITH_EMPL</th>\n",
       "      <th>FOREIGN_WORKER_EMPL_PAY_FOR_ED</th>\n",
       "      <th>FOREIGN_WORKER_CURR_EMPLOYED</th>\n",
       "      <th>EMPLOYER_COMPLETED_APPLICATION</th>\n",
       "      <th>PREPARER_NAME</th>\n",
       "      <th>PREPARER_TITLE</th>\n",
       "      <th>PREPARER_EMAIL</th>\n",
       "      <th>EMP_INFO_DECL_NAME</th>\n",
       "      <th>EMP_DECL_TITLE</th>\n",
       "    </tr>\n",
       "    <tr>\n",
       "      <th>CASE_NUMBER</th>\n",
       "      <th></th>\n",
       "      <th></th>\n",
       "      <th></th>\n",
       "      <th></th>\n",
       "      <th></th>\n",
       "      <th></th>\n",
       "      <th></th>\n",
       "      <th></th>\n",
       "      <th></th>\n",
       "      <th></th>\n",
       "      <th></th>\n",
       "      <th></th>\n",
       "      <th></th>\n",
       "      <th></th>\n",
       "      <th></th>\n",
       "      <th></th>\n",
       "      <th></th>\n",
       "      <th></th>\n",
       "      <th></th>\n",
       "      <th></th>\n",
       "      <th></th>\n",
       "    </tr>\n",
       "  </thead>\n",
       "  <tbody>\n",
       "    <tr>\n",
       "      <th>A-23043-00641</th>\n",
       "      <td>Withdrawn</td>\n",
       "      <td>2023-02-12</td>\n",
       "      <td>2023-10-01</td>\n",
       "      <td>N</td>\n",
       "      <td>NaT</td>\n",
       "      <td>NaN</td>\n",
       "      <td>N</td>\n",
       "      <td>LIBERTY CIVIL CONSTRUCTION, LLC</td>\n",
       "      <td>2937 HERO WAY</td>\n",
       "      <td>NaN</td>\n",
       "      <td>...</td>\n",
       "      <td>NaN</td>\n",
       "      <td>Y</td>\n",
       "      <td>Y</td>\n",
       "      <td>N</td>\n",
       "      <td>Y</td>\n",
       "      <td></td>\n",
       "      <td>NaN</td>\n",
       "      <td>NaN</td>\n",
       "      <td>Brandon F Menjivar Molina</td>\n",
       "      <td>Please help me guys Im still studying and working</td>\n",
       "    </tr>\n",
       "    <tr>\n",
       "      <th>A-22256-20380</th>\n",
       "      <td>Certified-Expired</td>\n",
       "      <td>2022-09-22</td>\n",
       "      <td>2023-10-02</td>\n",
       "      <td>N</td>\n",
       "      <td>NaT</td>\n",
       "      <td>NaN</td>\n",
       "      <td>N</td>\n",
       "      <td>Siser North America</td>\n",
       "      <td>12900 Hall Road</td>\n",
       "      <td>Suite 270</td>\n",
       "      <td>...</td>\n",
       "      <td>Y</td>\n",
       "      <td>N</td>\n",
       "      <td>N</td>\n",
       "      <td>Y</td>\n",
       "      <td>N</td>\n",
       "      <td>Marshal E Hyman</td>\n",
       "      <td>Attorney</td>\n",
       "      <td>sharonw@marshalhyman.com</td>\n",
       "      <td>Daniele  Stocks</td>\n",
       "      <td>HR Business Partner</td>\n",
       "    </tr>\n",
       "    <tr>\n",
       "      <th>A-22271-30061</th>\n",
       "      <td>Certified-Expired</td>\n",
       "      <td>2022-10-24</td>\n",
       "      <td>2023-10-02</td>\n",
       "      <td>N</td>\n",
       "      <td>NaT</td>\n",
       "      <td>NaN</td>\n",
       "      <td>N</td>\n",
       "      <td>Blend360 LLC</td>\n",
       "      <td>10221 Wincopin Circle</td>\n",
       "      <td>Suite 300</td>\n",
       "      <td>...</td>\n",
       "      <td>Y</td>\n",
       "      <td>N</td>\n",
       "      <td>N</td>\n",
       "      <td>Y</td>\n",
       "      <td>N</td>\n",
       "      <td>Sufen  Zhang</td>\n",
       "      <td>Principal</td>\n",
       "      <td>szhang@milesstockbridge.com</td>\n",
       "      <td>Sara B Waire</td>\n",
       "      <td>Immigration Operations Coordinator</td>\n",
       "    </tr>\n",
       "    <tr>\n",
       "      <th>A-22272-30740</th>\n",
       "      <td>Certified-Expired</td>\n",
       "      <td>2022-10-24</td>\n",
       "      <td>2023-10-02</td>\n",
       "      <td>N</td>\n",
       "      <td>NaT</td>\n",
       "      <td>NaN</td>\n",
       "      <td>N</td>\n",
       "      <td>Blend360 LLC</td>\n",
       "      <td>10221 Wincopin Circle</td>\n",
       "      <td>Suite 300</td>\n",
       "      <td>...</td>\n",
       "      <td>Y</td>\n",
       "      <td>N</td>\n",
       "      <td>N</td>\n",
       "      <td>Y</td>\n",
       "      <td>N</td>\n",
       "      <td>Sufen  Zhang</td>\n",
       "      <td>Principal</td>\n",
       "      <td>szhang@milesstockbridge.com</td>\n",
       "      <td>Sara B Waire</td>\n",
       "      <td>Immigration Operations Coordinator</td>\n",
       "    </tr>\n",
       "    <tr>\n",
       "      <th>A-22185-82932</th>\n",
       "      <td>Certified-Expired</td>\n",
       "      <td>2022-07-26</td>\n",
       "      <td>2023-10-02</td>\n",
       "      <td>N</td>\n",
       "      <td>NaT</td>\n",
       "      <td>NaN</td>\n",
       "      <td>N</td>\n",
       "      <td>AMDOCS INC.</td>\n",
       "      <td>625 MARYVILLE CENTRE DRIVE</td>\n",
       "      <td>STE 200</td>\n",
       "      <td>...</td>\n",
       "      <td>Y</td>\n",
       "      <td>N</td>\n",
       "      <td>N</td>\n",
       "      <td>Y</td>\n",
       "      <td>N</td>\n",
       "      <td>Warren M Schultz</td>\n",
       "      <td>Attorney</td>\n",
       "      <td>teamEBUcorp@fragomen.com</td>\n",
       "      <td>Priscilla J Craig</td>\n",
       "      <td>Regional Immigration Manager  Americas</td>\n",
       "    </tr>\n",
       "  </tbody>\n",
       "</table>\n",
       "<p>5 rows × 154 columns</p>\n",
       "</div>"
      ],
      "text/plain": [
       "                     CASE_STATUS RECEIVED_DATE DECISION_DATE REFILE  \\\n",
       "CASE_NUMBER                                                           \n",
       "A-23043-00641          Withdrawn    2023-02-12    2023-10-01      N   \n",
       "A-22256-20380  Certified-Expired    2022-09-22    2023-10-02      N   \n",
       "A-22271-30061  Certified-Expired    2022-10-24    2023-10-02      N   \n",
       "A-22272-30740  Certified-Expired    2022-10-24    2023-10-02      N   \n",
       "A-22185-82932  Certified-Expired    2022-07-26    2023-10-02      N   \n",
       "\n",
       "              ORIG_FILE_DATE PREVIOUS_SWA_CASE_NUMBER_STATE  \\\n",
       "CASE_NUMBER                                                   \n",
       "A-23043-00641            NaT                            NaN   \n",
       "A-22256-20380            NaT                            NaN   \n",
       "A-22271-30061            NaT                            NaN   \n",
       "A-22272-30740            NaT                            NaN   \n",
       "A-22185-82932            NaT                            NaN   \n",
       "\n",
       "              SCHD_A_SHEEPHERDER                    EMPLOYER_NAME  \\\n",
       "CASE_NUMBER                                                         \n",
       "A-23043-00641                  N  LIBERTY CIVIL CONSTRUCTION, LLC   \n",
       "A-22256-20380                  N              Siser North America   \n",
       "A-22271-30061                  N                     Blend360 LLC   \n",
       "A-22272-30740                  N                     Blend360 LLC   \n",
       "A-22185-82932                  N                      AMDOCS INC.   \n",
       "\n",
       "                       EMPLOYER_ADDRESS_1 EMPLOYER_ADDRESS_2  ...  \\\n",
       "CASE_NUMBER                                                   ...   \n",
       "A-23043-00641               2937 HERO WAY                NaN  ...   \n",
       "A-22256-20380             12900 Hall Road          Suite 270  ...   \n",
       "A-22271-30061       10221 Wincopin Circle          Suite 300  ...   \n",
       "A-22272-30740       10221 Wincopin Circle          Suite 300  ...   \n",
       "A-22185-82932  625 MARYVILLE CENTRE DRIVE            STE 200  ...   \n",
       "\n",
       "              FOREIGN_WORKER_ALT_OCC_EXP FOREIGN_WORKER_EXP_WITH_EMPL  \\\n",
       "CASE_NUMBER                                                             \n",
       "A-23043-00641                        NaN                            Y   \n",
       "A-22256-20380                          Y                            N   \n",
       "A-22271-30061                          Y                            N   \n",
       "A-22272-30740                          Y                            N   \n",
       "A-22185-82932                          Y                            N   \n",
       "\n",
       "              FOREIGN_WORKER_EMPL_PAY_FOR_ED FOREIGN_WORKER_CURR_EMPLOYED  \\\n",
       "CASE_NUMBER                                                                 \n",
       "A-23043-00641                              Y                            N   \n",
       "A-22256-20380                              N                            Y   \n",
       "A-22271-30061                              N                            Y   \n",
       "A-22272-30740                              N                            Y   \n",
       "A-22185-82932                              N                            Y   \n",
       "\n",
       "              EMPLOYER_COMPLETED_APPLICATION     PREPARER_NAME  \\\n",
       "CASE_NUMBER                                                      \n",
       "A-23043-00641                              Y                     \n",
       "A-22256-20380                              N   Marshal E Hyman   \n",
       "A-22271-30061                              N      Sufen  Zhang   \n",
       "A-22272-30740                              N      Sufen  Zhang   \n",
       "A-22185-82932                              N  Warren M Schultz   \n",
       "\n",
       "               PREPARER_TITLE               PREPARER_EMAIL  \\\n",
       "CASE_NUMBER                                                  \n",
       "A-23043-00641             NaN                          NaN   \n",
       "A-22256-20380        Attorney     sharonw@marshalhyman.com   \n",
       "A-22271-30061       Principal  szhang@milesstockbridge.com   \n",
       "A-22272-30740       Principal  szhang@milesstockbridge.com   \n",
       "A-22185-82932        Attorney     teamEBUcorp@fragomen.com   \n",
       "\n",
       "                      EMP_INFO_DECL_NAME  \\\n",
       "CASE_NUMBER                                \n",
       "A-23043-00641  Brandon F Menjivar Molina   \n",
       "A-22256-20380            Daniele  Stocks   \n",
       "A-22271-30061               Sara B Waire   \n",
       "A-22272-30740               Sara B Waire   \n",
       "A-22185-82932          Priscilla J Craig   \n",
       "\n",
       "                                                  EMP_DECL_TITLE  \n",
       "CASE_NUMBER                                                       \n",
       "A-23043-00641  Please help me guys Im still studying and working  \n",
       "A-22256-20380                                HR Business Partner  \n",
       "A-22271-30061                 Immigration Operations Coordinator  \n",
       "A-22272-30740                 Immigration Operations Coordinator  \n",
       "A-22185-82932             Regional Immigration Manager  Americas  \n",
       "\n",
       "[5 rows x 154 columns]"
      ]
     },
     "execution_count": 3,
     "metadata": {},
     "output_type": "execute_result"
    }
   ],
   "source": [
    "# Loading filr in excel\n",
    "perm = pd.read_excel(\"PERM.xlsx\", sheet_name='PERM_Disclosure_FY2024_Q4',index_col=0)\n",
    "perm.head()"
   ]
  },
  {
   "cell_type": "code",
   "execution_count": 21,
   "metadata": {},
   "outputs": [
    {
     "data": {
      "text/plain": [
       "CASE_STATUS               0\n",
       "RECEIVED_DATE             0\n",
       "DECISION_DATE             0\n",
       "REFILE                    1\n",
       "ORIG_FILE_DATE        92208\n",
       "                      ...  \n",
       "PREPARER_NAME             0\n",
       "PREPARER_TITLE        10285\n",
       "PREPARER_EMAIL        10304\n",
       "EMP_INFO_DECL_NAME        0\n",
       "EMP_DECL_TITLE            7\n",
       "Length: 154, dtype: int64"
      ]
     },
     "execution_count": 21,
     "metadata": {},
     "output_type": "execute_result"
    }
   ],
   "source": [
    "# Checking for missing values(Perm Appplication)\n",
    "perm.isnull().sum()"
   ]
  },
  {
   "cell_type": "code",
   "execution_count": 24,
   "metadata": {},
   "outputs": [
    {
     "name": "stdout",
     "output_type": "stream",
     "text": [
      "(61456, 11)\n",
      "Index(['Fiscal Year   ', 'Employer (Petitioner) Name', 'Tax ID',\n",
      "       'Industry (NAICS) Code', 'Petitioner City', 'Petitioner State',\n",
      "       'Petitioner Zip Code', 'Initial Approval', 'Initial Denial',\n",
      "       'Continuing Approval', 'Continuing Denial'],\n",
      "      dtype='object')\n"
     ]
    }
   ],
   "source": [
    "print(employer.shape)\n",
    "print(employer.columns)"
   ]
  },
  {
   "cell_type": "code",
   "execution_count": 27,
   "metadata": {},
   "outputs": [
    {
     "data": {
      "text/plain": [
       "array([2024])"
      ]
     },
     "execution_count": 27,
     "metadata": {},
     "output_type": "execute_result"
    }
   ],
   "source": [
    "# Unique values in the column\n",
    "employer['Fiscal Year   '].unique()"
   ]
  }
 ],
 "metadata": {
  "kernelspec": {
   "display_name": "capenv",
   "language": "python",
   "name": "python3"
  },
  "language_info": {
   "codemirror_mode": {
    "name": "ipython",
    "version": 3
   },
   "file_extension": ".py",
   "mimetype": "text/x-python",
   "name": "python",
   "nbconvert_exporter": "python",
   "pygments_lexer": "ipython3",
   "version": "3.12.3"
  }
 },
 "nbformat": 4,
 "nbformat_minor": 2
}
